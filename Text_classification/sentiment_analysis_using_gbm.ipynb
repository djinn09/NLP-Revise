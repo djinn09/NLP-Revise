{
 "cells": [
  {
   "cell_type": "code",
   "execution_count": null,
   "metadata": {
    "id": "FBX-ATH2-ZR8"
   },
   "outputs": [],
   "source": [
    "!apt-get install default-jre\n",
    "!java -version"
   ]
  },
  {
   "cell_type": "code",
   "execution_count": null,
   "metadata": {
    "id": "au4zvvjG-gwG"
   },
   "outputs": [],
   "source": [
    "!pip install h2o"
   ]
  },
  {
   "cell_type": "code",
   "execution_count": null,
   "metadata": {
    "id": "QQBHUatx-mLD"
   },
   "outputs": [],
   "source": [
    "import h2o\n"
   ]
  },
  {
   "cell_type": "code",
   "execution_count": null,
   "metadata": {
    "id": "BM2vTvf0-3B5"
   },
   "outputs": [],
   "source": [
    "h2o.init()"
   ]
  },
  {
   "cell_type": "code",
   "execution_count": null,
   "metadata": {
    "id": "zTaZx7b1-3kD"
   },
   "outputs": [],
   "source": [
    "import tensorflow_datasets as tfds"
   ]
  },
  {
   "cell_type": "code",
   "execution_count": null,
   "metadata": {
    "id": "3w6-ZudY_G_T"
   },
   "outputs": [],
   "source": [
    "dataset,info = tfds.load(\"amazon_us_reviews/Personal_Care_Appliances_v1_00\",with_info=True,batch_size=-1)"
   ]
  },
  {
   "cell_type": "code",
   "execution_count": null,
   "metadata": {
    "id": "O7ry99gx_UNQ"
   },
   "outputs": [],
   "source": [
    "train_dataset = dataset[\"train\"]"
   ]
  },
  {
   "cell_type": "code",
   "execution_count": null,
   "metadata": {
    "id": "xaeTVyk8_jc6"
   },
   "outputs": [],
   "source": [
    "info"
   ]
  },
  {
   "cell_type": "code",
   "execution_count": null,
   "metadata": {
    "id": "-eClQGzxCFeK"
   },
   "outputs": [],
   "source": [
    "dataset = tfds.as_numpy(train_dataset)"
   ]
  },
  {
   "cell_type": "code",
   "execution_count": null,
   "metadata": {
    "id": "ltqpLZuyCFg0"
   },
   "outputs": [],
   "source": [
    "dataset"
   ]
  },
  {
   "cell_type": "code",
   "execution_count": null,
   "metadata": {
    "id": "hLohY26SCFjv"
   },
   "outputs": [],
   "source": [
    "helpful_votes = dataset[\"data\"][\"helpful_votes\"]\n",
    "review_headline = dataset[\"data\"][\"review_headline\"]\n",
    "review_body = dataset[\"data\"][\"review_body\"]\n",
    "star_rating = dataset[\"data\"][\"star_rating\"]\n"
   ]
  },
  {
   "cell_type": "code",
   "execution_count": null,
   "metadata": {
    "id": "W0z7pkSlD5zQ"
   },
   "outputs": [],
   "source": [
    "import numpy as np"
   ]
  },
  {
   "cell_type": "code",
   "execution_count": null,
   "metadata": {
    "id": "mjBBMooiCFl_"
   },
   "outputs": [],
   "source": [
    "reviewdf = h2o.H2OFrame(\n",
    "    np.hstack((helpful_votes[:,None],review_headline[:,None],review_body[:,None],star_rating[:,None])),\n",
    "    column_names=[\"votes\",\"headline\",\"review\",\"rating\"],\n",
    "    column_types=[\"numeric\", \"string\", \"string\",\"numeric\"]\n",
    ")"
   ]
  },
  {
   "cell_type": "code",
   "execution_count": null,
   "metadata": {
    "id": "O-xYQxWgCFow"
   },
   "outputs": [],
   "source": [
    "reviewdf.head(2)"
   ]
  },
  {
   "cell_type": "code",
   "execution_count": null,
   "metadata": {
    "id": "iz4AVR9rCFra"
   },
   "outputs": [],
   "source": [
    "reviewdf[\"target\"] = (reviewdf[\"rating\"] >= 4).ifelse(\"1\",\"0\")"
   ]
  },
  {
   "cell_type": "code",
   "execution_count": null,
   "metadata": {
    "id": "6LfRFTWcCAho"
   },
   "outputs": [],
   "source": [
    "reviewdf.head(2)"
   ]
  },
  {
   "cell_type": "code",
   "execution_count": null,
   "metadata": {
    "id": "3whRk2cQ_ogu"
   },
   "outputs": [],
   "source": [
    "reviewdf.shape"
   ]
  },
  {
   "cell_type": "code",
   "execution_count": null,
   "metadata": {
    "id": "hsNxx17Q_qD6"
   },
   "outputs": [],
   "source": [
    "reviewdf[\"target\"].table()"
   ]
  },
  {
   "cell_type": "code",
   "execution_count": null,
   "metadata": {
    "id": "6jRALbCY_wZj"
   },
   "outputs": [],
   "source": [
    "import nltk\n",
    "from nltk.corpus import stopwords\n",
    "nltk.download('stopwords')\n",
    "stop_words = set(stopwords.words(\"english\"))"
   ]
  },
  {
   "cell_type": "code",
   "execution_count": null,
   "metadata": {
    "id": "I1Q9ZMZn_r1F"
   },
   "outputs": [],
   "source": [
    "def preprocess_text(line):\n",
    "    tokenized = line.tokenize(\"\\\\W+\")\n",
    "    tokenized = tokenized.trim()\n",
    "    tokenized = tokenized.tolower()\n",
    "    tokenized = tokenized[(tokenized.nchar() >= 2) | (tokenized.isna()) , : ]\n",
    "    tokenized_filter = tokenized[ (tokenized.isna()) | (  ~ tokenized.isin(stop_words)), : ]\n",
    "    return tokenized"
   ]
  },
  {
   "cell_type": "code",
   "execution_count": null,
   "metadata": {
    "id": "qFRHvRDV_3Vn"
   },
   "outputs": [],
   "source": [
    "word_reviews = preprocess_text(reviewdf[\"review\"])"
   ]
  },
  {
   "cell_type": "code",
   "execution_count": null,
   "metadata": {
    "id": "2wstd1Js_5Mk"
   },
   "outputs": [],
   "source": [
    "word_reviews.head(5)"
   ]
  },
  {
   "cell_type": "code",
   "execution_count": null,
   "metadata": {
    "id": "klMPn0Sb___7"
   },
   "outputs": [],
   "source": [
    "word_headline = preprocess_text(reviewdf[\"headline\"])"
   ]
  },
  {
   "cell_type": "code",
   "execution_count": null,
   "metadata": {
    "id": "bNOnpfgjAGAe"
   },
   "outputs": [],
   "source": [
    "word_headline.head()"
   ]
  },
  {
   "cell_type": "code",
   "execution_count": null,
   "metadata": {
    "id": "F1woUTBGAJXl"
   },
   "outputs": [],
   "source": [
    "from h2o.estimators import H2OWord2vecEstimator, H2OGradientBoostingEstimator,H2OXGBoostEstimator"
   ]
  },
  {
   "cell_type": "code",
   "execution_count": null,
   "metadata": {
    "id": "uIrq9tI3AL2e"
   },
   "outputs": [],
   "source": [
    "vec_model = H2OWord2vecEstimator(vec_size = 100, model_id = \"reviews_w2v.model\")\n",
    "vec_model.train(training_frame=word_reviews)"
   ]
  },
  {
   "cell_type": "code",
   "execution_count": null,
   "metadata": {
    "id": "ekgAaxV4AOPz"
   },
   "outputs": [],
   "source": [
    "vec_model.find_synonyms(\"toothpaste\")"
   ]
  },
  {
   "cell_type": "code",
   "execution_count": null,
   "metadata": {
    "id": "FUw6fSm0AQRT"
   },
   "outputs": [],
   "source": [
    "h2o.save_model(vec_model,path=\"./\")"
   ]
  },
  {
   "cell_type": "code",
   "execution_count": null,
   "metadata": {
    "id": "cet-tJFTAR3e"
   },
   "outputs": [],
   "source": [
    "review_vecs = vec_model.transform(word_reviews,aggregate_method=\"AVERAGE\")"
   ]
  },
  {
   "cell_type": "code",
   "execution_count": null,
   "metadata": {
    "id": "Zeu5-dO4AUwQ"
   },
   "outputs": [],
   "source": [
    "reviewdf_ext = reviewdf.cbind(review_vecs)"
   ]
  },
  {
   "cell_type": "code",
   "execution_count": null,
   "metadata": {
    "id": "0ye0cun1AaK2"
   },
   "outputs": [],
   "source": [
    "df_train,df_valid = reviewdf_ext.split_frame(ratios=[0.8])"
   ]
  },
  {
   "cell_type": "code",
   "execution_count": null,
   "metadata": {
    "id": "CzDrhBW3AamN"
   },
   "outputs": [],
   "source": [
    "df_valid[\"target\"].table()"
   ]
  },
  {
   "cell_type": "code",
   "execution_count": null,
   "metadata": {
    "id": "Aoq36xqlAcJE"
   },
   "outputs": [],
   "source": [
    "gbm_baseline = H2OGradientBoostingEstimator(\n",
    "    stopping_metric=\"AUC\",stopping_tolerance=0.001,stopping_rounds=5,score_tree_interval=10\n",
    ")"
   ]
  },
  {
   "cell_type": "code",
   "execution_count": null,
   "metadata": {
    "id": "e0sT-SP0Adf-"
   },
   "outputs": [],
   "source": [
    "gbm_baseline.train(x=review_vecs.names,y=\"target\",training_frame=df_train,validation_frame=df_valid)"
   ]
  },
  {
   "cell_type": "code",
   "execution_count": null,
   "metadata": {
    "id": "JV2Y-rr5Ahd4"
   },
   "outputs": [],
   "source": [
    "print(\"Baseline Auc\",round( gbm_baseline.auc(valid=True), 3 ) )"
   ]
  },
  {
   "cell_type": "code",
   "execution_count": null,
   "metadata": {
    "id": "3XjdXNUxAh6Z"
   },
   "outputs": [],
   "source": [
    "gbm_baseline.confusion_matrix(valid=True)"
   ]
  },
  {
   "cell_type": "code",
   "execution_count": null,
   "metadata": {
    "id": "dVV7KpunBrn-"
   },
   "outputs": [],
   "source": [
    "gbm_balanced = H2OGradientBoostingEstimator(\n",
    "    stopping_metric=\"AUC\",stopping_tolerance=0.001,stopping_rounds=5,score_tree_interval=10,\n",
    "    balance_classes=True\n",
    ")"
   ]
  },
  {
   "cell_type": "code",
   "execution_count": null,
   "metadata": {
    "id": "C2bYJzeIBunC"
   },
   "outputs": [],
   "source": [
    "gbm_balanced.train(x=review_vecs.names,y=\"target\",training_frame=df_train,validation_frame=df_valid)"
   ]
  },
  {
   "cell_type": "code",
   "execution_count": null,
   "metadata": {
    "id": "CZH7mivTBvHm"
   },
   "outputs": [],
   "source": [
    "print(\"Balaced AUC : \",round( gbm_balanced.auc(valid=True), 3 ) )"
   ]
  },
  {
   "cell_type": "code",
   "execution_count": null,
   "metadata": {
    "id": "nAMo4HXlBw80"
   },
   "outputs": [],
   "source": [
    "gbm_balanced.confusion_matrix(valid=True)"
   ]
  },
  {
   "cell_type": "code",
   "execution_count": null,
   "metadata": {
    "id": "Yl26gIZoByT2"
   },
   "outputs": [],
   "source": [
    "gbm_baseline_add_col = H2OGradientBoostingEstimator(\n",
    "    stopping_metric=\"AUC\",stopping_tolerance=0.001,stopping_rounds=5,score_tree_interval=10\n",
    ")"
   ]
  },
  {
   "cell_type": "code",
   "execution_count": null,
   "metadata": {
    "id": "W2FL0bAaB0dn"
   },
   "outputs": [],
   "source": [
    "gbm_baseline_add_col.train(x=[\"votes\"] + review_vecs.names,\n",
    "                           y=\"target\",training_frame=df_train,validation_frame=df_valid)"
   ]
  },
  {
   "cell_type": "code",
   "execution_count": null,
   "metadata": {
    "id": "AGMUdHQjB7uE"
   },
   "outputs": [],
   "source": [
    "print(\"Baseline Add colAUC : \",round( gbm_baseline_add_col.auc(valid=True), 3 ) )"
   ]
  },
  {
   "cell_type": "code",
   "execution_count": null,
   "metadata": {
    "id": "H1LJMCyqB9qf"
   },
   "outputs": [],
   "source": [
    "gbm_baseline_add_col.confusion_matrix(valid=True)"
   ]
  },
  {
   "cell_type": "code",
   "execution_count": null,
   "metadata": {
    "id": "l6QgfBEaB_Sj"
   },
   "outputs": [],
   "source": [
    "headline_vecs = vec_model.transform(word_headline, aggregate_method=\"AVERAGE\")\n",
    "headline_vecs.names = [\"headline_\" + s for s in headline_vecs.names]"
   ]
  },
  {
   "cell_type": "code",
   "execution_count": null,
   "metadata": {
    "id": "3QfMBBy8CLIP"
   },
   "outputs": [],
   "source": [
    "headline_vecs.head(2)"
   ]
  },
  {
   "cell_type": "code",
   "execution_count": null,
   "metadata": {
    "id": "-8Bhcm72CNTf"
   },
   "outputs": [],
   "source": [
    "reviewdf_ext = reviewdf_ext.cbind(headline_vecs)"
   ]
  },
  {
   "cell_type": "code",
   "execution_count": null,
   "metadata": {
    "id": "-cDBQpNPCSgU"
   },
   "outputs": [],
   "source": [
    "df_train,df_valid = reviewdf_ext.split_frame(ratios=[0.8,])"
   ]
  },
  {
   "cell_type": "code",
   "execution_count": null,
   "metadata": {
    "id": "7QbGhjlrDz7H"
   },
   "outputs": [],
   "source": [
    "gbm_baseline_all_col = H2OGradientBoostingEstimator(\n",
    "    stopping_metric=\"AUC\",stopping_tolerance=0.001,stopping_rounds=5,score_tree_interval=10\n",
    ")"
   ]
  },
  {
   "cell_type": "code",
   "execution_count": null,
   "metadata": {
    "id": "nz0cAC12D2Ud"
   },
   "outputs": [],
   "source": [
    "gbm_baseline_all_col.train(\n",
    "    x=[\"votes\"] + review_vecs.names + headline_vecs.names,\n",
    "                           y=\"target\",training_frame=df_train,validation_frame=df_valid\n",
    "    )"
   ]
  },
  {
   "cell_type": "code",
   "execution_count": null,
   "metadata": {
    "id": "vwLGQrjzD68N"
   },
   "outputs": [],
   "source": [
    "print(\"Baseline All col AUC : \",round( gbm_baseline_all_col.auc(valid=True), 3 ) )"
   ]
  },
  {
   "cell_type": "code",
   "execution_count": null,
   "metadata": {
    "id": "yzmoCQZuD8o8"
   },
   "outputs": [],
   "source": [
    "gbm_baseline_all_col.confusion_matrix(valid=True)"
   ]
  },
  {
   "cell_type": "code",
   "execution_count": null,
   "metadata": {
    "id": "Vp74jsn3D-XV"
   },
   "outputs": [],
   "source": [
    "gbm_baseline_all_col.score_history()"
   ]
  },
  {
   "cell_type": "code",
   "execution_count": null,
   "metadata": {
    "id": "6AavfjtGD_52"
   },
   "outputs": [],
   "source": [
    "gbm_baseline_all_col.varimp_plot()"
   ]
  },
  {
   "cell_type": "code",
   "execution_count": null,
   "metadata": {
    "id": "zQXNkd9VEBmx"
   },
   "outputs": [],
   "source": [
    "gbm_hyper= H2OGradientBoostingEstimator(\n",
    "    ntrees=100,max_depth= 6, learn_rate=0.1\n",
    ")"
   ]
  },
  {
   "cell_type": "code",
   "execution_count": null,
   "metadata": {
    "id": "I8Z8KtoDED3N"
   },
   "outputs": [],
   "source": [
    "gbm_hyper.train(\n",
    "    x=[\"votes\"] + review_vecs.names + headline_vecs.names,\n",
    "                           y=\"target\",training_frame=df_train,validation_frame=df_valid\n",
    "    )"
   ]
  },
  {
   "cell_type": "code",
   "execution_count": null,
   "metadata": {
    "id": "zSJIrw2YFS26"
   },
   "outputs": [],
   "source": [
    "print(\"Hyperparameter AUC : \",round( gbm_hyper.auc(valid=True), 3 ) )"
   ]
  },
  {
   "cell_type": "code",
   "execution_count": null,
   "metadata": {
    "id": "8TlPRtmYFTZ2"
   },
   "outputs": [],
   "source": [
    "gbm_hyper.confusion_matrix(valid=True)"
   ]
  },
  {
   "cell_type": "code",
   "execution_count": null,
   "metadata": {
    "id": "YvWIy_FyFVEY"
   },
   "outputs": [],
   "source": [
    "gbm_hyper.score_history()"
   ]
  },
  {
   "cell_type": "code",
   "execution_count": null,
   "metadata": {
    "id": "ae4OLw-xFW9J"
   },
   "outputs": [],
   "source": [
    "gbm_hyper.varimp_plot()\n"
   ]
  },
  {
   "cell_type": "code",
   "execution_count": null,
   "metadata": {
    "id": "_khQeKF3FYug"
   },
   "outputs": [],
   "source": [
    "xgb_feat_all= H2OXGBoostEstimator(\n",
    "    ntrees=100,max_depth= 6, learn_rate=0.1,max_leaves = 6,tree_method=\"hist\", grow_policy=\"lossguide\"\n",
    ")"
   ]
  },
  {
   "cell_type": "code",
   "execution_count": null,
   "metadata": {
    "id": "Ldak45Z_0yTw"
   },
   "outputs": [],
   "source": [
    "xgb_feat_all.train(\n",
    "    x=[\"votes\"] + review_vecs.names + headline_vecs.names,\n",
    "                           y=\"target\",training_frame=df_train,validation_frame=df_valid\n",
    "    )"
   ]
  },
  {
   "cell_type": "code",
   "execution_count": null,
   "metadata": {
    "id": "gh-JVify06dm"
   },
   "outputs": [],
   "source": [
    "print(\"Hyperparameter AUC : \",round( xgb_feat_all.auc(valid=True), 3 ) )"
   ]
  },
  {
   "cell_type": "code",
   "execution_count": null,
   "metadata": {
    "id": "PoVMvGQA0-Af"
   },
   "outputs": [],
   "source": [
    "xgb_feat_all.confusion_matrix(valid=True)"
   ]
  },
  {
   "cell_type": "code",
   "execution_count": null,
   "metadata": {
    "id": "Iu-FxvPP1Axn"
   },
   "outputs": [],
   "source": [
    "df_train,df_valid,df_test = reviewdf_ext.split_frame(ratios=[0.7,0.15])"
   ]
  },
  {
   "cell_type": "code",
   "execution_count": null,
   "metadata": {
    "id": "M8q6XJcR1X2C"
   },
   "outputs": [],
   "source": [
    "gbm_final= H2OXGBoostEstimator(\n",
    "    ntrees=200,max_depth= 6, learn_rate=0.1,\n",
    ")"
   ]
  },
  {
   "cell_type": "code",
   "execution_count": null,
   "metadata": {
    "id": "YaoIjxiu1hHL"
   },
   "outputs": [],
   "source": [
    "gbm_final.train(\n",
    "    x=[\"votes\"] + review_vecs.names + headline_vecs.names,\n",
    "                           y=\"target\",training_frame=df_train,validation_frame=df_valid\n",
    "    )"
   ]
  },
  {
   "cell_type": "code",
   "execution_count": null,
   "metadata": {
    "id": "lG7j_3sm11B6"
   },
   "outputs": [],
   "source": [
    "print(\"Xgbost Final AUC : \",round( gbm_final.auc(valid=True), 3 ) )"
   ]
  },
  {
   "cell_type": "code",
   "execution_count": null,
   "metadata": {
    "id": "hMs_Y0rc14rh"
   },
   "outputs": [],
   "source": [
    "gbm_final.confusion_matrix(valid=True)"
   ]
  },
  {
   "cell_type": "code",
   "execution_count": null,
   "metadata": {
    "id": "SZ9v1u3o19XN"
   },
   "outputs": [],
   "source": [
    "gbm_final.model_performance(df_test)"
   ]
  },
  {
   "cell_type": "code",
   "execution_count": null,
   "metadata": {
    "id": "-1P0kbi62Gi_"
   },
   "outputs": [],
   "source": [
    "gbm_final.varimp_plot()"
   ]
  },
  {
   "cell_type": "code",
   "execution_count": null,
   "metadata": {
    "id": "Hef9bTrf2NOt"
   },
   "outputs": [],
   "source": []
  }
 ],
 "metadata": {
  "accelerator": "GPU",
  "colab": {
   "name": "sentiment_analysis_using_gbm.ipynb",
   "private_outputs": true,
   "provenance": []
  },
  "kernelspec": {
   "display_name": "pynlp",
   "language": "python",
   "name": "pynlp"
  },
  "language_info": {
   "codemirror_mode": {
    "name": "ipython",
    "version": 3
   },
   "file_extension": ".py",
   "mimetype": "text/x-python",
   "name": "python",
   "nbconvert_exporter": "python",
   "pygments_lexer": "ipython3",
   "version": "3.6.13"
  }
 },
 "nbformat": 4,
 "nbformat_minor": 1
}
