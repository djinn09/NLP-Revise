{
 "cells": [
  {
   "cell_type": "code",
   "execution_count": 40,
   "metadata": {},
   "outputs": [],
   "source": [
    "import pandas as pd\n",
    "import matplotlib.pyplot as plt\n",
    "import seaborn as sns\n",
    "import spacy\n",
    "import string\n",
    "import nltk\n",
    "from collections import Counter\n",
    "from nltk.corpus import stopwords\n",
    "from spacy.tokens import DocBin\n",
    "import numpy as np\n",
    "from tqdm import tqdm\n"
   ]
  },
  {
   "cell_type": "code",
   "execution_count": 62,
   "metadata": {},
   "outputs": [
    {
     "name": "stdout",
     "output_type": "stream",
     "text": [
      "Checking whether there is an H2O instance running at http://localhost:54321 . connected.\n"
     ]
    },
    {
     "data": {
      "text/html": [
       "<div style=\"overflow:auto\"><table style=\"width:50%\"><tr><td>H2O_cluster_uptime:</td>\n",
       "<td>30 mins 42 secs</td></tr>\n",
       "<tr><td>H2O_cluster_timezone:</td>\n",
       "<td>Asia/Kolkata</td></tr>\n",
       "<tr><td>H2O_data_parsing_timezone:</td>\n",
       "<td>UTC</td></tr>\n",
       "<tr><td>H2O_cluster_version:</td>\n",
       "<td>3.32.1.2</td></tr>\n",
       "<tr><td>H2O_cluster_version_age:</td>\n",
       "<td>17 days </td></tr>\n",
       "<tr><td>H2O_cluster_name:</td>\n",
       "<td>H2O_from_python_vegito_rx3c0i</td></tr>\n",
       "<tr><td>H2O_cluster_total_nodes:</td>\n",
       "<td>1</td></tr>\n",
       "<tr><td>H2O_cluster_free_memory:</td>\n",
       "<td>1.912 Gb</td></tr>\n",
       "<tr><td>H2O_cluster_total_cores:</td>\n",
       "<td>8</td></tr>\n",
       "<tr><td>H2O_cluster_allowed_cores:</td>\n",
       "<td>8</td></tr>\n",
       "<tr><td>H2O_cluster_status:</td>\n",
       "<td>locked, healthy</td></tr>\n",
       "<tr><td>H2O_connection_url:</td>\n",
       "<td>http://localhost:54321</td></tr>\n",
       "<tr><td>H2O_connection_proxy:</td>\n",
       "<td>{\"http\": null, \"https\": null}</td></tr>\n",
       "<tr><td>H2O_internal_security:</td>\n",
       "<td>False</td></tr>\n",
       "<tr><td>H2O_API_Extensions:</td>\n",
       "<td>Amazon S3, XGBoost, Algos, AutoML, Core V3, TargetEncoder, Core V4</td></tr>\n",
       "<tr><td>Python_version:</td>\n",
       "<td>3.6.13 final</td></tr></table></div>"
      ],
      "text/plain": [
       "--------------------------  ------------------------------------------------------------------\n",
       "H2O_cluster_uptime:         30 mins 42 secs\n",
       "H2O_cluster_timezone:       Asia/Kolkata\n",
       "H2O_data_parsing_timezone:  UTC\n",
       "H2O_cluster_version:        3.32.1.2\n",
       "H2O_cluster_version_age:    17 days\n",
       "H2O_cluster_name:           H2O_from_python_vegito_rx3c0i\n",
       "H2O_cluster_total_nodes:    1\n",
       "H2O_cluster_free_memory:    1.912 Gb\n",
       "H2O_cluster_total_cores:    8\n",
       "H2O_cluster_allowed_cores:  8\n",
       "H2O_cluster_status:         locked, healthy\n",
       "H2O_connection_url:         http://localhost:54321\n",
       "H2O_connection_proxy:       {\"http\": null, \"https\": null}\n",
       "H2O_internal_security:      False\n",
       "H2O_API_Extensions:         Amazon S3, XGBoost, Algos, AutoML, Core V3, TargetEncoder, Core V4\n",
       "Python_version:             3.6.13 final\n",
       "--------------------------  ------------------------------------------------------------------"
      ]
     },
     "metadata": {},
     "output_type": "display_data"
    }
   ],
   "source": [
    "import h2o\n",
    "from h2o.automl import H2OAutoML\n",
    "h2o.init()"
   ]
  },
  {
   "cell_type": "code",
   "execution_count": 41,
   "metadata": {},
   "outputs": [],
   "source": [
    "from nltk.stem.snowball import SnowballStemmer"
   ]
  },
  {
   "cell_type": "code",
   "execution_count": 42,
   "metadata": {},
   "outputs": [],
   "source": [
    "stemmer = SnowballStemmer(\"english\")\n",
    "stop_list = list(stopwords.words('english'))\n",
    "stop_list.extend('empty wow'.split())"
   ]
  },
  {
   "cell_type": "code",
   "execution_count": 43,
   "metadata": {},
   "outputs": [],
   "source": [
    "df = pd.read_csv(\"data/spam_text.csv\")"
   ]
  },
  {
   "cell_type": "code",
   "execution_count": 44,
   "metadata": {},
   "outputs": [
    {
     "data": {
      "text/html": [
       "<div>\n",
       "<style scoped>\n",
       "    .dataframe tbody tr th:only-of-type {\n",
       "        vertical-align: middle;\n",
       "    }\n",
       "\n",
       "    .dataframe tbody tr th {\n",
       "        vertical-align: top;\n",
       "    }\n",
       "\n",
       "    .dataframe thead th {\n",
       "        text-align: right;\n",
       "    }\n",
       "</style>\n",
       "<table border=\"1\" class=\"dataframe\">\n",
       "  <thead>\n",
       "    <tr style=\"text-align: right;\">\n",
       "      <th></th>\n",
       "      <th>label</th>\n",
       "      <th>message</th>\n",
       "      <th>length</th>\n",
       "      <th>punct</th>\n",
       "    </tr>\n",
       "  </thead>\n",
       "  <tbody>\n",
       "    <tr>\n",
       "      <th>0</th>\n",
       "      <td>ham</td>\n",
       "      <td>Go until jurong point, crazy.. Available only ...</td>\n",
       "      <td>111</td>\n",
       "      <td>9</td>\n",
       "    </tr>\n",
       "    <tr>\n",
       "      <th>1</th>\n",
       "      <td>ham</td>\n",
       "      <td>Ok lar... Joking wif u oni...</td>\n",
       "      <td>29</td>\n",
       "      <td>6</td>\n",
       "    </tr>\n",
       "    <tr>\n",
       "      <th>2</th>\n",
       "      <td>spam</td>\n",
       "      <td>Free entry in 2 a wkly comp to win FA Cup fina...</td>\n",
       "      <td>155</td>\n",
       "      <td>6</td>\n",
       "    </tr>\n",
       "    <tr>\n",
       "      <th>3</th>\n",
       "      <td>ham</td>\n",
       "      <td>U dun say so early hor... U c already then say...</td>\n",
       "      <td>49</td>\n",
       "      <td>6</td>\n",
       "    </tr>\n",
       "    <tr>\n",
       "      <th>4</th>\n",
       "      <td>ham</td>\n",
       "      <td>Nah I don't think he goes to usf, he lives aro...</td>\n",
       "      <td>61</td>\n",
       "      <td>2</td>\n",
       "    </tr>\n",
       "  </tbody>\n",
       "</table>\n",
       "</div>"
      ],
      "text/plain": [
       "  label                                            message  length  punct\n",
       "0   ham  Go until jurong point, crazy.. Available only ...     111      9\n",
       "1   ham                      Ok lar... Joking wif u oni...      29      6\n",
       "2  spam  Free entry in 2 a wkly comp to win FA Cup fina...     155      6\n",
       "3   ham  U dun say so early hor... U c already then say...      49      6\n",
       "4   ham  Nah I don't think he goes to usf, he lives aro...      61      2"
      ]
     },
     "execution_count": 44,
     "metadata": {},
     "output_type": "execute_result"
    }
   ],
   "source": [
    "df.head()"
   ]
  },
  {
   "cell_type": "code",
   "execution_count": 4,
   "metadata": {},
   "outputs": [
    {
     "data": {
      "text/plain": [
       "label      0\n",
       "message    0\n",
       "length     0\n",
       "punct      0\n",
       "dtype: int64"
      ]
     },
     "execution_count": 4,
     "metadata": {},
     "output_type": "execute_result"
    }
   ],
   "source": [
    "df.isnull().sum()"
   ]
  },
  {
   "cell_type": "code",
   "execution_count": 5,
   "metadata": {},
   "outputs": [
    {
     "data": {
      "text/plain": [
       "ham     4825\n",
       "spam     747\n",
       "Name: label, dtype: int64"
      ]
     },
     "execution_count": 5,
     "metadata": {},
     "output_type": "execute_result"
    }
   ],
   "source": [
    "df[\"label\"].value_counts()"
   ]
  },
  {
   "cell_type": "code",
   "execution_count": 6,
   "metadata": {},
   "outputs": [
    {
     "data": {
      "text/html": [
       "<div>\n",
       "<style scoped>\n",
       "    .dataframe tbody tr th:only-of-type {\n",
       "        vertical-align: middle;\n",
       "    }\n",
       "\n",
       "    .dataframe tbody tr th {\n",
       "        vertical-align: top;\n",
       "    }\n",
       "\n",
       "    .dataframe thead th {\n",
       "        text-align: right;\n",
       "    }\n",
       "</style>\n",
       "<table border=\"1\" class=\"dataframe\">\n",
       "  <thead>\n",
       "    <tr style=\"text-align: right;\">\n",
       "      <th></th>\n",
       "      <th>label</th>\n",
       "      <th>message</th>\n",
       "      <th>length</th>\n",
       "      <th>punct</th>\n",
       "    </tr>\n",
       "  </thead>\n",
       "  <tbody>\n",
       "    <tr>\n",
       "      <th>2</th>\n",
       "      <td>spam</td>\n",
       "      <td>Free entry in 2 a wkly comp to win FA Cup fina...</td>\n",
       "      <td>155</td>\n",
       "      <td>6</td>\n",
       "    </tr>\n",
       "    <tr>\n",
       "      <th>5</th>\n",
       "      <td>spam</td>\n",
       "      <td>FreeMsg Hey there darling it's been 3 week's n...</td>\n",
       "      <td>147</td>\n",
       "      <td>8</td>\n",
       "    </tr>\n",
       "    <tr>\n",
       "      <th>8</th>\n",
       "      <td>spam</td>\n",
       "      <td>WINNER!! As a valued network customer you have...</td>\n",
       "      <td>157</td>\n",
       "      <td>6</td>\n",
       "    </tr>\n",
       "    <tr>\n",
       "      <th>9</th>\n",
       "      <td>spam</td>\n",
       "      <td>Had your mobile 11 months or more? U R entitle...</td>\n",
       "      <td>154</td>\n",
       "      <td>2</td>\n",
       "    </tr>\n",
       "    <tr>\n",
       "      <th>11</th>\n",
       "      <td>spam</td>\n",
       "      <td>SIX chances to win CASH! From 100 to 20,000 po...</td>\n",
       "      <td>136</td>\n",
       "      <td>8</td>\n",
       "    </tr>\n",
       "  </tbody>\n",
       "</table>\n",
       "</div>"
      ],
      "text/plain": [
       "   label                                            message  length  punct\n",
       "2   spam  Free entry in 2 a wkly comp to win FA Cup fina...     155      6\n",
       "5   spam  FreeMsg Hey there darling it's been 3 week's n...     147      8\n",
       "8   spam  WINNER!! As a valued network customer you have...     157      6\n",
       "9   spam  Had your mobile 11 months or more? U R entitle...     154      2\n",
       "11  spam  SIX chances to win CASH! From 100 to 20,000 po...     136      8"
      ]
     },
     "execution_count": 6,
     "metadata": {},
     "output_type": "execute_result"
    }
   ],
   "source": [
    "spam = df[df[\"label\"] == \"spam\"]\n",
    "spam.head()"
   ]
  },
  {
   "cell_type": "code",
   "execution_count": 7,
   "metadata": {},
   "outputs": [
    {
     "data": {
      "text/html": [
       "<div>\n",
       "<style scoped>\n",
       "    .dataframe tbody tr th:only-of-type {\n",
       "        vertical-align: middle;\n",
       "    }\n",
       "\n",
       "    .dataframe tbody tr th {\n",
       "        vertical-align: top;\n",
       "    }\n",
       "\n",
       "    .dataframe thead th {\n",
       "        text-align: right;\n",
       "    }\n",
       "</style>\n",
       "<table border=\"1\" class=\"dataframe\">\n",
       "  <thead>\n",
       "    <tr style=\"text-align: right;\">\n",
       "      <th></th>\n",
       "      <th>label</th>\n",
       "      <th>message</th>\n",
       "      <th>length</th>\n",
       "      <th>punct</th>\n",
       "    </tr>\n",
       "  </thead>\n",
       "  <tbody>\n",
       "    <tr>\n",
       "      <th>0</th>\n",
       "      <td>ham</td>\n",
       "      <td>Go until jurong point, crazy.. Available only ...</td>\n",
       "      <td>111</td>\n",
       "      <td>9</td>\n",
       "    </tr>\n",
       "    <tr>\n",
       "      <th>1</th>\n",
       "      <td>ham</td>\n",
       "      <td>Ok lar... Joking wif u oni...</td>\n",
       "      <td>29</td>\n",
       "      <td>6</td>\n",
       "    </tr>\n",
       "    <tr>\n",
       "      <th>3</th>\n",
       "      <td>ham</td>\n",
       "      <td>U dun say so early hor... U c already then say...</td>\n",
       "      <td>49</td>\n",
       "      <td>6</td>\n",
       "    </tr>\n",
       "    <tr>\n",
       "      <th>4</th>\n",
       "      <td>ham</td>\n",
       "      <td>Nah I don't think he goes to usf, he lives aro...</td>\n",
       "      <td>61</td>\n",
       "      <td>2</td>\n",
       "    </tr>\n",
       "    <tr>\n",
       "      <th>6</th>\n",
       "      <td>ham</td>\n",
       "      <td>Even my brother is not like to speak with me. ...</td>\n",
       "      <td>77</td>\n",
       "      <td>2</td>\n",
       "    </tr>\n",
       "  </tbody>\n",
       "</table>\n",
       "</div>"
      ],
      "text/plain": [
       "  label                                            message  length  punct\n",
       "0   ham  Go until jurong point, crazy.. Available only ...     111      9\n",
       "1   ham                      Ok lar... Joking wif u oni...      29      6\n",
       "3   ham  U dun say so early hor... U c already then say...      49      6\n",
       "4   ham  Nah I don't think he goes to usf, he lives aro...      61      2\n",
       "6   ham  Even my brother is not like to speak with me. ...      77      2"
      ]
     },
     "execution_count": 7,
     "metadata": {},
     "output_type": "execute_result"
    }
   ],
   "source": [
    "ham = df[df[\"label\"] == \"ham\"]\n",
    "ham.head()"
   ]
  },
  {
   "cell_type": "code",
   "execution_count": 8,
   "metadata": {},
   "outputs": [
    {
     "data": {
      "text/plain": [
       "((747, 4), (4825, 4))"
      ]
     },
     "execution_count": 8,
     "metadata": {},
     "output_type": "execute_result"
    }
   ],
   "source": [
    "spam.shape, ham.shape"
   ]
  },
  {
   "cell_type": "code",
   "execution_count": 9,
   "metadata": {},
   "outputs": [],
   "source": [
    "ham = ham.sample(spam.shape[0])"
   ]
  },
  {
   "cell_type": "code",
   "execution_count": 10,
   "metadata": {},
   "outputs": [
    {
     "data": {
      "text/plain": [
       "((747, 4), (747, 4))"
      ]
     },
     "execution_count": 10,
     "metadata": {},
     "output_type": "execute_result"
    }
   ],
   "source": [
    "spam.shape, ham.shape"
   ]
  },
  {
   "cell_type": "code",
   "execution_count": 11,
   "metadata": {},
   "outputs": [],
   "source": [
    "data = ham.append(spam,ignore_index=True)"
   ]
  },
  {
   "cell_type": "code",
   "execution_count": 12,
   "metadata": {},
   "outputs": [
    {
     "data": {
      "text/html": [
       "<div>\n",
       "<style scoped>\n",
       "    .dataframe tbody tr th:only-of-type {\n",
       "        vertical-align: middle;\n",
       "    }\n",
       "\n",
       "    .dataframe tbody tr th {\n",
       "        vertical-align: top;\n",
       "    }\n",
       "\n",
       "    .dataframe thead th {\n",
       "        text-align: right;\n",
       "    }\n",
       "</style>\n",
       "<table border=\"1\" class=\"dataframe\">\n",
       "  <thead>\n",
       "    <tr style=\"text-align: right;\">\n",
       "      <th></th>\n",
       "      <th>label</th>\n",
       "      <th>message</th>\n",
       "      <th>length</th>\n",
       "      <th>punct</th>\n",
       "    </tr>\n",
       "  </thead>\n",
       "  <tbody>\n",
       "    <tr>\n",
       "      <th>1489</th>\n",
       "      <td>spam</td>\n",
       "      <td>Want explicit SEX in 30 secs? Ring 02073162414...</td>\n",
       "      <td>90</td>\n",
       "      <td>3</td>\n",
       "    </tr>\n",
       "    <tr>\n",
       "      <th>1490</th>\n",
       "      <td>spam</td>\n",
       "      <td>ASKED 3MOBILE IF 0870 CHATLINES INCLU IN FREE ...</td>\n",
       "      <td>158</td>\n",
       "      <td>5</td>\n",
       "    </tr>\n",
       "    <tr>\n",
       "      <th>1491</th>\n",
       "      <td>spam</td>\n",
       "      <td>Had your contract mobile 11 Mnths? Latest Moto...</td>\n",
       "      <td>160</td>\n",
       "      <td>8</td>\n",
       "    </tr>\n",
       "    <tr>\n",
       "      <th>1492</th>\n",
       "      <td>spam</td>\n",
       "      <td>REMINDER FROM O2: To get 2.50 pounds free call...</td>\n",
       "      <td>147</td>\n",
       "      <td>3</td>\n",
       "    </tr>\n",
       "    <tr>\n",
       "      <th>1493</th>\n",
       "      <td>spam</td>\n",
       "      <td>This is the 2nd time we have tried 2 contact u...</td>\n",
       "      <td>160</td>\n",
       "      <td>8</td>\n",
       "    </tr>\n",
       "  </tbody>\n",
       "</table>\n",
       "</div>"
      ],
      "text/plain": [
       "     label                                            message  length  punct\n",
       "1489  spam  Want explicit SEX in 30 secs? Ring 02073162414...      90      3\n",
       "1490  spam  ASKED 3MOBILE IF 0870 CHATLINES INCLU IN FREE ...     158      5\n",
       "1491  spam  Had your contract mobile 11 Mnths? Latest Moto...     160      8\n",
       "1492  spam  REMINDER FROM O2: To get 2.50 pounds free call...     147      3\n",
       "1493  spam  This is the 2nd time we have tried 2 contact u...     160      8"
      ]
     },
     "execution_count": 12,
     "metadata": {},
     "output_type": "execute_result"
    }
   ],
   "source": [
    "data.tail()"
   ]
  },
  {
   "cell_type": "code",
   "execution_count": 13,
   "metadata": {},
   "outputs": [
    {
     "data": {
      "image/png": "[encoded data removed]",
      "text/plain": [
       "<Figure size 432x288 with 1 Axes>"
      ]
     },
     "metadata": {
      "needs_background": "light"
     },
     "output_type": "display_data"
    }
   ],
   "source": [
    "plt.hist(data[data[\"label\"] == \"ham\"][\"length\"],bins=100,alpha=0.7)\n",
    "plt.hist(data[data[\"label\"] == \"spam\"][\"length\"],bins=100,alpha=0.7)\n",
    "plt.show()"
   ]
  },
  {
   "cell_type": "code",
   "execution_count": 14,
   "metadata": {},
   "outputs": [
    {
     "data": {
      "image/png": "[encoded data removed]",
      "text/plain": [
       "<Figure size 432x288 with 1 Axes>"
      ]
     },
     "metadata": {
      "needs_background": "light"
     },
     "output_type": "display_data"
    }
   ],
   "source": [
    "plt.hist(data[data[\"label\"] == \"ham\"][\"punct\"],bins=100,alpha=0.7)\n",
    "plt.hist(data[data[\"label\"] == \"spam\"][\"punct\"],bins=100,alpha=0.7)\n",
    "plt.show()"
   ]
  },
  {
   "cell_type": "markdown",
   "metadata": {},
   "source": [
    "## Data Prepartion"
   ]
  },
  {
   "cell_type": "code",
   "execution_count": 15,
   "metadata": {},
   "outputs": [],
   "source": [
    "from sklearn.model_selection import train_test_split\n",
    "from sklearn.ensemble import RandomForestClassifier\n",
    "from sklearn.svm import SVC\n",
    "from sklearn.metrics import accuracy_score,classification_report, confusion_matrix\n",
    "from sklearn.pipeline import Pipeline"
   ]
  },
  {
   "cell_type": "code",
   "execution_count": 16,
   "metadata": {},
   "outputs": [],
   "source": [
    "from sklearn.feature_extraction.text import TfidfVectorizer"
   ]
  },
  {
   "cell_type": "code",
   "execution_count": 17,
   "metadata": {},
   "outputs": [
    {
     "data": {
      "text/html": [
       "<div>\n",
       "<style scoped>\n",
       "    .dataframe tbody tr th:only-of-type {\n",
       "        vertical-align: middle;\n",
       "    }\n",
       "\n",
       "    .dataframe tbody tr th {\n",
       "        vertical-align: top;\n",
       "    }\n",
       "\n",
       "    .dataframe thead th {\n",
       "        text-align: right;\n",
       "    }\n",
       "</style>\n",
       "<table border=\"1\" class=\"dataframe\">\n",
       "  <thead>\n",
       "    <tr style=\"text-align: right;\">\n",
       "      <th></th>\n",
       "      <th>label</th>\n",
       "      <th>message</th>\n",
       "      <th>length</th>\n",
       "      <th>punct</th>\n",
       "    </tr>\n",
       "  </thead>\n",
       "  <tbody>\n",
       "    <tr>\n",
       "      <th>0</th>\n",
       "      <td>ham</td>\n",
       "      <td>Sorry i cant take your call right now. It so h...</td>\n",
       "      <td>368</td>\n",
       "      <td>10</td>\n",
       "    </tr>\n",
       "    <tr>\n",
       "      <th>1</th>\n",
       "      <td>ham</td>\n",
       "      <td>Hurry up, I've been weed-deficient for like th...</td>\n",
       "      <td>54</td>\n",
       "      <td>3</td>\n",
       "    </tr>\n",
       "    <tr>\n",
       "      <th>2</th>\n",
       "      <td>ham</td>\n",
       "      <td>Mostly sports type..lyk footbl,crckt..</td>\n",
       "      <td>38</td>\n",
       "      <td>5</td>\n",
       "    </tr>\n",
       "    <tr>\n",
       "      <th>3</th>\n",
       "      <td>ham</td>\n",
       "      <td>Ha... Both of us doing e same thing. But i got...</td>\n",
       "      <td>123</td>\n",
       "      <td>8</td>\n",
       "    </tr>\n",
       "    <tr>\n",
       "      <th>4</th>\n",
       "      <td>ham</td>\n",
       "      <td>East coast</td>\n",
       "      <td>10</td>\n",
       "      <td>0</td>\n",
       "    </tr>\n",
       "  </tbody>\n",
       "</table>\n",
       "</div>"
      ],
      "text/plain": [
       "  label                                            message  length  punct\n",
       "0   ham  Sorry i cant take your call right now. It so h...     368     10\n",
       "1   ham  Hurry up, I've been weed-deficient for like th...      54      3\n",
       "2   ham             Mostly sports type..lyk footbl,crckt..      38      5\n",
       "3   ham  Ha... Both of us doing e same thing. But i got...     123      8\n",
       "4   ham                                         East coast      10      0"
      ]
     },
     "execution_count": 17,
     "metadata": {},
     "output_type": "execute_result"
    }
   ],
   "source": [
    "data.head()"
   ]
  },
  {
   "cell_type": "code",
   "execution_count": 18,
   "metadata": {},
   "outputs": [],
   "source": [
    "x_train,x_test,y_train,y_test = train_test_split(data[\"message\"],data[\"label\"],test_size=0.2,random_state=42,shuffle=data[\"label\"])"
   ]
  },
  {
   "cell_type": "markdown",
   "metadata": {},
   "source": [
    "# Bag of Words"
   ]
  },
  {
   "cell_type": "code",
   "execution_count": 49,
   "metadata": {},
   "outputs": [],
   "source": [
    "def tokenize(text):\n",
    "    tokens = [word for word in nltk.word_tokenize(text) if len(word) > 1 and word.isalpha()]\n",
    "    tokens = [stemmer.stem(word).lower() for word in tokens if word not in stop_list]\n",
    "    return tokens"
   ]
  },
  {
   "cell_type": "code",
   "execution_count": 50,
   "metadata": {},
   "outputs": [],
   "source": [
    "vectorizer = TfidfVectorizer(tokenizer=tokenize,max_df=0.75,max_features=1000,lowercase=False,ngram_range=(1,2))"
   ]
  },
  {
   "cell_type": "code",
   "execution_count": 51,
   "metadata": {},
   "outputs": [],
   "source": [
    "train_vectors = vectorizer.fit_transform(x_train)\n",
    "test_vectors = vectorizer.fit_transform(x_test)"
   ]
  },
  {
   "cell_type": "code",
   "execution_count": 57,
   "metadata": {},
   "outputs": [
    {
     "data": {
      "text/html": [
       "<div>\n",
       "<style scoped>\n",
       "    .dataframe tbody tr th:only-of-type {\n",
       "        vertical-align: middle;\n",
       "    }\n",
       "\n",
       "    .dataframe tbody tr th {\n",
       "        vertical-align: top;\n",
       "    }\n",
       "\n",
       "    .dataframe thead th {\n",
       "        text-align: right;\n",
       "    }\n",
       "</style>\n",
       "<table border=\"1\" class=\"dataframe\">\n",
       "  <thead>\n",
       "    <tr style=\"text-align: right;\">\n",
       "      <th></th>\n",
       "      <th>abl</th>\n",
       "      <th>abt</th>\n",
       "      <th>access</th>\n",
       "      <th>account</th>\n",
       "      <th>account statement</th>\n",
       "      <th>actual</th>\n",
       "      <th>addamsfa</th>\n",
       "      <th>addamsfa munster</th>\n",
       "      <th>age</th>\n",
       "      <th>ah</th>\n",
       "      <th>...</th>\n",
       "      <th>you won</th>\n",
       "      <th>your</th>\n",
       "      <th>your account</th>\n",
       "      <th>your mobil</th>\n",
       "      <th>your prize</th>\n",
       "      <th>yr</th>\n",
       "      <th>yr prize</th>\n",
       "      <th>yrs</th>\n",
       "      <th>yup</th>\n",
       "      <th>label</th>\n",
       "    </tr>\n",
       "  </thead>\n",
       "  <tbody>\n",
       "    <tr>\n",
       "      <th>0</th>\n",
       "      <td>0.0</td>\n",
       "      <td>0.0</td>\n",
       "      <td>0.0</td>\n",
       "      <td>0.0</td>\n",
       "      <td>0.0</td>\n",
       "      <td>0.0</td>\n",
       "      <td>0.279272</td>\n",
       "      <td>0.0</td>\n",
       "      <td>0.0</td>\n",
       "      <td>0.0</td>\n",
       "      <td>...</td>\n",
       "      <td>0.0</td>\n",
       "      <td>0.0</td>\n",
       "      <td>0.0</td>\n",
       "      <td>0.0</td>\n",
       "      <td>0.0</td>\n",
       "      <td>0.0</td>\n",
       "      <td>0.0</td>\n",
       "      <td>0.0</td>\n",
       "      <td>0.0</td>\n",
       "      <td>ham</td>\n",
       "    </tr>\n",
       "    <tr>\n",
       "      <th>1</th>\n",
       "      <td>0.0</td>\n",
       "      <td>0.0</td>\n",
       "      <td>0.0</td>\n",
       "      <td>0.0</td>\n",
       "      <td>0.0</td>\n",
       "      <td>0.0</td>\n",
       "      <td>0.000000</td>\n",
       "      <td>0.0</td>\n",
       "      <td>0.0</td>\n",
       "      <td>0.0</td>\n",
       "      <td>...</td>\n",
       "      <td>0.0</td>\n",
       "      <td>0.0</td>\n",
       "      <td>0.0</td>\n",
       "      <td>0.0</td>\n",
       "      <td>0.0</td>\n",
       "      <td>0.0</td>\n",
       "      <td>0.0</td>\n",
       "      <td>0.0</td>\n",
       "      <td>0.0</td>\n",
       "      <td>ham</td>\n",
       "    </tr>\n",
       "    <tr>\n",
       "      <th>2</th>\n",
       "      <td>0.0</td>\n",
       "      <td>0.0</td>\n",
       "      <td>0.0</td>\n",
       "      <td>0.0</td>\n",
       "      <td>0.0</td>\n",
       "      <td>0.0</td>\n",
       "      <td>0.000000</td>\n",
       "      <td>0.0</td>\n",
       "      <td>0.0</td>\n",
       "      <td>0.0</td>\n",
       "      <td>...</td>\n",
       "      <td>0.0</td>\n",
       "      <td>0.0</td>\n",
       "      <td>0.0</td>\n",
       "      <td>0.0</td>\n",
       "      <td>0.0</td>\n",
       "      <td>0.0</td>\n",
       "      <td>0.0</td>\n",
       "      <td>0.0</td>\n",
       "      <td>0.0</td>\n",
       "      <td>spam</td>\n",
       "    </tr>\n",
       "    <tr>\n",
       "      <th>3</th>\n",
       "      <td>0.0</td>\n",
       "      <td>0.0</td>\n",
       "      <td>0.0</td>\n",
       "      <td>0.0</td>\n",
       "      <td>0.0</td>\n",
       "      <td>0.0</td>\n",
       "      <td>0.000000</td>\n",
       "      <td>0.0</td>\n",
       "      <td>0.0</td>\n",
       "      <td>0.0</td>\n",
       "      <td>...</td>\n",
       "      <td>0.0</td>\n",
       "      <td>0.0</td>\n",
       "      <td>0.0</td>\n",
       "      <td>0.0</td>\n",
       "      <td>0.0</td>\n",
       "      <td>0.0</td>\n",
       "      <td>0.0</td>\n",
       "      <td>0.0</td>\n",
       "      <td>0.0</td>\n",
       "      <td>ham</td>\n",
       "    </tr>\n",
       "    <tr>\n",
       "      <th>4</th>\n",
       "      <td>0.0</td>\n",
       "      <td>0.0</td>\n",
       "      <td>0.0</td>\n",
       "      <td>0.0</td>\n",
       "      <td>0.0</td>\n",
       "      <td>0.0</td>\n",
       "      <td>0.361351</td>\n",
       "      <td>0.0</td>\n",
       "      <td>0.0</td>\n",
       "      <td>0.0</td>\n",
       "      <td>...</td>\n",
       "      <td>0.0</td>\n",
       "      <td>0.0</td>\n",
       "      <td>0.0</td>\n",
       "      <td>0.0</td>\n",
       "      <td>0.0</td>\n",
       "      <td>0.0</td>\n",
       "      <td>0.0</td>\n",
       "      <td>0.0</td>\n",
       "      <td>0.0</td>\n",
       "      <td>spam</td>\n",
       "    </tr>\n",
       "  </tbody>\n",
       "</table>\n",
       "<p>5 rows × 1001 columns</p>\n",
       "</div>"
      ],
      "text/plain": [
       "   abl  abt  access  account  account statement  actual  addamsfa  \\\n",
       "0  0.0  0.0     0.0      0.0                0.0     0.0  0.279272   \n",
       "1  0.0  0.0     0.0      0.0                0.0     0.0  0.000000   \n",
       "2  0.0  0.0     0.0      0.0                0.0     0.0  0.000000   \n",
       "3  0.0  0.0     0.0      0.0                0.0     0.0  0.000000   \n",
       "4  0.0  0.0     0.0      0.0                0.0     0.0  0.361351   \n",
       "\n",
       "   addamsfa munster  age   ah  ...  you won  your  your account  your mobil  \\\n",
       "0               0.0  0.0  0.0  ...      0.0   0.0           0.0         0.0   \n",
       "1               0.0  0.0  0.0  ...      0.0   0.0           0.0         0.0   \n",
       "2               0.0  0.0  0.0  ...      0.0   0.0           0.0         0.0   \n",
       "3               0.0  0.0  0.0  ...      0.0   0.0           0.0         0.0   \n",
       "4               0.0  0.0  0.0  ...      0.0   0.0           0.0         0.0   \n",
       "\n",
       "   your prize   yr  yr prize  yrs  yup  label  \n",
       "0         0.0  0.0       0.0  0.0  0.0    ham  \n",
       "1         0.0  0.0       0.0  0.0  0.0    ham  \n",
       "2         0.0  0.0       0.0  0.0  0.0   spam  \n",
       "3         0.0  0.0       0.0  0.0  0.0    ham  \n",
       "4         0.0  0.0       0.0  0.0  0.0   spam  \n",
       "\n",
       "[5 rows x 1001 columns]"
      ]
     },
     "execution_count": 57,
     "metadata": {},
     "output_type": "execute_result"
    }
   ],
   "source": [
    "train_df = pd.DataFrame(train_vectors.toarray(),columns=vectorizer.get_feature_names())\n",
    "train_df = pd.concat([train_df,y_train.reset_index(drop=True)],axis=1)\n",
    "train_df.head()"
   ]
  },
  {
   "cell_type": "code",
   "execution_count": 58,
   "metadata": {},
   "outputs": [
    {
     "data": {
      "text/html": [
       "<div>\n",
       "<style scoped>\n",
       "    .dataframe tbody tr th:only-of-type {\n",
       "        vertical-align: middle;\n",
       "    }\n",
       "\n",
       "    .dataframe tbody tr th {\n",
       "        vertical-align: top;\n",
       "    }\n",
       "\n",
       "    .dataframe thead th {\n",
       "        text-align: right;\n",
       "    }\n",
       "</style>\n",
       "<table border=\"1\" class=\"dataframe\">\n",
       "  <thead>\n",
       "    <tr style=\"text-align: right;\">\n",
       "      <th></th>\n",
       "      <th>abl</th>\n",
       "      <th>abt</th>\n",
       "      <th>access</th>\n",
       "      <th>account</th>\n",
       "      <th>account statement</th>\n",
       "      <th>actual</th>\n",
       "      <th>addamsfa</th>\n",
       "      <th>addamsfa munster</th>\n",
       "      <th>age</th>\n",
       "      <th>ah</th>\n",
       "      <th>...</th>\n",
       "      <th>you won</th>\n",
       "      <th>your</th>\n",
       "      <th>your account</th>\n",
       "      <th>your mobil</th>\n",
       "      <th>your prize</th>\n",
       "      <th>yr</th>\n",
       "      <th>yr prize</th>\n",
       "      <th>yrs</th>\n",
       "      <th>yup</th>\n",
       "      <th>label</th>\n",
       "    </tr>\n",
       "  </thead>\n",
       "  <tbody>\n",
       "    <tr>\n",
       "      <th>0</th>\n",
       "      <td>0.0</td>\n",
       "      <td>0.0</td>\n",
       "      <td>0.0</td>\n",
       "      <td>0.0</td>\n",
       "      <td>0.0</td>\n",
       "      <td>0.0</td>\n",
       "      <td>0.0</td>\n",
       "      <td>0.0</td>\n",
       "      <td>0.0</td>\n",
       "      <td>0.0</td>\n",
       "      <td>...</td>\n",
       "      <td>0.0</td>\n",
       "      <td>0.148681</td>\n",
       "      <td>0.0</td>\n",
       "      <td>0.000000</td>\n",
       "      <td>0.0</td>\n",
       "      <td>0.0</td>\n",
       "      <td>0.0</td>\n",
       "      <td>0.0</td>\n",
       "      <td>0.0</td>\n",
       "      <td>spam</td>\n",
       "    </tr>\n",
       "    <tr>\n",
       "      <th>1</th>\n",
       "      <td>0.0</td>\n",
       "      <td>0.0</td>\n",
       "      <td>0.0</td>\n",
       "      <td>0.0</td>\n",
       "      <td>0.0</td>\n",
       "      <td>0.0</td>\n",
       "      <td>0.0</td>\n",
       "      <td>0.0</td>\n",
       "      <td>0.0</td>\n",
       "      <td>0.0</td>\n",
       "      <td>...</td>\n",
       "      <td>0.0</td>\n",
       "      <td>0.000000</td>\n",
       "      <td>0.0</td>\n",
       "      <td>0.000000</td>\n",
       "      <td>0.0</td>\n",
       "      <td>0.0</td>\n",
       "      <td>0.0</td>\n",
       "      <td>0.0</td>\n",
       "      <td>0.0</td>\n",
       "      <td>spam</td>\n",
       "    </tr>\n",
       "    <tr>\n",
       "      <th>2</th>\n",
       "      <td>0.0</td>\n",
       "      <td>0.0</td>\n",
       "      <td>0.0</td>\n",
       "      <td>0.0</td>\n",
       "      <td>0.0</td>\n",
       "      <td>0.0</td>\n",
       "      <td>0.0</td>\n",
       "      <td>0.0</td>\n",
       "      <td>0.0</td>\n",
       "      <td>0.0</td>\n",
       "      <td>...</td>\n",
       "      <td>0.0</td>\n",
       "      <td>0.000000</td>\n",
       "      <td>0.0</td>\n",
       "      <td>0.000000</td>\n",
       "      <td>0.0</td>\n",
       "      <td>0.0</td>\n",
       "      <td>0.0</td>\n",
       "      <td>0.0</td>\n",
       "      <td>0.0</td>\n",
       "      <td>spam</td>\n",
       "    </tr>\n",
       "    <tr>\n",
       "      <th>3</th>\n",
       "      <td>0.0</td>\n",
       "      <td>0.0</td>\n",
       "      <td>0.0</td>\n",
       "      <td>0.0</td>\n",
       "      <td>0.0</td>\n",
       "      <td>0.0</td>\n",
       "      <td>0.0</td>\n",
       "      <td>0.0</td>\n",
       "      <td>0.0</td>\n",
       "      <td>0.0</td>\n",
       "      <td>...</td>\n",
       "      <td>0.0</td>\n",
       "      <td>0.000000</td>\n",
       "      <td>0.0</td>\n",
       "      <td>0.000000</td>\n",
       "      <td>0.0</td>\n",
       "      <td>0.0</td>\n",
       "      <td>0.0</td>\n",
       "      <td>0.0</td>\n",
       "      <td>0.0</td>\n",
       "      <td>spam</td>\n",
       "    </tr>\n",
       "    <tr>\n",
       "      <th>4</th>\n",
       "      <td>0.0</td>\n",
       "      <td>0.0</td>\n",
       "      <td>0.0</td>\n",
       "      <td>0.0</td>\n",
       "      <td>0.0</td>\n",
       "      <td>0.0</td>\n",
       "      <td>0.0</td>\n",
       "      <td>0.0</td>\n",
       "      <td>0.0</td>\n",
       "      <td>0.0</td>\n",
       "      <td>...</td>\n",
       "      <td>0.0</td>\n",
       "      <td>0.200534</td>\n",
       "      <td>0.0</td>\n",
       "      <td>0.264097</td>\n",
       "      <td>0.0</td>\n",
       "      <td>0.0</td>\n",
       "      <td>0.0</td>\n",
       "      <td>0.0</td>\n",
       "      <td>0.0</td>\n",
       "      <td>spam</td>\n",
       "    </tr>\n",
       "  </tbody>\n",
       "</table>\n",
       "<p>5 rows × 1001 columns</p>\n",
       "</div>"
      ],
      "text/plain": [
       "   abl  abt  access  account  account statement  actual  addamsfa  \\\n",
       "0  0.0  0.0     0.0      0.0                0.0     0.0       0.0   \n",
       "1  0.0  0.0     0.0      0.0                0.0     0.0       0.0   \n",
       "2  0.0  0.0     0.0      0.0                0.0     0.0       0.0   \n",
       "3  0.0  0.0     0.0      0.0                0.0     0.0       0.0   \n",
       "4  0.0  0.0     0.0      0.0                0.0     0.0       0.0   \n",
       "\n",
       "   addamsfa munster  age   ah  ...  you won      your  your account  \\\n",
       "0               0.0  0.0  0.0  ...      0.0  0.148681           0.0   \n",
       "1               0.0  0.0  0.0  ...      0.0  0.000000           0.0   \n",
       "2               0.0  0.0  0.0  ...      0.0  0.000000           0.0   \n",
       "3               0.0  0.0  0.0  ...      0.0  0.000000           0.0   \n",
       "4               0.0  0.0  0.0  ...      0.0  0.200534           0.0   \n",
       "\n",
       "   your mobil  your prize   yr  yr prize  yrs  yup  label  \n",
       "0    0.000000         0.0  0.0       0.0  0.0  0.0   spam  \n",
       "1    0.000000         0.0  0.0       0.0  0.0  0.0   spam  \n",
       "2    0.000000         0.0  0.0       0.0  0.0  0.0   spam  \n",
       "3    0.000000         0.0  0.0       0.0  0.0  0.0   spam  \n",
       "4    0.264097         0.0  0.0       0.0  0.0  0.0   spam  \n",
       "\n",
       "[5 rows x 1001 columns]"
      ]
     },
     "execution_count": 58,
     "metadata": {},
     "output_type": "execute_result"
    }
   ],
   "source": [
    "test_df = pd.DataFrame(test_vectors.toarray(),columns=vectorizer.get_feature_names())\n",
    "test_df = pd.concat([test_df,y_test.reset_index(drop=True)],axis=1)\n",
    "test_df.head()"
   ]
  },
  {
   "cell_type": "code",
   "execution_count": 60,
   "metadata": {},
   "outputs": [
    {
     "name": "stdout",
     "output_type": "stream",
     "text": [
      "Parse progress: |█████████████████████████████████████████████████████████| 100%\n",
      "Parse progress: |█████████████████████████████████████████████████████████| 100%\n"
     ]
    }
   ],
   "source": [
    "h2o_train_df = h2o.H2OFrame(train_df)\n",
    "h2o_test_df = h2o.H2OFrame(test_df)"
   ]
  },
  {
   "cell_type": "code",
   "execution_count": 76,
   "metadata": {},
   "outputs": [],
   "source": [
    "aml = H2OAutoML(seed=10,verbosity=\"info\",nfolds=0,balance_classes=True)"
   ]
  },
  {
   "cell_type": "code",
   "execution_count": 77,
   "metadata": {},
   "outputs": [],
   "source": [
    "x=vectorizer.get_feature_names()\n",
    "y=\"label\""
   ]
  },
  {
   "cell_type": "code",
   "execution_count": 79,
   "metadata": {
    "scrolled": true
   },
   "outputs": [
    {
     "name": "stdout",
     "output_type": "stream",
     "text": [
      "AutoML progress: |\n",
      "11:45:44.661: Project: AutoML_20210517_114544661\n",
      "11:45:44.661: Cross-validation disabled by user: no fold column nor nfolds > 1.\n",
      "11:45:44.661: User didn't set any runtime constraints (max runtime or max models), using default 1h time limit\n",
      "11:45:44.661: Setting stopping tolerance adaptively based on the training frame: 0.028927842707018585\n",
      "11:45:44.661: Build control seed: 10\n",
      "11:45:44.661: Since cross-validation is disabled, and no leaderboard frame was provided, automatically split the training data into training and leaderboard frames in the ratio 90/10\n",
      "11:45:44.772: training frame: Frame key: automl_training_Key_Frame__upload_bda813b127bcd89ace4c72baba294ffe.hex    cols: 1001    rows: 1075  chunks: 2    size: 283259  checksum: -753977348797747520\n",
      "11:45:44.772: validation frame: Frame key: Key_Frame__upload_958d2b4fc3237d70d9a206e37e77408e.hex    cols: 1001    rows: 299  chunks: 1    size: 116394  checksum: -6056817919621782564\n",
      "11:45:44.778: leaderboard frame: Frame key: automl_leaderboard_Key_Frame__upload_bda813b127bcd89ace4c72baba294ffe.hex    cols: 1001    rows: 120  chunks: 2    size: 173698  checksum: 8393459867354636738\n",
      "11:45:44.778: blending frame: NULL\n",
      "11:45:44.778: response column: label\n",
      "11:45:44.778: fold column: null\n",
      "11:45:44.778: weights column: null\n",
      "11:45:44.779: Loading execution steps: [{XGBoost : defaults}, {GLM : defaults}, {DRF : [def_1]}, {GBM : defaults}, {DeepLearning : defaults}, {DRF : [XRT]}, {XGBoost : grids}, {GBM : grids}, {DeepLearning : grids}, {GBM : [lr_annealing]}, {XGBoost : [lr_search]}, {StackedEnsemble : defaults}]\n",
      "11:45:44.779: AutoML job created: 2021.05.17 11:45:44.661\n",
      "11:45:44.780: AutoML build started: 2021.05.17 11:45:44.780\n",
      "11:45:44.780: AutoML: starting XGBoost_1_AutoML_20210517_114544 model training\n",
      "11:45:46.813: New leader: XGBoost_1_AutoML_20210517_114544, auc: 0.9649321266968326\n",
      "11:45:46.813: AutoML: starting XGBoost_2_AutoML_20210517_114544 model training\n",
      "11:45:48.844: AutoML: starting XGBoost_3_AutoML_20210517_114544 model training\n",
      "11:45:50.871: New leader: XGBoost_3_AutoML_20210517_114544, auc: 0.9898190045248868\n",
      "11:45:50.871: AutoML: starting GLM_1_AutoML_20210517_114544 model training\n",
      "11:45:51.887: New leader: GLM_1_AutoML_20210517_114544, auc: 0.9901018099547512\n",
      "11:45:51.887: AutoML: starting DRF_1_AutoML_20210517_114544 model training\n",
      "11:45:55.912: New leader: DRF_1_AutoML_20210517_114544, auc: 0.9934954751131222\n",
      "11:45:55.912: AutoML: starting GBM_1_AutoML_20210517_114544 model training\n",
      "11:45:58.945: AutoML: starting GBM_2_AutoML_20210517_114544 model training\n",
      "11:46:01.973: AutoML: starting GBM_3_AutoML_20210517_114544 model training\n",
      "11:46:06.6: AutoML: starting GBM_4_AutoML_20210517_114544 model training\n",
      "11:46:10.53: AutoML: starting GBM_5_AutoML_20210517_114544 model training\n",
      "11:46:12.92: AutoML: starting DeepLearning_1_AutoML_20210517_114544 model training\n",
      "11:46:14.126: AutoML: starting XRT_1_AutoML_20210517_114544 model training\n",
      "11:46:18.147: New leader: XRT_1_AutoML_20210517_114544, auc: 0.9951923076923077\n",
      "11:46:18.148: AutoML: starting XGBoost_grid__1_AutoML_20210517_114544 hyperparameter search\n",
      "11:48:45.697: Actual modeling steps: [{XGBoost : [def_1 (10), def_2 (10), def_3 (10)]}, {GLM : [def_1 (10)]}, {DRF : [def_1 (10)]}, {GBM : [def_1 (10), def_2 (10), def_3 (10), def_4 (10), def_5 (10)]}, {DeepLearning : [def_1 (10)]}, {DRF : [XRT (10)]}, {XGBoost : [grid_1 (100)]}]\n",
      "11:48:45.698: AutoML build stopped: 2021.05.17 11:48:45.697\n",
      "11:48:45.698: AutoML build done: built 103 models\n",
      "11:48:45.698: AutoML duration:  3 min  0.917 sec\n",
      "11:48:48.403: Project: AutoML_20210517_114544661\n",
      "11:48:48.403: Cross-validation disabled by user: no fold column nor nfolds > 1.\n",
      "11:48:48.403: User didn't set any runtime constraints (max runtime or max models), using default 1h time limit\n",
      "11:48:48.403: Setting stopping tolerance adaptively based on the training frame: 0.028927842707018585\n",
      "11:48:48.403: Build control seed: 10\n",
      "11:48:48.403: Since cross-validation is disabled, and no leaderboard frame was provided, automatically split the training data into training and leaderboard frames in the ratio 90/10\n",
      "11:48:48.528: training frame: Frame key: automl_training_Key_Frame__upload_bda813b127bcd89ace4c72baba294ffe.hex    cols: 1001    rows: 1075  chunks: 2    size: 283259  checksum: -753977348797747520\n",
      "11:48:48.528: validation frame: Frame key: Key_Frame__upload_958d2b4fc3237d70d9a206e37e77408e.hex    cols: 1001    rows: 299  chunks: 1    size: 116394  checksum: -6056817919621782564\n",
      "11:48:48.534: leaderboard frame: Frame key: automl_leaderboard_Key_Frame__upload_bda813b127bcd89ace4c72baba294ffe.hex    cols: 1001    rows: 120  chunks: 2    size: 173698  checksum: 8393459867354636738\n",
      "11:48:48.534: blending frame: NULL\n",
      "11:48:48.534: response column: label\n",
      "11:48:48.534: fold column: null\n",
      "11:48:48.534: weights column: null\n",
      "11:48:48.534: New models will be added to existing leaderboard AutoML_20210517_114544661@@label (leaderboard frame=automl_leaderboard_Key_Frame__upload_bda813b127bcd89ace4c72baba294ffe.hex) with already 103 models.\n",
      "11:48:48.535: Loading execution steps: [{XGBoost : defaults}, {GLM : defaults}, {DRF : [def_1]}, {GBM : defaults}, {DeepLearning : defaults}, {DRF : [XRT]}, {XGBoost : grids}, {GBM : grids}, {DeepLearning : grids}, {GBM : [lr_annealing]}, {XGBoost : [lr_search]}, {StackedEnsemble : defaults}]\n",
      "11:48:48.536: AutoML job created: 2021.05.17 11:48:48.401\n",
      "11:48:48.537: AutoML build started: 2021.05.17 11:48:48.537\n",
      "11:48:48.537: AutoML: starting XGBoost_1_AutoML_20210517_114848 model training\n",
      "\n",
      "\n",
      "11:48:50.585: AutoML: starting XGBoost_2_AutoML_20210517_114848 model training\n",
      "\n",
      "█\n",
      "11:48:52.622: AutoML: starting XGBoost_3_AutoML_20210517_114848 model training\n",
      "\n",
      "██\n",
      "11:48:54.650: AutoML: starting GLM_1_AutoML_20210517_114848 model training\n",
      "11:48:55.682: AutoML: starting DRF_1_AutoML_20210517_114848 model training\n",
      "\n",
      "███\n",
      "11:48:58.733: AutoML: starting GBM_1_AutoML_20210517_114848 model training\n",
      "\n",
      "███\n",
      "11:49:02.785: AutoML: starting GBM_2_AutoML_20210517_114848 model training\n",
      "\n",
      "███\n",
      "11:49:07.861: AutoML: starting GBM_3_AutoML_20210517_114848 model training\n",
      "\n",
      "█\n",
      "11:49:12.910: AutoML: starting GBM_4_AutoML_20210517_114848 model training\n",
      "\n",
      "██\n",
      "11:49:17.979: AutoML: starting GBM_5_AutoML_20210517_114848 model training\n",
      "\n",
      "\n",
      "11:49:21.32: AutoML: starting DeepLearning_1_AutoML_20210517_114848 model training\n",
      "\n",
      "█\n",
      "11:49:23.102: AutoML: starting XRT_1_AutoML_20210517_114848 model training\n",
      "\n",
      "██\n",
      "11:49:27.145: AutoML: starting XGBoost_grid__1_AutoML_20210517_114848 hyperparameter search\n",
      "\n",
      "████████\n",
      "11:52:53.12: AutoML: starting GBM_grid__1_AutoML_20210517_114848 hyperparameter search\n",
      "\n",
      "███████████████████████\n",
      "11:57:46.481: AutoML: starting DeepLearning_grid__1_AutoML_20210517_114848 hyperparameter search\n",
      "\n",
      "██████\n",
      "12:09:08.885: AutoML: starting DeepLearning_grid__2_AutoML_20210517_114848 hyperparameter search\n",
      "\n",
      "\n",
      "12:20:29.667: AutoML: starting DeepLearning_grid__3_AutoML_20210517_114848 hyperparameter search\n",
      "\n",
      "█| 100%\n",
      "\n",
      "12:31:51.162: Cross-validation is disabled by the user and no blending frame was provided; skipping StackedEnsemble 'best'.\n",
      "12:31:51.162: Cross-validation is disabled by the user and no blending frame was provided; skipping StackedEnsemble 'all'.\n",
      "12:31:51.165: No base models, due to timeouts or the exclude_algos option. Skipping StackedEnsemble 'monotonic'.\n",
      "12:31:51.165: Actual modeling steps: [{XGBoost : [def_1 (10), def_2 (10), def_3 (10)]}, {GLM : [def_1 (10)]}, {DRF : [def_1 (10)]}, {GBM : [def_1 (10), def_2 (10), def_3 (10), def_4 (10), def_5 (10)]}, {DeepLearning : [def_1 (10)]}, {DRF : [XRT (10)]}, {XGBoost : [grid_1 (100)]}, {GBM : [grid_1 (60)]}, {DeepLearning : [grid_1 (20), grid_2 (20), grid_3 (20)]}]\n",
      "12:31:51.165: AutoML build stopped: 2021.05.17 12:31:51.165\n",
      "12:31:51.165: AutoML build done: built 273 models\n",
      "12:31:51.165: AutoML duration: 43 min  2.628 sec\n",
      "\n"
     ]
    }
   ],
   "source": [
    "aml.train(x=x,y=y,training_frame=h2o_train_df,validation_frame=h2o_test_df)"
   ]
  },
  {
   "cell_type": "code",
   "execution_count": 80,
   "metadata": {},
   "outputs": [
    {
     "data": {
      "text/html": [
       "<table>\n",
       "<thead>\n",
       "<tr><th>model_id                                            </th><th style=\"text-align: right;\">     auc</th><th style=\"text-align: right;\">  logloss</th><th style=\"text-align: right;\">   aucpr</th><th style=\"text-align: right;\">  mean_per_class_error</th><th style=\"text-align: right;\">    rmse</th><th style=\"text-align: right;\">      mse</th></tr>\n",
       "</thead>\n",
       "<tbody>\n",
       "<tr><td>XRT_1_AutoML_20210517_114544                        </td><td style=\"text-align: right;\">0.995192</td><td style=\"text-align: right;\">0.25271  </td><td style=\"text-align: right;\">0.996042</td><td style=\"text-align: right;\">             0.0288462</td><td style=\"text-align: right;\">0.252672</td><td style=\"text-align: right;\">0.063843 </td></tr>\n",
       "<tr><td>XRT_1_AutoML_20210517_114848                        </td><td style=\"text-align: right;\">0.995192</td><td style=\"text-align: right;\">0.25271  </td><td style=\"text-align: right;\">0.996042</td><td style=\"text-align: right;\">             0.0288462</td><td style=\"text-align: right;\">0.252672</td><td style=\"text-align: right;\">0.063843 </td></tr>\n",
       "<tr><td>GBM_grid__1_AutoML_20210517_114848_model_94         </td><td style=\"text-align: right;\">0.994627</td><td style=\"text-align: right;\">0.215642 </td><td style=\"text-align: right;\">0.995907</td><td style=\"text-align: right;\">             0.0361991</td><td style=\"text-align: right;\">0.23361 </td><td style=\"text-align: right;\">0.0545738</td></tr>\n",
       "<tr><td>XGBoost_grid__1_AutoML_20210517_114848_model_94     </td><td style=\"text-align: right;\">0.994061</td><td style=\"text-align: right;\">0.194501 </td><td style=\"text-align: right;\">0.995492</td><td style=\"text-align: right;\">             0.0480769</td><td style=\"text-align: right;\">0.233087</td><td style=\"text-align: right;\">0.0543297</td></tr>\n",
       "<tr><td>DRF_1_AutoML_20210517_114848                        </td><td style=\"text-align: right;\">0.993495</td><td style=\"text-align: right;\">0.265254 </td><td style=\"text-align: right;\">0.995052</td><td style=\"text-align: right;\">             0.0458145</td><td style=\"text-align: right;\">0.263105</td><td style=\"text-align: right;\">0.0692244</td></tr>\n",
       "<tr><td>DRF_1_AutoML_20210517_114544                        </td><td style=\"text-align: right;\">0.993495</td><td style=\"text-align: right;\">0.265254 </td><td style=\"text-align: right;\">0.995052</td><td style=\"text-align: right;\">             0.0458145</td><td style=\"text-align: right;\">0.263105</td><td style=\"text-align: right;\">0.0692244</td></tr>\n",
       "<tr><td>GBM_grid__1_AutoML_20210517_114848_model_18         </td><td style=\"text-align: right;\">0.992647</td><td style=\"text-align: right;\">0.233011 </td><td style=\"text-align: right;\">0.994575</td><td style=\"text-align: right;\">             0.043552 </td><td style=\"text-align: right;\">0.242267</td><td style=\"text-align: right;\">0.0586931</td></tr>\n",
       "<tr><td>DeepLearning_grid__1_AutoML_20210517_114848_model_9 </td><td style=\"text-align: right;\">0.992364</td><td style=\"text-align: right;\">0.450174 </td><td style=\"text-align: right;\">0.995508</td><td style=\"text-align: right;\">             0.0147059</td><td style=\"text-align: right;\">0.206628</td><td style=\"text-align: right;\">0.0426952</td></tr>\n",
       "<tr><td>DeepLearning_grid__2_AutoML_20210517_114848_model_8 </td><td style=\"text-align: right;\">0.992364</td><td style=\"text-align: right;\">0.152153 </td><td style=\"text-align: right;\">0.994614</td><td style=\"text-align: right;\">             0.0316742</td><td style=\"text-align: right;\">0.180723</td><td style=\"text-align: right;\">0.0326609</td></tr>\n",
       "<tr><td>GBM_grid__1_AutoML_20210517_114848_model_16         </td><td style=\"text-align: right;\">0.991799</td><td style=\"text-align: right;\">0.22387  </td><td style=\"text-align: right;\">0.994155</td><td style=\"text-align: right;\">             0.0367647</td><td style=\"text-align: right;\">0.242323</td><td style=\"text-align: right;\">0.0587203</td></tr>\n",
       "<tr><td>DeepLearning_grid__1_AutoML_20210517_114848_model_6 </td><td style=\"text-align: right;\">0.991516</td><td style=\"text-align: right;\">0.398436 </td><td style=\"text-align: right;\">0.993831</td><td style=\"text-align: right;\">             0.0316742</td><td style=\"text-align: right;\">0.18335 </td><td style=\"text-align: right;\">0.0336173</td></tr>\n",
       "<tr><td>GBM_grid__1_AutoML_20210517_114848_model_64         </td><td style=\"text-align: right;\">0.991233</td><td style=\"text-align: right;\">0.196589 </td><td style=\"text-align: right;\">0.993224</td><td style=\"text-align: right;\">             0.0265837</td><td style=\"text-align: right;\">0.236343</td><td style=\"text-align: right;\">0.0558581</td></tr>\n",
       "<tr><td>GBM_2_AutoML_20210517_114544                        </td><td style=\"text-align: right;\">0.990809</td><td style=\"text-align: right;\">0.240584 </td><td style=\"text-align: right;\">0.993011</td><td style=\"text-align: right;\">             0.043552 </td><td style=\"text-align: right;\">0.255269</td><td style=\"text-align: right;\">0.065162 </td></tr>\n",
       "<tr><td>GBM_2_AutoML_20210517_114848                        </td><td style=\"text-align: right;\">0.990809</td><td style=\"text-align: right;\">0.240584 </td><td style=\"text-align: right;\">0.993011</td><td style=\"text-align: right;\">             0.043552 </td><td style=\"text-align: right;\">0.255269</td><td style=\"text-align: right;\">0.065162 </td></tr>\n",
       "<tr><td>DeepLearning_grid__2_AutoML_20210517_114848_model_3 </td><td style=\"text-align: right;\">0.990667</td><td style=\"text-align: right;\">0.0983591</td><td style=\"text-align: right;\">0.99484 </td><td style=\"text-align: right;\">             0.0147059</td><td style=\"text-align: right;\">0.151404</td><td style=\"text-align: right;\">0.0229231</td></tr>\n",
       "<tr><td>XGBoost_grid__1_AutoML_20210517_114848_model_78     </td><td style=\"text-align: right;\">0.990102</td><td style=\"text-align: right;\">0.193    </td><td style=\"text-align: right;\">0.99289 </td><td style=\"text-align: right;\">             0.0441176</td><td style=\"text-align: right;\">0.228976</td><td style=\"text-align: right;\">0.05243  </td></tr>\n",
       "<tr><td>XGBoost_grid__1_AutoML_20210517_114544_model_78     </td><td style=\"text-align: right;\">0.990102</td><td style=\"text-align: right;\">0.193    </td><td style=\"text-align: right;\">0.99289 </td><td style=\"text-align: right;\">             0.0441176</td><td style=\"text-align: right;\">0.228976</td><td style=\"text-align: right;\">0.05243  </td></tr>\n",
       "<tr><td>GLM_1_AutoML_20210517_114544                        </td><td style=\"text-align: right;\">0.990102</td><td style=\"text-align: right;\">0.2131   </td><td style=\"text-align: right;\">0.994732</td><td style=\"text-align: right;\">             0.0169683</td><td style=\"text-align: right;\">0.22007 </td><td style=\"text-align: right;\">0.0484309</td></tr>\n",
       "<tr><td>GLM_1_AutoML_20210517_114848                        </td><td style=\"text-align: right;\">0.990102</td><td style=\"text-align: right;\">0.2131   </td><td style=\"text-align: right;\">0.994732</td><td style=\"text-align: right;\">             0.0169683</td><td style=\"text-align: right;\">0.22007 </td><td style=\"text-align: right;\">0.0484309</td></tr>\n",
       "<tr><td>GBM_grid__1_AutoML_20210517_114848_model_81         </td><td style=\"text-align: right;\">0.989819</td><td style=\"text-align: right;\">0.247257 </td><td style=\"text-align: right;\">0.992523</td><td style=\"text-align: right;\">             0.0531674</td><td style=\"text-align: right;\">0.259434</td><td style=\"text-align: right;\">0.067306 </td></tr>\n",
       "<tr><td>XGBoost_3_AutoML_20210517_114544                    </td><td style=\"text-align: right;\">0.989819</td><td style=\"text-align: right;\">0.210967 </td><td style=\"text-align: right;\">0.992553</td><td style=\"text-align: right;\">             0.0554299</td><td style=\"text-align: right;\">0.242189</td><td style=\"text-align: right;\">0.0586553</td></tr>\n",
       "<tr><td>XGBoost_3_AutoML_20210517_114848                    </td><td style=\"text-align: right;\">0.989819</td><td style=\"text-align: right;\">0.210967 </td><td style=\"text-align: right;\">0.992553</td><td style=\"text-align: right;\">             0.0554299</td><td style=\"text-align: right;\">0.242189</td><td style=\"text-align: right;\">0.0586553</td></tr>\n",
       "<tr><td>DeepLearning_grid__3_AutoML_20210517_114848_model_18</td><td style=\"text-align: right;\">0.989819</td><td style=\"text-align: right;\">0.214555 </td><td style=\"text-align: right;\">0.993737</td><td style=\"text-align: right;\">             0.0316742</td><td style=\"text-align: right;\">0.196676</td><td style=\"text-align: right;\">0.0386814</td></tr>\n",
       "<tr><td>GBM_grid__1_AutoML_20210517_114848_model_84         </td><td style=\"text-align: right;\">0.989536</td><td style=\"text-align: right;\">0.255971 </td><td style=\"text-align: right;\">0.992239</td><td style=\"text-align: right;\">             0.053733 </td><td style=\"text-align: right;\">0.261853</td><td style=\"text-align: right;\">0.0685668</td></tr>\n",
       "<tr><td>DeepLearning_grid__3_AutoML_20210517_114848_model_10</td><td style=\"text-align: right;\">0.989253</td><td style=\"text-align: right;\">0.156001 </td><td style=\"text-align: right;\">0.993908</td><td style=\"text-align: right;\">             0.0220588</td><td style=\"text-align: right;\">0.176397</td><td style=\"text-align: right;\">0.0311158</td></tr>\n",
       "<tr><td>XGBoost_grid__1_AutoML_20210517_114848_model_51     </td><td style=\"text-align: right;\">0.988971</td><td style=\"text-align: right;\">0.176618 </td><td style=\"text-align: right;\">0.991847</td><td style=\"text-align: right;\">             0.0769231</td><td style=\"text-align: right;\">0.232681</td><td style=\"text-align: right;\">0.0541406</td></tr>\n",
       "<tr><td>GBM_grid__1_AutoML_20210517_114848_model_22         </td><td style=\"text-align: right;\">0.988971</td><td style=\"text-align: right;\">0.230149 </td><td style=\"text-align: right;\">0.991941</td><td style=\"text-align: right;\">             0.0412896</td><td style=\"text-align: right;\">0.247029</td><td style=\"text-align: right;\">0.0610234</td></tr>\n",
       "<tr><td>XGBoost_grid__1_AutoML_20210517_114544_model_51     </td><td style=\"text-align: right;\">0.988971</td><td style=\"text-align: right;\">0.176618 </td><td style=\"text-align: right;\">0.991847</td><td style=\"text-align: right;\">             0.0769231</td><td style=\"text-align: right;\">0.232681</td><td style=\"text-align: right;\">0.0541406</td></tr>\n",
       "<tr><td>GBM_grid__1_AutoML_20210517_114848_model_56         </td><td style=\"text-align: right;\">0.988971</td><td style=\"text-align: right;\">0.336495 </td><td style=\"text-align: right;\">0.991638</td><td style=\"text-align: right;\">             0.0531674</td><td style=\"text-align: right;\">0.304367</td><td style=\"text-align: right;\">0.0926393</td></tr>\n",
       "<tr><td>GBM_grid__1_AutoML_20210517_114848_model_75         </td><td style=\"text-align: right;\">0.988688</td><td style=\"text-align: right;\">0.262877 </td><td style=\"text-align: right;\">0.991794</td><td style=\"text-align: right;\">             0.0412896</td><td style=\"text-align: right;\">0.260872</td><td style=\"text-align: right;\">0.068054 </td></tr>\n",
       "<tr><td>GBM_grid__1_AutoML_20210517_114848_model_85         </td><td style=\"text-align: right;\">0.988688</td><td style=\"text-align: right;\">0.206878 </td><td style=\"text-align: right;\">0.991775</td><td style=\"text-align: right;\">             0.0605204</td><td style=\"text-align: right;\">0.235797</td><td style=\"text-align: right;\">0.0556001</td></tr>\n",
       "<tr><td>DeepLearning_grid__3_AutoML_20210517_114848_model_2 </td><td style=\"text-align: right;\">0.988688</td><td style=\"text-align: right;\">0.208118 </td><td style=\"text-align: right;\">0.993733</td><td style=\"text-align: right;\">             0.0243213</td><td style=\"text-align: right;\">0.157596</td><td style=\"text-align: right;\">0.0248364</td></tr>\n",
       "<tr><td>GBM_grid__1_AutoML_20210517_114848_model_65         </td><td style=\"text-align: right;\">0.988688</td><td style=\"text-align: right;\">0.270298 </td><td style=\"text-align: right;\">0.991408</td><td style=\"text-align: right;\">             0.0486425</td><td style=\"text-align: right;\">0.27198 </td><td style=\"text-align: right;\">0.0739734</td></tr>\n",
       "<tr><td>XGBoost_grid__1_AutoML_20210517_114544_model_74     </td><td style=\"text-align: right;\">0.988405</td><td style=\"text-align: right;\">0.18932  </td><td style=\"text-align: right;\">0.991623</td><td style=\"text-align: right;\">             0.0531674</td><td style=\"text-align: right;\">0.230144</td><td style=\"text-align: right;\">0.0529663</td></tr>\n",
       "<tr><td>GBM_3_AutoML_20210517_114848                        </td><td style=\"text-align: right;\">0.988405</td><td style=\"text-align: right;\">0.232596 </td><td style=\"text-align: right;\">0.991526</td><td style=\"text-align: right;\">             0.050905 </td><td style=\"text-align: right;\">0.250108</td><td style=\"text-align: right;\">0.0625539</td></tr>\n",
       "<tr><td>DeepLearning_grid__1_AutoML_20210517_114848_model_7 </td><td style=\"text-align: right;\">0.988405</td><td style=\"text-align: right;\">0.190197 </td><td style=\"text-align: right;\">0.991527</td><td style=\"text-align: right;\">             0.0339367</td><td style=\"text-align: right;\">0.186035</td><td style=\"text-align: right;\">0.0346089</td></tr>\n",
       "<tr><td>GBM_3_AutoML_20210517_114544                        </td><td style=\"text-align: right;\">0.988405</td><td style=\"text-align: right;\">0.232596 </td><td style=\"text-align: right;\">0.991526</td><td style=\"text-align: right;\">             0.050905 </td><td style=\"text-align: right;\">0.250108</td><td style=\"text-align: right;\">0.0625539</td></tr>\n",
       "<tr><td>XGBoost_grid__1_AutoML_20210517_114848_model_74     </td><td style=\"text-align: right;\">0.988405</td><td style=\"text-align: right;\">0.18932  </td><td style=\"text-align: right;\">0.991623</td><td style=\"text-align: right;\">             0.0531674</td><td style=\"text-align: right;\">0.230144</td><td style=\"text-align: right;\">0.0529663</td></tr>\n",
       "<tr><td>GBM_grid__1_AutoML_20210517_114848_model_77         </td><td style=\"text-align: right;\">0.988122</td><td style=\"text-align: right;\">0.205594 </td><td style=\"text-align: right;\">0.991561</td><td style=\"text-align: right;\">             0.043552 </td><td style=\"text-align: right;\">0.235332</td><td style=\"text-align: right;\">0.0553813</td></tr>\n",
       "<tr><td>DeepLearning_grid__1_AutoML_20210517_114848_model_8 </td><td style=\"text-align: right;\">0.987839</td><td style=\"text-align: right;\">0.410366 </td><td style=\"text-align: right;\">0.991851</td><td style=\"text-align: right;\">             0.0316742</td><td style=\"text-align: right;\">0.226906</td><td style=\"text-align: right;\">0.0514862</td></tr>\n",
       "<tr><td>GBM_grid__1_AutoML_20210517_114848_model_3          </td><td style=\"text-align: right;\">0.987839</td><td style=\"text-align: right;\">0.25879  </td><td style=\"text-align: right;\">0.99079 </td><td style=\"text-align: right;\">             0.0673077</td><td style=\"text-align: right;\">0.266288</td><td style=\"text-align: right;\">0.0709096</td></tr>\n",
       "<tr><td>GBM_grid__1_AutoML_20210517_114848_model_11         </td><td style=\"text-align: right;\">0.987839</td><td style=\"text-align: right;\">0.204653 </td><td style=\"text-align: right;\">0.991186</td><td style=\"text-align: right;\">             0.0650452</td><td style=\"text-align: right;\">0.236122</td><td style=\"text-align: right;\">0.0557535</td></tr>\n",
       "<tr><td>DeepLearning_grid__3_AutoML_20210517_114848_model_8 </td><td style=\"text-align: right;\">0.987557</td><td style=\"text-align: right;\">0.116127 </td><td style=\"text-align: right;\">0.994059</td><td style=\"text-align: right;\">             0.0169683</td><td style=\"text-align: right;\">0.135213</td><td style=\"text-align: right;\">0.0182825</td></tr>\n",
       "<tr><td>GBM_grid__1_AutoML_20210517_114848_model_19         </td><td style=\"text-align: right;\">0.987557</td><td style=\"text-align: right;\">0.248736 </td><td style=\"text-align: right;\">0.990414</td><td style=\"text-align: right;\">             0.0486425</td><td style=\"text-align: right;\">0.260329</td><td style=\"text-align: right;\">0.0677711</td></tr>\n",
       "<tr><td>XGBoost_grid__1_AutoML_20210517_114848_model_58     </td><td style=\"text-align: right;\">0.987415</td><td style=\"text-align: right;\">0.178206 </td><td style=\"text-align: right;\">0.991785</td><td style=\"text-align: right;\">             0.0339367</td><td style=\"text-align: right;\">0.22163 </td><td style=\"text-align: right;\">0.0491197</td></tr>\n",
       "<tr><td>XGBoost_grid__1_AutoML_20210517_114544_model_58     </td><td style=\"text-align: right;\">0.987415</td><td style=\"text-align: right;\">0.178206 </td><td style=\"text-align: right;\">0.991785</td><td style=\"text-align: right;\">             0.0339367</td><td style=\"text-align: right;\">0.22163 </td><td style=\"text-align: right;\">0.0491197</td></tr>\n",
       "<tr><td>DeepLearning_grid__2_AutoML_20210517_114848_model_18</td><td style=\"text-align: right;\">0.987274</td><td style=\"text-align: right;\">0.201616 </td><td style=\"text-align: right;\">0.992383</td><td style=\"text-align: right;\">             0.0458145</td><td style=\"text-align: right;\">0.207324</td><td style=\"text-align: right;\">0.0429834</td></tr>\n",
       "<tr><td>XGBoost_grid__1_AutoML_20210517_114848_model_75     </td><td style=\"text-align: right;\">0.987274</td><td style=\"text-align: right;\">0.212011 </td><td style=\"text-align: right;\">0.991276</td><td style=\"text-align: right;\">             0.0531674</td><td style=\"text-align: right;\">0.249573</td><td style=\"text-align: right;\">0.0622869</td></tr>\n",
       "<tr><td>GBM_grid__1_AutoML_20210517_114848_model_86         </td><td style=\"text-align: right;\">0.987274</td><td style=\"text-align: right;\">0.2105   </td><td style=\"text-align: right;\">0.990784</td><td style=\"text-align: right;\">             0.050905 </td><td style=\"text-align: right;\">0.241383</td><td style=\"text-align: right;\">0.0582658</td></tr>\n",
       "<tr><td>XGBoost_grid__1_AutoML_20210517_114544_model_75     </td><td style=\"text-align: right;\">0.987274</td><td style=\"text-align: right;\">0.212011 </td><td style=\"text-align: right;\">0.991276</td><td style=\"text-align: right;\">             0.0531674</td><td style=\"text-align: right;\">0.249573</td><td style=\"text-align: right;\">0.0622869</td></tr>\n",
       "<tr><td>GBM_grid__1_AutoML_20210517_114848_model_7          </td><td style=\"text-align: right;\">0.987274</td><td style=\"text-align: right;\">0.231712 </td><td style=\"text-align: right;\">0.992135</td><td style=\"text-align: right;\">             0.0531674</td><td style=\"text-align: right;\">0.2443  </td><td style=\"text-align: right;\">0.0596827</td></tr>\n",
       "<tr><td>XGBoost_grid__1_AutoML_20210517_114848_model_14     </td><td style=\"text-align: right;\">0.986991</td><td style=\"text-align: right;\">0.205912 </td><td style=\"text-align: right;\">0.990511</td><td style=\"text-align: right;\">             0.0678733</td><td style=\"text-align: right;\">0.239972</td><td style=\"text-align: right;\">0.0575866</td></tr>\n",
       "<tr><td>XGBoost_grid__1_AutoML_20210517_114848_model_86     </td><td style=\"text-align: right;\">0.986991</td><td style=\"text-align: right;\">0.25661  </td><td style=\"text-align: right;\">0.990113</td><td style=\"text-align: right;\">             0.0486425</td><td style=\"text-align: right;\">0.256889</td><td style=\"text-align: right;\">0.0659922</td></tr>\n",
       "<tr><td>XGBoost_grid__1_AutoML_20210517_114544_model_86     </td><td style=\"text-align: right;\">0.986991</td><td style=\"text-align: right;\">0.25661  </td><td style=\"text-align: right;\">0.990113</td><td style=\"text-align: right;\">             0.0486425</td><td style=\"text-align: right;\">0.256889</td><td style=\"text-align: right;\">0.0659922</td></tr>\n",
       "<tr><td>GBM_grid__1_AutoML_20210517_114848_model_24         </td><td style=\"text-align: right;\">0.986991</td><td style=\"text-align: right;\">0.260807 </td><td style=\"text-align: right;\">0.989597</td><td style=\"text-align: right;\">             0.0458145</td><td style=\"text-align: right;\">0.269772</td><td style=\"text-align: right;\">0.0727769</td></tr>\n",
       "<tr><td>XGBoost_grid__1_AutoML_20210517_114544_model_14     </td><td style=\"text-align: right;\">0.986991</td><td style=\"text-align: right;\">0.205912 </td><td style=\"text-align: right;\">0.990511</td><td style=\"text-align: right;\">             0.0678733</td><td style=\"text-align: right;\">0.239972</td><td style=\"text-align: right;\">0.0575866</td></tr>\n",
       "<tr><td>GBM_grid__1_AutoML_20210517_114848_model_99         </td><td style=\"text-align: right;\">0.986991</td><td style=\"text-align: right;\">0.213137 </td><td style=\"text-align: right;\">0.990217</td><td style=\"text-align: right;\">             0.0746606</td><td style=\"text-align: right;\">0.244711</td><td style=\"text-align: right;\">0.0598832</td></tr>\n",
       "<tr><td>GBM_grid__1_AutoML_20210517_114848_model_80         </td><td style=\"text-align: right;\">0.986991</td><td style=\"text-align: right;\">0.213005 </td><td style=\"text-align: right;\">0.990385</td><td style=\"text-align: right;\">             0.050905 </td><td style=\"text-align: right;\">0.245472</td><td style=\"text-align: right;\">0.0602565</td></tr>\n",
       "<tr><td>XGBoost_grid__1_AutoML_20210517_114544_model_26     </td><td style=\"text-align: right;\">0.986425</td><td style=\"text-align: right;\">0.173173 </td><td style=\"text-align: right;\">0.991198</td><td style=\"text-align: right;\">             0.0531674</td><td style=\"text-align: right;\">0.223455</td><td style=\"text-align: right;\">0.049932 </td></tr>\n",
       "<tr><td>GBM_4_AutoML_20210517_114544                        </td><td style=\"text-align: right;\">0.986425</td><td style=\"text-align: right;\">0.234354 </td><td style=\"text-align: right;\">0.989689</td><td style=\"text-align: right;\">             0.0627828</td><td style=\"text-align: right;\">0.254302</td><td style=\"text-align: right;\">0.0646696</td></tr>\n",
       "<tr><td>XGBoost_grid__1_AutoML_20210517_114848_model_26     </td><td style=\"text-align: right;\">0.986425</td><td style=\"text-align: right;\">0.173173 </td><td style=\"text-align: right;\">0.991198</td><td style=\"text-align: right;\">             0.0531674</td><td style=\"text-align: right;\">0.223455</td><td style=\"text-align: right;\">0.049932 </td></tr>\n",
       "<tr><td>GBM_4_AutoML_20210517_114848                        </td><td style=\"text-align: right;\">0.986425</td><td style=\"text-align: right;\">0.234354 </td><td style=\"text-align: right;\">0.989689</td><td style=\"text-align: right;\">             0.0627828</td><td style=\"text-align: right;\">0.254302</td><td style=\"text-align: right;\">0.0646696</td></tr>\n",
       "<tr><td>GBM_grid__1_AutoML_20210517_114848_model_58         </td><td style=\"text-align: right;\">0.986425</td><td style=\"text-align: right;\">0.241543 </td><td style=\"text-align: right;\">0.989692</td><td style=\"text-align: right;\">             0.0531674</td><td style=\"text-align: right;\">0.259957</td><td style=\"text-align: right;\">0.0675779</td></tr>\n",
       "<tr><td>GBM_grid__1_AutoML_20210517_114848_model_59         </td><td style=\"text-align: right;\">0.986284</td><td style=\"text-align: right;\">0.202897 </td><td style=\"text-align: right;\">0.991242</td><td style=\"text-align: right;\">             0.0339367</td><td style=\"text-align: right;\">0.229066</td><td style=\"text-align: right;\">0.0524714</td></tr>\n",
       "<tr><td>XGBoost_grid__1_AutoML_20210517_114848_model_10     </td><td style=\"text-align: right;\">0.986284</td><td style=\"text-align: right;\">0.196504 </td><td style=\"text-align: right;\">0.990799</td><td style=\"text-align: right;\">             0.0390271</td><td style=\"text-align: right;\">0.240315</td><td style=\"text-align: right;\">0.0577511</td></tr>\n",
       "<tr><td>XGBoost_grid__1_AutoML_20210517_114544_model_10     </td><td style=\"text-align: right;\">0.986284</td><td style=\"text-align: right;\">0.196504 </td><td style=\"text-align: right;\">0.990799</td><td style=\"text-align: right;\">             0.0390271</td><td style=\"text-align: right;\">0.240315</td><td style=\"text-align: right;\">0.0577511</td></tr>\n",
       "<tr><td>GBM_grid__1_AutoML_20210517_114848_model_5          </td><td style=\"text-align: right;\">0.986143</td><td style=\"text-align: right;\">0.21791  </td><td style=\"text-align: right;\">0.990792</td><td style=\"text-align: right;\">             0.050905 </td><td style=\"text-align: right;\">0.237444</td><td style=\"text-align: right;\">0.0563796</td></tr>\n",
       "<tr><td>GBM_grid__1_AutoML_20210517_114848_model_61         </td><td style=\"text-align: right;\">0.985436</td><td style=\"text-align: right;\">0.18608  </td><td style=\"text-align: right;\">0.991005</td><td style=\"text-align: right;\">             0.0531674</td><td style=\"text-align: right;\">0.218763</td><td style=\"text-align: right;\">0.0478571</td></tr>\n",
       "<tr><td>GBM_grid__1_AutoML_20210517_114848_model_74         </td><td style=\"text-align: right;\">0.985436</td><td style=\"text-align: right;\">0.278565 </td><td style=\"text-align: right;\">0.990822</td><td style=\"text-align: right;\">             0.0339367</td><td style=\"text-align: right;\">0.27241 </td><td style=\"text-align: right;\">0.0742073</td></tr>\n",
       "<tr><td>XGBoost_grid__1_AutoML_20210517_114848_model_29     </td><td style=\"text-align: right;\">0.985294</td><td style=\"text-align: right;\">0.223765 </td><td style=\"text-align: right;\">0.989563</td><td style=\"text-align: right;\">             0.0605204</td><td style=\"text-align: right;\">0.248812</td><td style=\"text-align: right;\">0.0619074</td></tr>\n",
       "<tr><td>XGBoost_grid__1_AutoML_20210517_114544_model_29     </td><td style=\"text-align: right;\">0.985294</td><td style=\"text-align: right;\">0.223765 </td><td style=\"text-align: right;\">0.989563</td><td style=\"text-align: right;\">             0.0605204</td><td style=\"text-align: right;\">0.248812</td><td style=\"text-align: right;\">0.0619074</td></tr>\n",
       "<tr><td>GBM_grid__1_AutoML_20210517_114848_model_41         </td><td style=\"text-align: right;\">0.985153</td><td style=\"text-align: right;\">0.258307 </td><td style=\"text-align: right;\">0.990135</td><td style=\"text-align: right;\">             0.0412896</td><td style=\"text-align: right;\">0.261291</td><td style=\"text-align: right;\">0.0682732</td></tr>\n",
       "<tr><td>XGBoost_grid__1_AutoML_20210517_114848_model_45     </td><td style=\"text-align: right;\">0.985011</td><td style=\"text-align: right;\">0.266458 </td><td style=\"text-align: right;\">0.99022 </td><td style=\"text-align: right;\">             0.0486425</td><td style=\"text-align: right;\">0.264011</td><td style=\"text-align: right;\">0.0697018</td></tr>\n",
       "<tr><td>XGBoost_grid__1_AutoML_20210517_114544_model_45     </td><td style=\"text-align: right;\">0.985011</td><td style=\"text-align: right;\">0.266458 </td><td style=\"text-align: right;\">0.99022 </td><td style=\"text-align: right;\">             0.0486425</td><td style=\"text-align: right;\">0.264011</td><td style=\"text-align: right;\">0.0697018</td></tr>\n",
       "<tr><td>DeepLearning_grid__2_AutoML_20210517_114848_model_21</td><td style=\"text-align: right;\">0.985011</td><td style=\"text-align: right;\">0.362043 </td><td style=\"text-align: right;\">0.991203</td><td style=\"text-align: right;\">             0.0243213</td><td style=\"text-align: right;\">0.198351</td><td style=\"text-align: right;\">0.0393431</td></tr>\n",
       "<tr><td>GBM_grid__1_AutoML_20210517_114848_model_82         </td><td style=\"text-align: right;\">0.985011</td><td style=\"text-align: right;\">0.294922 </td><td style=\"text-align: right;\">0.98894 </td><td style=\"text-align: right;\">             0.0678733</td><td style=\"text-align: right;\">0.281521</td><td style=\"text-align: right;\">0.0792542</td></tr>\n",
       "<tr><td>DeepLearning_grid__3_AutoML_20210517_114848_model_14</td><td style=\"text-align: right;\">0.985011</td><td style=\"text-align: right;\">0.142871 </td><td style=\"text-align: right;\">0.99146 </td><td style=\"text-align: right;\">             0.0390271</td><td style=\"text-align: right;\">0.193701</td><td style=\"text-align: right;\">0.0375202</td></tr>\n",
       "<tr><td>DeepLearning_grid__2_AutoML_20210517_114848_model_5 </td><td style=\"text-align: right;\">0.984729</td><td style=\"text-align: right;\">0.241154 </td><td style=\"text-align: right;\">0.992094</td><td style=\"text-align: right;\">             0.0265837</td><td style=\"text-align: right;\">0.178494</td><td style=\"text-align: right;\">0.03186  </td></tr>\n",
       "<tr><td>DeepLearning_grid__3_AutoML_20210517_114848_model_4 </td><td style=\"text-align: right;\">0.984729</td><td style=\"text-align: right;\">0.246198 </td><td style=\"text-align: right;\">0.990102</td><td style=\"text-align: right;\">             0.0554299</td><td style=\"text-align: right;\">0.219815</td><td style=\"text-align: right;\">0.0483185</td></tr>\n",
       "<tr><td>DeepLearning_grid__1_AutoML_20210517_114848_model_4 </td><td style=\"text-align: right;\">0.984729</td><td style=\"text-align: right;\">0.326407 </td><td style=\"text-align: right;\">0.9909  </td><td style=\"text-align: right;\">             0.0339367</td><td style=\"text-align: right;\">0.185493</td><td style=\"text-align: right;\">0.0344078</td></tr>\n",
       "<tr><td>GBM_grid__1_AutoML_20210517_114848_model_72         </td><td style=\"text-align: right;\">0.984729</td><td style=\"text-align: right;\">0.200365 </td><td style=\"text-align: right;\">0.990642</td><td style=\"text-align: right;\">             0.0486425</td><td style=\"text-align: right;\">0.231561</td><td style=\"text-align: right;\">0.0536206</td></tr>\n",
       "<tr><td>DeepLearning_grid__3_AutoML_20210517_114848_model_3 </td><td style=\"text-align: right;\">0.984446</td><td style=\"text-align: right;\">0.150155 </td><td style=\"text-align: right;\">0.991876</td><td style=\"text-align: right;\">             0.0265837</td><td style=\"text-align: right;\">0.18534 </td><td style=\"text-align: right;\">0.0343508</td></tr>\n",
       "<tr><td>DeepLearning_grid__1_AutoML_20210517_114848_model_1 </td><td style=\"text-align: right;\">0.984446</td><td style=\"text-align: right;\">0.368218 </td><td style=\"text-align: right;\">0.991759</td><td style=\"text-align: right;\">             0.0220588</td><td style=\"text-align: right;\">0.157811</td><td style=\"text-align: right;\">0.0249044</td></tr>\n",
       "<tr><td>GBM_grid__1_AutoML_20210517_114848_model_30         </td><td style=\"text-align: right;\">0.984304</td><td style=\"text-align: right;\">0.232152 </td><td style=\"text-align: right;\">0.989374</td><td style=\"text-align: right;\">             0.0554299</td><td style=\"text-align: right;\">0.247819</td><td style=\"text-align: right;\">0.0614143</td></tr>\n",
       "<tr><td>GBM_grid__1_AutoML_20210517_114848_model_33         </td><td style=\"text-align: right;\">0.984163</td><td style=\"text-align: right;\">0.33795  </td><td style=\"text-align: right;\">0.98802 </td><td style=\"text-align: right;\">             0.0656109</td><td style=\"text-align: right;\">0.307113</td><td style=\"text-align: right;\">0.0943184</td></tr>\n",
       "<tr><td>GBM_grid__1_AutoML_20210517_114848_model_83         </td><td style=\"text-align: right;\">0.984163</td><td style=\"text-align: right;\">0.238403 </td><td style=\"text-align: right;\">0.990646</td><td style=\"text-align: right;\">             0.0339367</td><td style=\"text-align: right;\">0.248184</td><td style=\"text-align: right;\">0.0615953</td></tr>\n",
       "<tr><td>DeepLearning_grid__2_AutoML_20210517_114848_model_13</td><td style=\"text-align: right;\">0.984163</td><td style=\"text-align: right;\">0.365572 </td><td style=\"text-align: right;\">0.992548</td><td style=\"text-align: right;\">             0.0169683</td><td style=\"text-align: right;\">0.198095</td><td style=\"text-align: right;\">0.0392417</td></tr>\n",
       "<tr><td>GBM_grid__1_AutoML_20210517_114848_model_44         </td><td style=\"text-align: right;\">0.984021</td><td style=\"text-align: right;\">0.316317 </td><td style=\"text-align: right;\">0.989453</td><td style=\"text-align: right;\">             0.050905 </td><td style=\"text-align: right;\">0.294442</td><td style=\"text-align: right;\">0.0866962</td></tr>\n",
       "<tr><td>GBM_grid__1_AutoML_20210517_114848_model_67         </td><td style=\"text-align: right;\">0.983597</td><td style=\"text-align: right;\">0.251744 </td><td style=\"text-align: right;\">0.987835</td><td style=\"text-align: right;\">             0.0605204</td><td style=\"text-align: right;\">0.259262</td><td style=\"text-align: right;\">0.0672167</td></tr>\n",
       "<tr><td>DeepLearning_grid__1_AutoML_20210517_114848_model_12</td><td style=\"text-align: right;\">0.983597</td><td style=\"text-align: right;\">0.157484 </td><td style=\"text-align: right;\">0.991338</td><td style=\"text-align: right;\">             0.0339367</td><td style=\"text-align: right;\">0.187064</td><td style=\"text-align: right;\">0.0349931</td></tr>\n",
       "<tr><td>GBM_grid__1_AutoML_20210517_114848_model_20         </td><td style=\"text-align: right;\">0.983597</td><td style=\"text-align: right;\">0.292074 </td><td style=\"text-align: right;\">0.989413</td><td style=\"text-align: right;\">             0.050905 </td><td style=\"text-align: right;\">0.282728</td><td style=\"text-align: right;\">0.079935 </td></tr>\n",
       "<tr><td>GBM_grid__1_AutoML_20210517_114848_model_69         </td><td style=\"text-align: right;\">0.983597</td><td style=\"text-align: right;\">0.226741 </td><td style=\"text-align: right;\">0.989122</td><td style=\"text-align: right;\">             0.0412896</td><td style=\"text-align: right;\">0.248448</td><td style=\"text-align: right;\">0.0617266</td></tr>\n",
       "<tr><td>DeepLearning_grid__1_AutoML_20210517_114848_model_11</td><td style=\"text-align: right;\">0.983314</td><td style=\"text-align: right;\">0.46825  </td><td style=\"text-align: right;\">0.990163</td><td style=\"text-align: right;\">             0.0390271</td><td style=\"text-align: right;\">0.212248</td><td style=\"text-align: right;\">0.0450491</td></tr>\n",
       "<tr><td>XGBoost_grid__1_AutoML_20210517_114544_model_2      </td><td style=\"text-align: right;\">0.983314</td><td style=\"text-align: right;\">0.243422 </td><td style=\"text-align: right;\">0.98981 </td><td style=\"text-align: right;\">             0.0486425</td><td style=\"text-align: right;\">0.259815</td><td style=\"text-align: right;\">0.0675037</td></tr>\n",
       "<tr><td>XGBoost_grid__1_AutoML_20210517_114848_model_2      </td><td style=\"text-align: right;\">0.983314</td><td style=\"text-align: right;\">0.243422 </td><td style=\"text-align: right;\">0.98981 </td><td style=\"text-align: right;\">             0.0486425</td><td style=\"text-align: right;\">0.259815</td><td style=\"text-align: right;\">0.0675037</td></tr>\n",
       "<tr><td>XGBoost_grid__1_AutoML_20210517_114848_model_32     </td><td style=\"text-align: right;\">0.983173</td><td style=\"text-align: right;\">0.183266 </td><td style=\"text-align: right;\">0.990291</td><td style=\"text-align: right;\">             0.0339367</td><td style=\"text-align: right;\">0.227036</td><td style=\"text-align: right;\">0.0515453</td></tr>\n",
       "<tr><td>XGBoost_grid__1_AutoML_20210517_114544_model_32     </td><td style=\"text-align: right;\">0.983173</td><td style=\"text-align: right;\">0.183266 </td><td style=\"text-align: right;\">0.990291</td><td style=\"text-align: right;\">             0.0339367</td><td style=\"text-align: right;\">0.227036</td><td style=\"text-align: right;\">0.0515453</td></tr>\n",
       "<tr><td>GBM_grid__1_AutoML_20210517_114848_model_34         </td><td style=\"text-align: right;\">0.983173</td><td style=\"text-align: right;\">0.303852 </td><td style=\"text-align: right;\">0.98877 </td><td style=\"text-align: right;\">             0.0627828</td><td style=\"text-align: right;\">0.287395</td><td style=\"text-align: right;\">0.0825956</td></tr>\n",
       "<tr><td>GBM_grid__1_AutoML_20210517_114848_model_90         </td><td style=\"text-align: right;\">0.983032</td><td style=\"text-align: right;\">0.265944 </td><td style=\"text-align: right;\">0.98902 </td><td style=\"text-align: right;\">             0.0412896</td><td style=\"text-align: right;\">0.262829</td><td style=\"text-align: right;\">0.0690793</td></tr>\n",
       "<tr><td>XGBoost_grid__1_AutoML_20210517_114544_model_85     </td><td style=\"text-align: right;\">0.983032</td><td style=\"text-align: right;\">0.207581 </td><td style=\"text-align: right;\">0.988297</td><td style=\"text-align: right;\">             0.0582579</td><td style=\"text-align: right;\">0.24051 </td><td style=\"text-align: right;\">0.0578449</td></tr>\n",
       "<tr><td>DeepLearning_grid__2_AutoML_20210517_114848_model_2 </td><td style=\"text-align: right;\">0.983032</td><td style=\"text-align: right;\">0.226184 </td><td style=\"text-align: right;\">0.991313</td><td style=\"text-align: right;\">             0.0316742</td><td style=\"text-align: right;\">0.187723</td><td style=\"text-align: right;\">0.03524  </td></tr>\n",
       "<tr><td>GBM_grid__1_AutoML_20210517_114848_model_54         </td><td style=\"text-align: right;\">0.983032</td><td style=\"text-align: right;\">0.216896 </td><td style=\"text-align: right;\">0.989016</td><td style=\"text-align: right;\">             0.043552 </td><td style=\"text-align: right;\">0.241591</td><td style=\"text-align: right;\">0.0583663</td></tr>\n",
       "<tr><td>XGBoost_grid__1_AutoML_20210517_114848_model_85     </td><td style=\"text-align: right;\">0.983032</td><td style=\"text-align: right;\">0.207581 </td><td style=\"text-align: right;\">0.988297</td><td style=\"text-align: right;\">             0.0582579</td><td style=\"text-align: right;\">0.24051 </td><td style=\"text-align: right;\">0.0578449</td></tr>\n",
       "<tr><td>DeepLearning_grid__1_AutoML_20210517_114848_model_3 </td><td style=\"text-align: right;\">0.982749</td><td style=\"text-align: right;\">0.137901 </td><td style=\"text-align: right;\">0.990629</td><td style=\"text-align: right;\">             0.0243213</td><td style=\"text-align: right;\">0.174227</td><td style=\"text-align: right;\">0.0303552</td></tr>\n",
       "<tr><td>DeepLearning_grid__3_AutoML_20210517_114848_model_13</td><td style=\"text-align: right;\">0.982749</td><td style=\"text-align: right;\">0.358933 </td><td style=\"text-align: right;\">0.9913  </td><td style=\"text-align: right;\">             0.0294118</td><td style=\"text-align: right;\">0.186263</td><td style=\"text-align: right;\">0.0346941</td></tr>\n",
       "<tr><td>XGBoost_grid__1_AutoML_20210517_114848_model_35     </td><td style=\"text-align: right;\">0.982749</td><td style=\"text-align: right;\">0.179625 </td><td style=\"text-align: right;\">0.989364</td><td style=\"text-align: right;\">             0.0531674</td><td style=\"text-align: right;\">0.232043</td><td style=\"text-align: right;\">0.0538441</td></tr>\n",
       "<tr><td>XGBoost_grid__1_AutoML_20210517_114544_model_35     </td><td style=\"text-align: right;\">0.982749</td><td style=\"text-align: right;\">0.179625 </td><td style=\"text-align: right;\">0.989364</td><td style=\"text-align: right;\">             0.0531674</td><td style=\"text-align: right;\">0.232043</td><td style=\"text-align: right;\">0.0538441</td></tr>\n",
       "<tr><td>DeepLearning_grid__3_AutoML_20210517_114848_model_5 </td><td style=\"text-align: right;\">0.982466</td><td style=\"text-align: right;\">0.350065 </td><td style=\"text-align: right;\">0.989749</td><td style=\"text-align: right;\">             0.0486425</td><td style=\"text-align: right;\">0.232699</td><td style=\"text-align: right;\">0.054149 </td></tr>\n",
       "<tr><td>GBM_grid__1_AutoML_20210517_114848_model_89         </td><td style=\"text-align: right;\">0.982466</td><td style=\"text-align: right;\">0.303053 </td><td style=\"text-align: right;\">0.987041</td><td style=\"text-align: right;\">             0.0559955</td><td style=\"text-align: right;\">0.287343</td><td style=\"text-align: right;\">0.0825659</td></tr>\n",
       "<tr><td>DeepLearning_grid__2_AutoML_20210517_114848_model_10</td><td style=\"text-align: right;\">0.982466</td><td style=\"text-align: right;\">0.255353 </td><td style=\"text-align: right;\">0.990062</td><td style=\"text-align: right;\">             0.0316742</td><td style=\"text-align: right;\">0.196605</td><td style=\"text-align: right;\">0.0386534</td></tr>\n",
       "<tr><td>XGBoost_grid__1_AutoML_20210517_114544_model_46     </td><td style=\"text-align: right;\">0.982183</td><td style=\"text-align: right;\">0.178276 </td><td style=\"text-align: right;\">0.988755</td><td style=\"text-align: right;\">             0.043552 </td><td style=\"text-align: right;\">0.228447</td><td style=\"text-align: right;\">0.0521882</td></tr>\n",
       "<tr><td>XGBoost_grid__1_AutoML_20210517_114848_model_46     </td><td style=\"text-align: right;\">0.982183</td><td style=\"text-align: right;\">0.178276 </td><td style=\"text-align: right;\">0.988755</td><td style=\"text-align: right;\">             0.043552 </td><td style=\"text-align: right;\">0.228447</td><td style=\"text-align: right;\">0.0521882</td></tr>\n",
       "<tr><td>GBM_grid__1_AutoML_20210517_114848_model_63         </td><td style=\"text-align: right;\">0.982183</td><td style=\"text-align: right;\">0.218576 </td><td style=\"text-align: right;\">0.9888  </td><td style=\"text-align: right;\">             0.0531674</td><td style=\"text-align: right;\">0.243141</td><td style=\"text-align: right;\">0.0591175</td></tr>\n",
       "<tr><td>DeepLearning_grid__1_AutoML_20210517_114848_model_2 </td><td style=\"text-align: right;\">0.9819  </td><td style=\"text-align: right;\">0.445079 </td><td style=\"text-align: right;\">0.989482</td><td style=\"text-align: right;\">             0.0294118</td><td style=\"text-align: right;\">0.182791</td><td style=\"text-align: right;\">0.0334125</td></tr>\n",
       "<tr><td>XGBoost_grid__1_AutoML_20210517_114848_model_7      </td><td style=\"text-align: right;\">0.981618</td><td style=\"text-align: right;\">0.166924 </td><td style=\"text-align: right;\">0.988656</td><td style=\"text-align: right;\">             0.0531674</td><td style=\"text-align: right;\">0.219517</td><td style=\"text-align: right;\">0.0481879</td></tr>\n",
       "<tr><td>XGBoost_grid__1_AutoML_20210517_114544_model_7      </td><td style=\"text-align: right;\">0.981618</td><td style=\"text-align: right;\">0.166924 </td><td style=\"text-align: right;\">0.988656</td><td style=\"text-align: right;\">             0.0531674</td><td style=\"text-align: right;\">0.219517</td><td style=\"text-align: right;\">0.0481879</td></tr>\n",
       "<tr><td>XGBoost_grid__1_AutoML_20210517_114544_model_38     </td><td style=\"text-align: right;\">0.981335</td><td style=\"text-align: right;\">0.23698  </td><td style=\"text-align: right;\">0.986369</td><td style=\"text-align: right;\">             0.0582579</td><td style=\"text-align: right;\">0.25927 </td><td style=\"text-align: right;\">0.0672212</td></tr>\n",
       "<tr><td>XGBoost_grid__1_AutoML_20210517_114544_model_65     </td><td style=\"text-align: right;\">0.981335</td><td style=\"text-align: right;\">0.247276 </td><td style=\"text-align: right;\">0.986583</td><td style=\"text-align: right;\">             0.0582579</td><td style=\"text-align: right;\">0.261562</td><td style=\"text-align: right;\">0.0684149</td></tr>\n",
       "<tr><td>XGBoost_grid__1_AutoML_20210517_114544_model_6      </td><td style=\"text-align: right;\">0.981335</td><td style=\"text-align: right;\">0.172194 </td><td style=\"text-align: right;\">0.989155</td><td style=\"text-align: right;\">             0.0486425</td><td style=\"text-align: right;\">0.220066</td><td style=\"text-align: right;\">0.0484291</td></tr>\n",
       "<tr><td>XGBoost_grid__1_AutoML_20210517_114848_model_38     </td><td style=\"text-align: right;\">0.981335</td><td style=\"text-align: right;\">0.23698  </td><td style=\"text-align: right;\">0.986369</td><td style=\"text-align: right;\">             0.0582579</td><td style=\"text-align: right;\">0.25927 </td><td style=\"text-align: right;\">0.0672212</td></tr>\n",
       "<tr><td>GBM_grid__1_AutoML_20210517_114848_model_71         </td><td style=\"text-align: right;\">0.981335</td><td style=\"text-align: right;\">0.231792 </td><td style=\"text-align: right;\">0.987431</td><td style=\"text-align: right;\">             0.043552 </td><td style=\"text-align: right;\">0.253363</td><td style=\"text-align: right;\">0.0641926</td></tr>\n",
       "<tr><td>XGBoost_grid__1_AutoML_20210517_114848_model_65     </td><td style=\"text-align: right;\">0.981335</td><td style=\"text-align: right;\">0.247276 </td><td style=\"text-align: right;\">0.986583</td><td style=\"text-align: right;\">             0.0582579</td><td style=\"text-align: right;\">0.261562</td><td style=\"text-align: right;\">0.0684149</td></tr>\n",
       "<tr><td>XGBoost_grid__1_AutoML_20210517_114848_model_6      </td><td style=\"text-align: right;\">0.981335</td><td style=\"text-align: right;\">0.172194 </td><td style=\"text-align: right;\">0.989155</td><td style=\"text-align: right;\">             0.0486425</td><td style=\"text-align: right;\">0.220066</td><td style=\"text-align: right;\">0.0484291</td></tr>\n",
       "<tr><td>DeepLearning_grid__3_AutoML_20210517_114848_model_21</td><td style=\"text-align: right;\">0.981335</td><td style=\"text-align: right;\">0.25535  </td><td style=\"text-align: right;\">0.990332</td><td style=\"text-align: right;\">             0.043552 </td><td style=\"text-align: right;\">0.199402</td><td style=\"text-align: right;\">0.0397613</td></tr>\n",
       "<tr><td>XGBoost_grid__1_AutoML_20210517_114848_model_16     </td><td style=\"text-align: right;\">0.981052</td><td style=\"text-align: right;\">0.187331 </td><td style=\"text-align: right;\">0.988188</td><td style=\"text-align: right;\">             0.0650452</td><td style=\"text-align: right;\">0.236515</td><td style=\"text-align: right;\">0.0559393</td></tr>\n",
       "<tr><td>XGBoost_grid__1_AutoML_20210517_114544_model_16     </td><td style=\"text-align: right;\">0.981052</td><td style=\"text-align: right;\">0.187331 </td><td style=\"text-align: right;\">0.988188</td><td style=\"text-align: right;\">             0.0650452</td><td style=\"text-align: right;\">0.236515</td><td style=\"text-align: right;\">0.0559393</td></tr>\n",
       "<tr><td>XGBoost_grid__1_AutoML_20210517_114848_model_100    </td><td style=\"text-align: right;\">0.981052</td><td style=\"text-align: right;\">0.171443 </td><td style=\"text-align: right;\">0.989476</td><td style=\"text-align: right;\">             0.0554299</td><td style=\"text-align: right;\">0.224838</td><td style=\"text-align: right;\">0.050552 </td></tr>\n",
       "<tr><td>GBM_grid__1_AutoML_20210517_114848_model_42         </td><td style=\"text-align: right;\">0.980911</td><td style=\"text-align: right;\">0.228608 </td><td style=\"text-align: right;\">0.987578</td><td style=\"text-align: right;\">             0.0531674</td><td style=\"text-align: right;\">0.252909</td><td style=\"text-align: right;\">0.063963 </td></tr>\n",
       "<tr><td>DeepLearning_grid__1_AutoML_20210517_114848_model_15</td><td style=\"text-align: right;\">0.980769</td><td style=\"text-align: right;\">0.232838 </td><td style=\"text-align: right;\">0.988781</td><td style=\"text-align: right;\">             0.0412896</td><td style=\"text-align: right;\">0.191137</td><td style=\"text-align: right;\">0.0365332</td></tr>\n",
       "<tr><td>DeepLearning_grid__3_AutoML_20210517_114848_model_1 </td><td style=\"text-align: right;\">0.980769</td><td style=\"text-align: right;\">0.264874 </td><td style=\"text-align: right;\">0.987014</td><td style=\"text-align: right;\">             0.0701357</td><td style=\"text-align: right;\">0.250061</td><td style=\"text-align: right;\">0.0625305</td></tr>\n",
       "<tr><td>GBM_grid__1_AutoML_20210517_114848_model_4          </td><td style=\"text-align: right;\">0.980769</td><td style=\"text-align: right;\">0.282131 </td><td style=\"text-align: right;\">0.985833</td><td style=\"text-align: right;\">             0.084276 </td><td style=\"text-align: right;\">0.281112</td><td style=\"text-align: right;\">0.0790241</td></tr>\n",
       "<tr><td>GBM_grid__1_AutoML_20210517_114848_model_55         </td><td style=\"text-align: right;\">0.980628</td><td style=\"text-align: right;\">0.226362 </td><td style=\"text-align: right;\">0.987071</td><td style=\"text-align: right;\">             0.0486425</td><td style=\"text-align: right;\">0.247637</td><td style=\"text-align: right;\">0.0613238</td></tr>\n",
       "<tr><td>DeepLearning_grid__1_AutoML_20210517_114848_model_5 </td><td style=\"text-align: right;\">0.980486</td><td style=\"text-align: right;\">0.423954 </td><td style=\"text-align: right;\">0.989405</td><td style=\"text-align: right;\">             0.0316742</td><td style=\"text-align: right;\">0.194979</td><td style=\"text-align: right;\">0.0380168</td></tr>\n",
       "<tr><td>XGBoost_grid__1_AutoML_20210517_114848_model_22     </td><td style=\"text-align: right;\">0.980486</td><td style=\"text-align: right;\">0.20699  </td><td style=\"text-align: right;\">0.987804</td><td style=\"text-align: right;\">             0.0531674</td><td style=\"text-align: right;\">0.239799</td><td style=\"text-align: right;\">0.0575034</td></tr>\n",
       "<tr><td>XGBoost_grid__1_AutoML_20210517_114544_model_22     </td><td style=\"text-align: right;\">0.980486</td><td style=\"text-align: right;\">0.20699  </td><td style=\"text-align: right;\">0.987804</td><td style=\"text-align: right;\">             0.0531674</td><td style=\"text-align: right;\">0.239799</td><td style=\"text-align: right;\">0.0575034</td></tr>\n",
       "<tr><td>DeepLearning_grid__3_AutoML_20210517_114848_model_11</td><td style=\"text-align: right;\">0.980486</td><td style=\"text-align: right;\">0.222359 </td><td style=\"text-align: right;\">0.986818</td><td style=\"text-align: right;\">             0.0582579</td><td style=\"text-align: right;\">0.250964</td><td style=\"text-align: right;\">0.0629828</td></tr>\n",
       "<tr><td>DeepLearning_grid__2_AutoML_20210517_114848_model_7 </td><td style=\"text-align: right;\">0.980486</td><td style=\"text-align: right;\">0.165074 </td><td style=\"text-align: right;\">0.990007</td><td style=\"text-align: right;\">             0.043552 </td><td style=\"text-align: right;\">0.207542</td><td style=\"text-align: right;\">0.0430736</td></tr>\n",
       "<tr><td>XGBoost_grid__1_AutoML_20210517_114848_model_12     </td><td style=\"text-align: right;\">0.980204</td><td style=\"text-align: right;\">0.181791 </td><td style=\"text-align: right;\">0.988347</td><td style=\"text-align: right;\">             0.0339367</td><td style=\"text-align: right;\">0.230795</td><td style=\"text-align: right;\">0.0532662</td></tr>\n",
       "<tr><td>XGBoost_grid__1_AutoML_20210517_114544_model_12     </td><td style=\"text-align: right;\">0.980204</td><td style=\"text-align: right;\">0.181791 </td><td style=\"text-align: right;\">0.988347</td><td style=\"text-align: right;\">             0.0339367</td><td style=\"text-align: right;\">0.230795</td><td style=\"text-align: right;\">0.0532662</td></tr>\n",
       "<tr><td>GBM_grid__1_AutoML_20210517_114848_model_73         </td><td style=\"text-align: right;\">0.980062</td><td style=\"text-align: right;\">0.296003 </td><td style=\"text-align: right;\">0.985239</td><td style=\"text-align: right;\">             0.0752262</td><td style=\"text-align: right;\">0.28635 </td><td style=\"text-align: right;\">0.0819966</td></tr>\n",
       "<tr><td>GBM_grid__1_AutoML_20210517_114848_model_9          </td><td style=\"text-align: right;\">0.980062</td><td style=\"text-align: right;\">0.275625 </td><td style=\"text-align: right;\">0.985929</td><td style=\"text-align: right;\">             0.0486425</td><td style=\"text-align: right;\">0.276515</td><td style=\"text-align: right;\">0.0764607</td></tr>\n",
       "<tr><td>GBM_grid__1_AutoML_20210517_114848_model_8          </td><td style=\"text-align: right;\">0.980062</td><td style=\"text-align: right;\">0.24674  </td><td style=\"text-align: right;\">0.98897 </td><td style=\"text-align: right;\">             0.0458145</td><td style=\"text-align: right;\">0.256312</td><td style=\"text-align: right;\">0.065696 </td></tr>\n",
       "<tr><td>DeepLearning_grid__3_AutoML_20210517_114848_model_7 </td><td style=\"text-align: right;\">0.979921</td><td style=\"text-align: right;\">0.205531 </td><td style=\"text-align: right;\">0.986049</td><td style=\"text-align: right;\">             0.0582579</td><td style=\"text-align: right;\">0.240116</td><td style=\"text-align: right;\">0.0576558</td></tr>\n",
       "<tr><td>XGBoost_grid__1_AutoML_20210517_114848_model_43     </td><td style=\"text-align: right;\">0.979921</td><td style=\"text-align: right;\">0.175711 </td><td style=\"text-align: right;\">0.988309</td><td style=\"text-align: right;\">             0.0531674</td><td style=\"text-align: right;\">0.225621</td><td style=\"text-align: right;\">0.0509049</td></tr>\n",
       "<tr><td>GBM_grid__1_AutoML_20210517_114848_model_91         </td><td style=\"text-align: right;\">0.979921</td><td style=\"text-align: right;\">0.218552 </td><td style=\"text-align: right;\">0.986318</td><td style=\"text-align: right;\">             0.0559955</td><td style=\"text-align: right;\">0.249948</td><td style=\"text-align: right;\">0.0624738</td></tr>\n",
       "<tr><td>GBM_grid__1_AutoML_20210517_114848_model_47         </td><td style=\"text-align: right;\">0.979921</td><td style=\"text-align: right;\">0.266011 </td><td style=\"text-align: right;\">0.987796</td><td style=\"text-align: right;\">             0.043552 </td><td style=\"text-align: right;\">0.266383</td><td style=\"text-align: right;\">0.07096  </td></tr>\n",
       "<tr><td>XGBoost_grid__1_AutoML_20210517_114544_model_43     </td><td style=\"text-align: right;\">0.979921</td><td style=\"text-align: right;\">0.175711 </td><td style=\"text-align: right;\">0.988309</td><td style=\"text-align: right;\">             0.0531674</td><td style=\"text-align: right;\">0.225621</td><td style=\"text-align: right;\">0.0509049</td></tr>\n",
       "<tr><td>XGBoost_grid__1_AutoML_20210517_114544_model_18     </td><td style=\"text-align: right;\">0.979638</td><td style=\"text-align: right;\">0.190427 </td><td style=\"text-align: right;\">0.9867  </td><td style=\"text-align: right;\">             0.0627828</td><td style=\"text-align: right;\">0.243267</td><td style=\"text-align: right;\">0.0591788</td></tr>\n",
       "<tr><td>GBM_grid__1_AutoML_20210517_114848_model_43         </td><td style=\"text-align: right;\">0.979638</td><td style=\"text-align: right;\">0.224747 </td><td style=\"text-align: right;\">0.987091</td><td style=\"text-align: right;\">             0.0412896</td><td style=\"text-align: right;\">0.245605</td><td style=\"text-align: right;\">0.060322 </td></tr>\n",
       "<tr><td>XGBoost_grid__1_AutoML_20210517_114544_model_27     </td><td style=\"text-align: right;\">0.979638</td><td style=\"text-align: right;\">0.186622 </td><td style=\"text-align: right;\">0.987448</td><td style=\"text-align: right;\">             0.0582579</td><td style=\"text-align: right;\">0.229908</td><td style=\"text-align: right;\">0.0528576</td></tr>\n",
       "<tr><td>XGBoost_grid__1_AutoML_20210517_114848_model_18     </td><td style=\"text-align: right;\">0.979638</td><td style=\"text-align: right;\">0.190427 </td><td style=\"text-align: right;\">0.9867  </td><td style=\"text-align: right;\">             0.0627828</td><td style=\"text-align: right;\">0.243267</td><td style=\"text-align: right;\">0.0591788</td></tr>\n",
       "<tr><td>XGBoost_grid__1_AutoML_20210517_114848_model_27     </td><td style=\"text-align: right;\">0.979638</td><td style=\"text-align: right;\">0.186622 </td><td style=\"text-align: right;\">0.987448</td><td style=\"text-align: right;\">             0.0582579</td><td style=\"text-align: right;\">0.229908</td><td style=\"text-align: right;\">0.0528576</td></tr>\n",
       "<tr><td>DeepLearning_grid__2_AutoML_20210517_114848_model_11</td><td style=\"text-align: right;\">0.979355</td><td style=\"text-align: right;\">0.308913 </td><td style=\"text-align: right;\">0.987719</td><td style=\"text-align: right;\">             0.0390271</td><td style=\"text-align: right;\">0.204596</td><td style=\"text-align: right;\">0.0418595</td></tr>\n",
       "<tr><td>XGBoost_grid__1_AutoML_20210517_114848_model_25     </td><td style=\"text-align: right;\">0.979355</td><td style=\"text-align: right;\">0.198173 </td><td style=\"text-align: right;\">0.987063</td><td style=\"text-align: right;\">             0.0531674</td><td style=\"text-align: right;\">0.236288</td><td style=\"text-align: right;\">0.0558318</td></tr>\n",
       "<tr><td>XGBoost_grid__1_AutoML_20210517_114544_model_25     </td><td style=\"text-align: right;\">0.979355</td><td style=\"text-align: right;\">0.198173 </td><td style=\"text-align: right;\">0.987063</td><td style=\"text-align: right;\">             0.0531674</td><td style=\"text-align: right;\">0.236288</td><td style=\"text-align: right;\">0.0558318</td></tr>\n",
       "<tr><td>GBM_grid__1_AutoML_20210517_114848_model_17         </td><td style=\"text-align: right;\">0.979355</td><td style=\"text-align: right;\">0.244204 </td><td style=\"text-align: right;\">0.984918</td><td style=\"text-align: right;\">             0.0774887</td><td style=\"text-align: right;\">0.263626</td><td style=\"text-align: right;\">0.0694987</td></tr>\n",
       "<tr><td>GBM_grid__1_AutoML_20210517_114848_model_23         </td><td style=\"text-align: right;\">0.97879 </td><td style=\"text-align: right;\">0.284252 </td><td style=\"text-align: right;\">0.984448</td><td style=\"text-align: right;\">             0.0707014</td><td style=\"text-align: right;\">0.28452 </td><td style=\"text-align: right;\">0.0809515</td></tr>\n",
       "<tr><td>GBM_grid__1_AutoML_20210517_114848_model_48         </td><td style=\"text-align: right;\">0.97879 </td><td style=\"text-align: right;\">0.237233 </td><td style=\"text-align: right;\">0.987264</td><td style=\"text-align: right;\">             0.0605204</td><td style=\"text-align: right;\">0.259034</td><td style=\"text-align: right;\">0.0670987</td></tr>\n",
       "<tr><td>GBM_grid__1_AutoML_20210517_114848_model_31         </td><td style=\"text-align: right;\">0.97879 </td><td style=\"text-align: right;\">0.313633 </td><td style=\"text-align: right;\">0.98717 </td><td style=\"text-align: right;\">             0.0531674</td><td style=\"text-align: right;\">0.294573</td><td style=\"text-align: right;\">0.086773 </td></tr>\n",
       "<tr><td>GBM_grid__1_AutoML_20210517_114848_model_92         </td><td style=\"text-align: right;\">0.978507</td><td style=\"text-align: right;\">0.267223 </td><td style=\"text-align: right;\">0.985926</td><td style=\"text-align: right;\">             0.050905 </td><td style=\"text-align: right;\">0.272616</td><td style=\"text-align: right;\">0.0743194</td></tr>\n",
       "<tr><td>DeepLearning_grid__2_AutoML_20210517_114848_model_6 </td><td style=\"text-align: right;\">0.978507</td><td style=\"text-align: right;\">0.257813 </td><td style=\"text-align: right;\">0.985537</td><td style=\"text-align: right;\">             0.0746606</td><td style=\"text-align: right;\">0.259534</td><td style=\"text-align: right;\">0.0673578</td></tr>\n",
       "<tr><td>GBM_grid__1_AutoML_20210517_114848_model_40         </td><td style=\"text-align: right;\">0.978507</td><td style=\"text-align: right;\">0.259074 </td><td style=\"text-align: right;\">0.987166</td><td style=\"text-align: right;\">             0.0412896</td><td style=\"text-align: right;\">0.264174</td><td style=\"text-align: right;\">0.0697879</td></tr>\n",
       "<tr><td>GBM_grid__1_AutoML_20210517_114848_model_32         </td><td style=\"text-align: right;\">0.978507</td><td style=\"text-align: right;\">0.224964 </td><td style=\"text-align: right;\">0.986848</td><td style=\"text-align: right;\">             0.0582579</td><td style=\"text-align: right;\">0.244907</td><td style=\"text-align: right;\">0.0599797</td></tr>\n",
       "<tr><td>XGBoost_grid__1_AutoML_20210517_114544_model_80     </td><td style=\"text-align: right;\">0.978365</td><td style=\"text-align: right;\">0.189736 </td><td style=\"text-align: right;\">0.987539</td><td style=\"text-align: right;\">             0.0486425</td><td style=\"text-align: right;\">0.229683</td><td style=\"text-align: right;\">0.0527542</td></tr>\n",
       "<tr><td>XGBoost_grid__1_AutoML_20210517_114848_model_80     </td><td style=\"text-align: right;\">0.978365</td><td style=\"text-align: right;\">0.189736 </td><td style=\"text-align: right;\">0.987539</td><td style=\"text-align: right;\">             0.0486425</td><td style=\"text-align: right;\">0.229683</td><td style=\"text-align: right;\">0.0527542</td></tr>\n",
       "<tr><td>GBM_grid__1_AutoML_20210517_114848_model_46         </td><td style=\"text-align: right;\">0.977941</td><td style=\"text-align: right;\">0.301263 </td><td style=\"text-align: right;\">0.986144</td><td style=\"text-align: right;\">             0.043552 </td><td style=\"text-align: right;\">0.288286</td><td style=\"text-align: right;\">0.0831085</td></tr>\n",
       "<tr><td>GBM_grid__1_AutoML_20210517_114848_model_96         </td><td style=\"text-align: right;\">0.977941</td><td style=\"text-align: right;\">0.21449  </td><td style=\"text-align: right;\">0.985494</td><td style=\"text-align: right;\">             0.0701357</td><td style=\"text-align: right;\">0.251497</td><td style=\"text-align: right;\">0.0632508</td></tr>\n",
       "<tr><td>XGBoost_grid__1_AutoML_20210517_114544_model_81     </td><td style=\"text-align: right;\">0.977941</td><td style=\"text-align: right;\">0.213417 </td><td style=\"text-align: right;\">0.98664 </td><td style=\"text-align: right;\">             0.0582579</td><td style=\"text-align: right;\">0.240371</td><td style=\"text-align: right;\">0.0577782</td></tr>\n",
       "<tr><td>XGBoost_grid__1_AutoML_20210517_114848_model_81     </td><td style=\"text-align: right;\">0.977941</td><td style=\"text-align: right;\">0.213417 </td><td style=\"text-align: right;\">0.98664 </td><td style=\"text-align: right;\">             0.0582579</td><td style=\"text-align: right;\">0.240371</td><td style=\"text-align: right;\">0.0577782</td></tr>\n",
       "<tr><td>XGBoost_grid__1_AutoML_20210517_114848_model_71     </td><td style=\"text-align: right;\">0.977658</td><td style=\"text-align: right;\">0.204922 </td><td style=\"text-align: right;\">0.986715</td><td style=\"text-align: right;\">             0.0605204</td><td style=\"text-align: right;\">0.240657</td><td style=\"text-align: right;\">0.0579156</td></tr>\n",
       "<tr><td>XGBoost_grid__1_AutoML_20210517_114544_model_71     </td><td style=\"text-align: right;\">0.977658</td><td style=\"text-align: right;\">0.204922 </td><td style=\"text-align: right;\">0.986715</td><td style=\"text-align: right;\">             0.0605204</td><td style=\"text-align: right;\">0.240657</td><td style=\"text-align: right;\">0.0579156</td></tr>\n",
       "<tr><td>XGBoost_grid__1_AutoML_20210517_114544_model_42     </td><td style=\"text-align: right;\">0.977658</td><td style=\"text-align: right;\">0.219418 </td><td style=\"text-align: right;\">0.986646</td><td style=\"text-align: right;\">             0.0605204</td><td style=\"text-align: right;\">0.248399</td><td style=\"text-align: right;\">0.0617021</td></tr>\n",
       "<tr><td>XGBoost_grid__1_AutoML_20210517_114848_model_42     </td><td style=\"text-align: right;\">0.977658</td><td style=\"text-align: right;\">0.219418 </td><td style=\"text-align: right;\">0.986646</td><td style=\"text-align: right;\">             0.0605204</td><td style=\"text-align: right;\">0.248399</td><td style=\"text-align: right;\">0.0617021</td></tr>\n",
       "<tr><td>XGBoost_grid__1_AutoML_20210517_114544_model_33     </td><td style=\"text-align: right;\">0.977658</td><td style=\"text-align: right;\">0.182105 </td><td style=\"text-align: right;\">0.986865</td><td style=\"text-align: right;\">             0.0582579</td><td style=\"text-align: right;\">0.227466</td><td style=\"text-align: right;\">0.0517408</td></tr>\n",
       "<tr><td>XGBoost_grid__1_AutoML_20210517_114848_model_33     </td><td style=\"text-align: right;\">0.977658</td><td style=\"text-align: right;\">0.182105 </td><td style=\"text-align: right;\">0.986865</td><td style=\"text-align: right;\">             0.0582579</td><td style=\"text-align: right;\">0.227466</td><td style=\"text-align: right;\">0.0517408</td></tr>\n",
       "<tr><td>GBM_grid__1_AutoML_20210517_114848_model_26         </td><td style=\"text-align: right;\">0.977376</td><td style=\"text-align: right;\">0.215279 </td><td style=\"text-align: right;\">0.986513</td><td style=\"text-align: right;\">             0.0486425</td><td style=\"text-align: right;\">0.244027</td><td style=\"text-align: right;\">0.0595493</td></tr>\n",
       "<tr><td>XGBoost_grid__1_AutoML_20210517_114544_model_28     </td><td style=\"text-align: right;\">0.977376</td><td style=\"text-align: right;\">0.22556  </td><td style=\"text-align: right;\">0.987413</td><td style=\"text-align: right;\">             0.0650452</td><td style=\"text-align: right;\">0.248534</td><td style=\"text-align: right;\">0.0617694</td></tr>\n",
       "<tr><td>XGBoost_grid__1_AutoML_20210517_114848_model_28     </td><td style=\"text-align: right;\">0.977376</td><td style=\"text-align: right;\">0.22556  </td><td style=\"text-align: right;\">0.987413</td><td style=\"text-align: right;\">             0.0650452</td><td style=\"text-align: right;\">0.248534</td><td style=\"text-align: right;\">0.0617694</td></tr>\n",
       "<tr><td>GBM_grid__1_AutoML_20210517_114848_model_98         </td><td style=\"text-align: right;\">0.977234</td><td style=\"text-align: right;\">0.295314 </td><td style=\"text-align: right;\">0.984908</td><td style=\"text-align: right;\">             0.0729638</td><td style=\"text-align: right;\">0.286044</td><td style=\"text-align: right;\">0.0818209</td></tr>\n",
       "<tr><td>GBM_grid__1_AutoML_20210517_114848_model_78         </td><td style=\"text-align: right;\">0.977234</td><td style=\"text-align: right;\">0.310004 </td><td style=\"text-align: right;\">0.984557</td><td style=\"text-align: right;\">             0.0656109</td><td style=\"text-align: right;\">0.293249</td><td style=\"text-align: right;\">0.085995 </td></tr>\n",
       "<tr><td>GBM_1_AutoML_20210517_114544                        </td><td style=\"text-align: right;\">0.97681 </td><td style=\"text-align: right;\">0.265293 </td><td style=\"text-align: right;\">0.98342 </td><td style=\"text-align: right;\">             0.0486425</td><td style=\"text-align: right;\">0.270094</td><td style=\"text-align: right;\">0.0729507</td></tr>\n",
       "<tr><td>GBM_grid__1_AutoML_20210517_114848_model_38         </td><td style=\"text-align: right;\">0.97681 </td><td style=\"text-align: right;\">0.222444 </td><td style=\"text-align: right;\">0.986363</td><td style=\"text-align: right;\">             0.0531674</td><td style=\"text-align: right;\">0.242146</td><td style=\"text-align: right;\">0.0586349</td></tr>\n",
       "<tr><td>GBM_1_AutoML_20210517_114848                        </td><td style=\"text-align: right;\">0.97681 </td><td style=\"text-align: right;\">0.265293 </td><td style=\"text-align: right;\">0.98342 </td><td style=\"text-align: right;\">             0.0486425</td><td style=\"text-align: right;\">0.270094</td><td style=\"text-align: right;\">0.0729507</td></tr>\n",
       "<tr><td>GBM_grid__1_AutoML_20210517_114848_model_88         </td><td style=\"text-align: right;\">0.976669</td><td style=\"text-align: right;\">0.335958 </td><td style=\"text-align: right;\">0.986046</td><td style=\"text-align: right;\">             0.043552 </td><td style=\"text-align: right;\">0.307431</td><td style=\"text-align: right;\">0.0945139</td></tr>\n",
       "<tr><td>XGBoost_grid__1_AutoML_20210517_114848_model_92     </td><td style=\"text-align: right;\">0.976527</td><td style=\"text-align: right;\">0.195934 </td><td style=\"text-align: right;\">0.98533 </td><td style=\"text-align: right;\">             0.0627828</td><td style=\"text-align: right;\">0.242957</td><td style=\"text-align: right;\">0.059028 </td></tr>\n",
       "<tr><td>XGBoost_grid__1_AutoML_20210517_114544_model_77     </td><td style=\"text-align: right;\">0.976244</td><td style=\"text-align: right;\">0.200169 </td><td style=\"text-align: right;\">0.984605</td><td style=\"text-align: right;\">             0.0531674</td><td style=\"text-align: right;\">0.236855</td><td style=\"text-align: right;\">0.0561005</td></tr>\n",
       "<tr><td>XGBoost_grid__1_AutoML_20210517_114848_model_77     </td><td style=\"text-align: right;\">0.976244</td><td style=\"text-align: right;\">0.200169 </td><td style=\"text-align: right;\">0.984605</td><td style=\"text-align: right;\">             0.0531674</td><td style=\"text-align: right;\">0.236855</td><td style=\"text-align: right;\">0.0561005</td></tr>\n",
       "<tr><td>GBM_grid__1_AutoML_20210517_114848_model_35         </td><td style=\"text-align: right;\">0.975962</td><td style=\"text-align: right;\">0.310152 </td><td style=\"text-align: right;\">0.985698</td><td style=\"text-align: right;\">             0.0582579</td><td style=\"text-align: right;\">0.293057</td><td style=\"text-align: right;\">0.0858822</td></tr>\n",
       "<tr><td>DeepLearning_grid__2_AutoML_20210517_114848_model_4 </td><td style=\"text-align: right;\">0.975962</td><td style=\"text-align: right;\">0.352195 </td><td style=\"text-align: right;\">0.985309</td><td style=\"text-align: right;\">             0.0723982</td><td style=\"text-align: right;\">0.260952</td><td style=\"text-align: right;\">0.0680959</td></tr>\n",
       "<tr><td>DeepLearning_grid__3_AutoML_20210517_114848_model_19</td><td style=\"text-align: right;\">0.975962</td><td style=\"text-align: right;\">0.254127 </td><td style=\"text-align: right;\">0.983665</td><td style=\"text-align: right;\">             0.0559955</td><td style=\"text-align: right;\">0.238827</td><td style=\"text-align: right;\">0.0570385</td></tr>\n",
       "<tr><td>XGBoost_grid__1_AutoML_20210517_114848_model_62     </td><td style=\"text-align: right;\">0.975962</td><td style=\"text-align: right;\">0.22622  </td><td style=\"text-align: right;\">0.985138</td><td style=\"text-align: right;\">             0.0627828</td><td style=\"text-align: right;\">0.251842</td><td style=\"text-align: right;\">0.0634245</td></tr>\n",
       "<tr><td>XGBoost_grid__1_AutoML_20210517_114544_model_62     </td><td style=\"text-align: right;\">0.975962</td><td style=\"text-align: right;\">0.22622  </td><td style=\"text-align: right;\">0.985138</td><td style=\"text-align: right;\">             0.0627828</td><td style=\"text-align: right;\">0.251842</td><td style=\"text-align: right;\">0.0634245</td></tr>\n",
       "<tr><td>XGBoost_grid__1_AutoML_20210517_114848_model_57     </td><td style=\"text-align: right;\">0.975679</td><td style=\"text-align: right;\">0.276957 </td><td style=\"text-align: right;\">0.985984</td><td style=\"text-align: right;\">             0.0486425</td><td style=\"text-align: right;\">0.267854</td><td style=\"text-align: right;\">0.071746 </td></tr>\n",
       "<tr><td>XGBoost_grid__1_AutoML_20210517_114544_model_57     </td><td style=\"text-align: right;\">0.975679</td><td style=\"text-align: right;\">0.276957 </td><td style=\"text-align: right;\">0.985984</td><td style=\"text-align: right;\">             0.0486425</td><td style=\"text-align: right;\">0.267854</td><td style=\"text-align: right;\">0.071746 </td></tr>\n",
       "<tr><td>GBM_grid__1_AutoML_20210517_114848_model_50         </td><td style=\"text-align: right;\">0.975396</td><td style=\"text-align: right;\">0.221713 </td><td style=\"text-align: right;\">0.98483 </td><td style=\"text-align: right;\">             0.0605204</td><td style=\"text-align: right;\">0.247888</td><td style=\"text-align: right;\">0.0614485</td></tr>\n",
       "<tr><td>GBM_grid__1_AutoML_20210517_114848_model_37         </td><td style=\"text-align: right;\">0.975396</td><td style=\"text-align: right;\">0.286647 </td><td style=\"text-align: right;\">0.982803</td><td style=\"text-align: right;\">             0.091629 </td><td style=\"text-align: right;\">0.282794</td><td style=\"text-align: right;\">0.0799724</td></tr>\n",
       "<tr><td>GBM_grid__1_AutoML_20210517_114848_model_2          </td><td style=\"text-align: right;\">0.975255</td><td style=\"text-align: right;\">0.305577 </td><td style=\"text-align: right;\">0.984973</td><td style=\"text-align: right;\">             0.0559955</td><td style=\"text-align: right;\">0.289891</td><td style=\"text-align: right;\">0.0840366</td></tr>\n",
       "<tr><td>DeepLearning_grid__2_AutoML_20210517_114848_model_1 </td><td style=\"text-align: right;\">0.97483 </td><td style=\"text-align: right;\">0.248891 </td><td style=\"text-align: right;\">0.984739</td><td style=\"text-align: right;\">             0.053733 </td><td style=\"text-align: right;\">0.240799</td><td style=\"text-align: right;\">0.0579844</td></tr>\n",
       "<tr><td>XGBoost_grid__1_AutoML_20210517_114544_model_53     </td><td style=\"text-align: right;\">0.97483 </td><td style=\"text-align: right;\">0.208509 </td><td style=\"text-align: right;\">0.984805</td><td style=\"text-align: right;\">             0.0486425</td><td style=\"text-align: right;\">0.242179</td><td style=\"text-align: right;\">0.0586505</td></tr>\n",
       "<tr><td>XGBoost_grid__1_AutoML_20210517_114848_model_53     </td><td style=\"text-align: right;\">0.97483 </td><td style=\"text-align: right;\">0.208509 </td><td style=\"text-align: right;\">0.984805</td><td style=\"text-align: right;\">             0.0486425</td><td style=\"text-align: right;\">0.242179</td><td style=\"text-align: right;\">0.0586505</td></tr>\n",
       "<tr><td>DeepLearning_grid__3_AutoML_20210517_114848_model_17</td><td style=\"text-align: right;\">0.97483 </td><td style=\"text-align: right;\">0.217021 </td><td style=\"text-align: right;\">0.98388 </td><td style=\"text-align: right;\">             0.0633484</td><td style=\"text-align: right;\">0.250171</td><td style=\"text-align: right;\">0.0625853</td></tr>\n",
       "<tr><td>XGBoost_grid__1_AutoML_20210517_114848_model_90     </td><td style=\"text-align: right;\">0.974548</td><td style=\"text-align: right;\">0.20791  </td><td style=\"text-align: right;\">0.984471</td><td style=\"text-align: right;\">             0.0752262</td><td style=\"text-align: right;\">0.245881</td><td style=\"text-align: right;\">0.0604575</td></tr>\n",
       "<tr><td>GBM_grid__1_AutoML_20210517_114848_model_29         </td><td style=\"text-align: right;\">0.974548</td><td style=\"text-align: right;\">0.389664 </td><td style=\"text-align: right;\">0.980032</td><td style=\"text-align: right;\">             0.0678733</td><td style=\"text-align: right;\">0.337709</td><td style=\"text-align: right;\">0.114047 </td></tr>\n",
       "<tr><td>XGBoost_grid__1_AutoML_20210517_114544_model_90     </td><td style=\"text-align: right;\">0.974548</td><td style=\"text-align: right;\">0.20791  </td><td style=\"text-align: right;\">0.984471</td><td style=\"text-align: right;\">             0.0752262</td><td style=\"text-align: right;\">0.245881</td><td style=\"text-align: right;\">0.0604575</td></tr>\n",
       "<tr><td>DeepLearning_grid__2_AutoML_20210517_114848_model_19</td><td style=\"text-align: right;\">0.974548</td><td style=\"text-align: right;\">0.261142 </td><td style=\"text-align: right;\">0.984561</td><td style=\"text-align: right;\">             0.0486425</td><td style=\"text-align: right;\">0.233129</td><td style=\"text-align: right;\">0.054349 </td></tr>\n",
       "<tr><td>GBM_grid__1_AutoML_20210517_114848_model_25         </td><td style=\"text-align: right;\">0.974406</td><td style=\"text-align: right;\">0.275564 </td><td style=\"text-align: right;\">0.985353</td><td style=\"text-align: right;\">             0.050905 </td><td style=\"text-align: right;\">0.269339</td><td style=\"text-align: right;\">0.0725437</td></tr>\n",
       "<tr><td>XGBoost_grid__1_AutoML_20210517_114544_model_40     </td><td style=\"text-align: right;\">0.974265</td><td style=\"text-align: right;\">0.241535 </td><td style=\"text-align: right;\">0.984873</td><td style=\"text-align: right;\">             0.0605204</td><td style=\"text-align: right;\">0.260231</td><td style=\"text-align: right;\">0.0677203</td></tr>\n",
       "<tr><td>XGBoost_grid__1_AutoML_20210517_114848_model_40     </td><td style=\"text-align: right;\">0.974265</td><td style=\"text-align: right;\">0.241535 </td><td style=\"text-align: right;\">0.984873</td><td style=\"text-align: right;\">             0.0605204</td><td style=\"text-align: right;\">0.260231</td><td style=\"text-align: right;\">0.0677203</td></tr>\n",
       "<tr><td>DeepLearning_grid__1_AutoML_20210517_114848_model_14</td><td style=\"text-align: right;\">0.973982</td><td style=\"text-align: right;\">0.619844 </td><td style=\"text-align: right;\">0.986594</td><td style=\"text-align: right;\">             0.0390271</td><td style=\"text-align: right;\">0.198477</td><td style=\"text-align: right;\">0.039393 </td></tr>\n",
       "<tr><td>GBM_grid__1_AutoML_20210517_114848_model_14         </td><td style=\"text-align: right;\">0.973982</td><td style=\"text-align: right;\">0.245242 </td><td style=\"text-align: right;\">0.983722</td><td style=\"text-align: right;\">             0.0559955</td><td style=\"text-align: right;\">0.258736</td><td style=\"text-align: right;\">0.0669444</td></tr>\n",
       "<tr><td>GBM_grid__1_AutoML_20210517_114848_model_97         </td><td style=\"text-align: right;\">0.973699</td><td style=\"text-align: right;\">0.337026 </td><td style=\"text-align: right;\">0.983674</td><td style=\"text-align: right;\">             0.0605204</td><td style=\"text-align: right;\">0.307621</td><td style=\"text-align: right;\">0.0946304</td></tr>\n",
       "<tr><td>XGBoost_grid__1_AutoML_20210517_114544_model_37     </td><td style=\"text-align: right;\">0.973699</td><td style=\"text-align: right;\">0.259821 </td><td style=\"text-align: right;\">0.98439 </td><td style=\"text-align: right;\">             0.0486425</td><td style=\"text-align: right;\">0.270713</td><td style=\"text-align: right;\">0.0732855</td></tr>\n",
       "<tr><td>XGBoost_grid__1_AutoML_20210517_114848_model_37     </td><td style=\"text-align: right;\">0.973699</td><td style=\"text-align: right;\">0.259821 </td><td style=\"text-align: right;\">0.98439 </td><td style=\"text-align: right;\">             0.0486425</td><td style=\"text-align: right;\">0.270713</td><td style=\"text-align: right;\">0.0732855</td></tr>\n",
       "<tr><td>GBM_grid__1_AutoML_20210517_114848_model_10         </td><td style=\"text-align: right;\">0.973558</td><td style=\"text-align: right;\">0.292777 </td><td style=\"text-align: right;\">0.983372</td><td style=\"text-align: right;\">             0.0582579</td><td style=\"text-align: right;\">0.285604</td><td style=\"text-align: right;\">0.0815699</td></tr>\n",
       "<tr><td>DeepLearning_grid__2_AutoML_20210517_114848_model_14</td><td style=\"text-align: right;\">0.973416</td><td style=\"text-align: right;\">0.300889 </td><td style=\"text-align: right;\">0.98382 </td><td style=\"text-align: right;\">             0.0559955</td><td style=\"text-align: right;\">0.233205</td><td style=\"text-align: right;\">0.0543845</td></tr>\n",
       "<tr><td>XGBoost_grid__1_AutoML_20210517_114544_model_66     </td><td style=\"text-align: right;\">0.972992</td><td style=\"text-align: right;\">0.242179 </td><td style=\"text-align: right;\">0.984066</td><td style=\"text-align: right;\">             0.0486425</td><td style=\"text-align: right;\">0.261058</td><td style=\"text-align: right;\">0.0681512</td></tr>\n",
       "<tr><td>XGBoost_grid__1_AutoML_20210517_114848_model_66     </td><td style=\"text-align: right;\">0.972992</td><td style=\"text-align: right;\">0.242179 </td><td style=\"text-align: right;\">0.984066</td><td style=\"text-align: right;\">             0.0486425</td><td style=\"text-align: right;\">0.261058</td><td style=\"text-align: right;\">0.0681512</td></tr>\n",
       "<tr><td>GBM_grid__1_AutoML_20210517_114848_model_53         </td><td style=\"text-align: right;\">0.972568</td><td style=\"text-align: right;\">0.252251 </td><td style=\"text-align: right;\">0.982996</td><td style=\"text-align: right;\">             0.0559955</td><td style=\"text-align: right;\">0.262037</td><td style=\"text-align: right;\">0.0686635</td></tr>\n",
       "<tr><td>GBM_grid__1_AutoML_20210517_114848_model_62         </td><td style=\"text-align: right;\">0.972144</td><td style=\"text-align: right;\">0.318087 </td><td style=\"text-align: right;\">0.982555</td><td style=\"text-align: right;\">             0.0582579</td><td style=\"text-align: right;\">0.29705 </td><td style=\"text-align: right;\">0.0882385</td></tr>\n",
       "<tr><td>GBM_grid__1_AutoML_20210517_114848_model_51         </td><td style=\"text-align: right;\">0.971719</td><td style=\"text-align: right;\">0.225625 </td><td style=\"text-align: right;\">0.982973</td><td style=\"text-align: right;\">             0.0678733</td><td style=\"text-align: right;\">0.249762</td><td style=\"text-align: right;\">0.0623809</td></tr>\n",
       "<tr><td>GBM_grid__1_AutoML_20210517_114848_model_27         </td><td style=\"text-align: right;\">0.971719</td><td style=\"text-align: right;\">0.238508 </td><td style=\"text-align: right;\">0.982485</td><td style=\"text-align: right;\">             0.0820136</td><td style=\"text-align: right;\">0.257527</td><td style=\"text-align: right;\">0.0663201</td></tr>\n",
       "<tr><td>XGBoost_grid__1_AutoML_20210517_114544_model_47     </td><td style=\"text-align: right;\">0.97073 </td><td style=\"text-align: right;\">0.26228  </td><td style=\"text-align: right;\">0.98159 </td><td style=\"text-align: right;\">             0.0797511</td><td style=\"text-align: right;\">0.273422</td><td style=\"text-align: right;\">0.0747596</td></tr>\n",
       "<tr><td>XGBoost_grid__1_AutoML_20210517_114848_model_47     </td><td style=\"text-align: right;\">0.97073 </td><td style=\"text-align: right;\">0.26228  </td><td style=\"text-align: right;\">0.98159 </td><td style=\"text-align: right;\">             0.0797511</td><td style=\"text-align: right;\">0.273422</td><td style=\"text-align: right;\">0.0747596</td></tr>\n",
       "<tr><td>GBM_grid__1_AutoML_20210517_114848_model_87         </td><td style=\"text-align: right;\">0.970588</td><td style=\"text-align: right;\">0.264473 </td><td style=\"text-align: right;\">0.981895</td><td style=\"text-align: right;\">             0.0707014</td><td style=\"text-align: right;\">0.270314</td><td style=\"text-align: right;\">0.0730696</td></tr>\n",
       "<tr><td>GBM_grid__1_AutoML_20210517_114848_model_68         </td><td style=\"text-align: right;\">0.970588</td><td style=\"text-align: right;\">0.253135 </td><td style=\"text-align: right;\">0.981829</td><td style=\"text-align: right;\">             0.0774887</td><td style=\"text-align: right;\">0.264187</td><td style=\"text-align: right;\">0.069795 </td></tr>\n",
       "<tr><td>GBM_grid__1_AutoML_20210517_114848_model_76         </td><td style=\"text-align: right;\">0.970305</td><td style=\"text-align: right;\">0.273598 </td><td style=\"text-align: right;\">0.981515</td><td style=\"text-align: right;\">             0.0893665</td><td style=\"text-align: right;\">0.275879</td><td style=\"text-align: right;\">0.0761092</td></tr>\n",
       "<tr><td>DeepLearning_grid__2_AutoML_20210517_114848_model_16</td><td style=\"text-align: right;\">0.970023</td><td style=\"text-align: right;\">0.240417 </td><td style=\"text-align: right;\">0.979131</td><td style=\"text-align: right;\">             0.0729638</td><td style=\"text-align: right;\">0.246492</td><td style=\"text-align: right;\">0.0607584</td></tr>\n",
       "<tr><td>DeepLearning_grid__1_AutoML_20210517_114848_model_13</td><td style=\"text-align: right;\">0.970023</td><td style=\"text-align: right;\">0.874879 </td><td style=\"text-align: right;\">0.982883</td><td style=\"text-align: right;\">             0.0463801</td><td style=\"text-align: right;\">0.239946</td><td style=\"text-align: right;\">0.057574 </td></tr>\n",
       "<tr><td>XGBoost_grid__1_AutoML_20210517_114544_model_89     </td><td style=\"text-align: right;\">0.96974 </td><td style=\"text-align: right;\">0.208459 </td><td style=\"text-align: right;\">0.981762</td><td style=\"text-align: right;\">             0.0678733</td><td style=\"text-align: right;\">0.244893</td><td style=\"text-align: right;\">0.0599726</td></tr>\n",
       "<tr><td>XGBoost_grid__1_AutoML_20210517_114848_model_89     </td><td style=\"text-align: right;\">0.96974 </td><td style=\"text-align: right;\">0.208459 </td><td style=\"text-align: right;\">0.981762</td><td style=\"text-align: right;\">             0.0678733</td><td style=\"text-align: right;\">0.244893</td><td style=\"text-align: right;\">0.0599726</td></tr>\n",
       "<tr><td>GBM_grid__1_AutoML_20210517_114848_model_39         </td><td style=\"text-align: right;\">0.96974 </td><td style=\"text-align: right;\">0.323386 </td><td style=\"text-align: right;\">0.981364</td><td style=\"text-align: right;\">             0.0820136</td><td style=\"text-align: right;\">0.300606</td><td style=\"text-align: right;\">0.0903638</td></tr>\n",
       "<tr><td>XGBoost_grid__1_AutoML_20210517_114544_model_52     </td><td style=\"text-align: right;\">0.969316</td><td style=\"text-align: right;\">0.27667  </td><td style=\"text-align: right;\">0.979638</td><td style=\"text-align: right;\">             0.0678733</td><td style=\"text-align: right;\">0.278932</td><td style=\"text-align: right;\">0.0778029</td></tr>\n",
       "<tr><td>XGBoost_grid__1_AutoML_20210517_114848_model_52     </td><td style=\"text-align: right;\">0.969316</td><td style=\"text-align: right;\">0.27667  </td><td style=\"text-align: right;\">0.979638</td><td style=\"text-align: right;\">             0.0678733</td><td style=\"text-align: right;\">0.278932</td><td style=\"text-align: right;\">0.0778029</td></tr>\n",
       "<tr><td>DeepLearning_grid__2_AutoML_20210517_114848_model_12</td><td style=\"text-align: right;\">0.968609</td><td style=\"text-align: right;\">0.227945 </td><td style=\"text-align: right;\">0.978335</td><td style=\"text-align: right;\">             0.0797511</td><td style=\"text-align: right;\">0.260604</td><td style=\"text-align: right;\">0.0679145</td></tr>\n",
       "<tr><td>XGBoost_grid__1_AutoML_20210517_114848_model_23     </td><td style=\"text-align: right;\">0.968326</td><td style=\"text-align: right;\">0.271137 </td><td style=\"text-align: right;\">0.979927</td><td style=\"text-align: right;\">             0.0729638</td><td style=\"text-align: right;\">0.278035</td><td style=\"text-align: right;\">0.0773034</td></tr>\n",
       "<tr><td>XGBoost_grid__1_AutoML_20210517_114544_model_23     </td><td style=\"text-align: right;\">0.968326</td><td style=\"text-align: right;\">0.271137 </td><td style=\"text-align: right;\">0.979927</td><td style=\"text-align: right;\">             0.0729638</td><td style=\"text-align: right;\">0.278035</td><td style=\"text-align: right;\">0.0773034</td></tr>\n",
       "<tr><td>XGBoost_grid__1_AutoML_20210517_114544_model_4      </td><td style=\"text-align: right;\">0.96776 </td><td style=\"text-align: right;\">0.269573 </td><td style=\"text-align: right;\">0.978174</td><td style=\"text-align: right;\">             0.0559955</td><td style=\"text-align: right;\">0.275325</td><td style=\"text-align: right;\">0.0758038</td></tr>\n",
       "<tr><td>XGBoost_grid__1_AutoML_20210517_114848_model_4      </td><td style=\"text-align: right;\">0.96776 </td><td style=\"text-align: right;\">0.269573 </td><td style=\"text-align: right;\">0.978174</td><td style=\"text-align: right;\">             0.0559955</td><td style=\"text-align: right;\">0.275325</td><td style=\"text-align: right;\">0.0758038</td></tr>\n",
       "<tr><td>GBM_grid__1_AutoML_20210517_114848_model_6          </td><td style=\"text-align: right;\">0.96776 </td><td style=\"text-align: right;\">0.226598 </td><td style=\"text-align: right;\">0.982503</td><td style=\"text-align: right;\">             0.0486425</td><td style=\"text-align: right;\">0.246473</td><td style=\"text-align: right;\">0.0607491</td></tr>\n",
       "<tr><td>GBM_grid__1_AutoML_20210517_114848_model_52         </td><td style=\"text-align: right;\">0.967477</td><td style=\"text-align: right;\">0.280251 </td><td style=\"text-align: right;\">0.979975</td><td style=\"text-align: right;\">             0.0559955</td><td style=\"text-align: right;\">0.278069</td><td style=\"text-align: right;\">0.0773222</td></tr>\n",
       "<tr><td>XGBoost_grid__1_AutoML_20210517_114848_model_102    </td><td style=\"text-align: right;\">0.966912</td><td style=\"text-align: right;\">0.22341  </td><td style=\"text-align: right;\">0.982039</td><td style=\"text-align: right;\">             0.0559955</td><td style=\"text-align: right;\">0.246553</td><td style=\"text-align: right;\">0.0607883</td></tr>\n",
       "<tr><td>XGBoost_grid__1_AutoML_20210517_114848_model_9      </td><td style=\"text-align: right;\">0.966912</td><td style=\"text-align: right;\">0.416076 </td><td style=\"text-align: right;\">0.977592</td><td style=\"text-align: right;\">             0.0774887</td><td style=\"text-align: right;\">0.356291</td><td style=\"text-align: right;\">0.126943 </td></tr>\n",
       "<tr><td>XGBoost_grid__1_AutoML_20210517_114544_model_9      </td><td style=\"text-align: right;\">0.966912</td><td style=\"text-align: right;\">0.416076 </td><td style=\"text-align: right;\">0.977592</td><td style=\"text-align: right;\">             0.0774887</td><td style=\"text-align: right;\">0.356291</td><td style=\"text-align: right;\">0.126943 </td></tr>\n",
       "<tr><td>XGBoost_grid__1_AutoML_20210517_114848_model_93     </td><td style=\"text-align: right;\">0.96677 </td><td style=\"text-align: right;\">0.32192  </td><td style=\"text-align: right;\">0.977386</td><td style=\"text-align: right;\">             0.0684389</td><td style=\"text-align: right;\">0.305882</td><td style=\"text-align: right;\">0.0935637</td></tr>\n",
       "<tr><td>XGBoost_grid__1_AutoML_20210517_114848_model_31     </td><td style=\"text-align: right;\">0.966063</td><td style=\"text-align: right;\">0.286578 </td><td style=\"text-align: right;\">0.977917</td><td style=\"text-align: right;\">             0.0752262</td><td style=\"text-align: right;\">0.288594</td><td style=\"text-align: right;\">0.0832867</td></tr>\n",
       "<tr><td>XGBoost_grid__1_AutoML_20210517_114544_model_31     </td><td style=\"text-align: right;\">0.966063</td><td style=\"text-align: right;\">0.286578 </td><td style=\"text-align: right;\">0.977917</td><td style=\"text-align: right;\">             0.0752262</td><td style=\"text-align: right;\">0.288594</td><td style=\"text-align: right;\">0.0832867</td></tr>\n",
       "<tr><td>XGBoost_grid__1_AutoML_20210517_114848_model_1      </td><td style=\"text-align: right;\">0.965781</td><td style=\"text-align: right;\">0.284885 </td><td style=\"text-align: right;\">0.977032</td><td style=\"text-align: right;\">             0.0774887</td><td style=\"text-align: right;\">0.284861</td><td style=\"text-align: right;\">0.0811457</td></tr>\n",
       "<tr><td>XGBoost_grid__1_AutoML_20210517_114544_model_1      </td><td style=\"text-align: right;\">0.965781</td><td style=\"text-align: right;\">0.284885 </td><td style=\"text-align: right;\">0.977032</td><td style=\"text-align: right;\">             0.0774887</td><td style=\"text-align: right;\">0.284861</td><td style=\"text-align: right;\">0.0811457</td></tr>\n",
       "<tr><td>DeepLearning_grid__3_AutoML_20210517_114848_model_9 </td><td style=\"text-align: right;\">0.965498</td><td style=\"text-align: right;\">0.345763 </td><td style=\"text-align: right;\">0.97592 </td><td style=\"text-align: right;\">             0.0972851</td><td style=\"text-align: right;\">0.320602</td><td style=\"text-align: right;\">0.102786 </td></tr>\n",
       "<tr><td>DeepLearning_grid__2_AutoML_20210517_114848_model_15</td><td style=\"text-align: right;\">0.964932</td><td style=\"text-align: right;\">0.330976 </td><td style=\"text-align: right;\">0.973987</td><td style=\"text-align: right;\">             0.0797511</td><td style=\"text-align: right;\">0.254864</td><td style=\"text-align: right;\">0.0649558</td></tr>\n",
       "<tr><td>XGBoost_1_AutoML_20210517_114544                    </td><td style=\"text-align: right;\">0.964932</td><td style=\"text-align: right;\">0.270808 </td><td style=\"text-align: right;\">0.976664</td><td style=\"text-align: right;\">             0.0729638</td><td style=\"text-align: right;\">0.276145</td><td style=\"text-align: right;\">0.0762563</td></tr>\n",
       "<tr><td>XGBoost_1_AutoML_20210517_114848                    </td><td style=\"text-align: right;\">0.964932</td><td style=\"text-align: right;\">0.270808 </td><td style=\"text-align: right;\">0.976664</td><td style=\"text-align: right;\">             0.0729638</td><td style=\"text-align: right;\">0.276145</td><td style=\"text-align: right;\">0.0762563</td></tr>\n",
       "<tr><td>DeepLearning_grid__2_AutoML_20210517_114848_model_17</td><td style=\"text-align: right;\">0.964649</td><td style=\"text-align: right;\">0.292811 </td><td style=\"text-align: right;\">0.969671</td><td style=\"text-align: right;\">             0.0871041</td><td style=\"text-align: right;\">0.267731</td><td style=\"text-align: right;\">0.0716796</td></tr>\n",
       "<tr><td>XGBoost_grid__1_AutoML_20210517_114544_model_60     </td><td style=\"text-align: right;\">0.964649</td><td style=\"text-align: right;\">0.246097 </td><td style=\"text-align: right;\">0.980521</td><td style=\"text-align: right;\">             0.0582579</td><td style=\"text-align: right;\">0.259205</td><td style=\"text-align: right;\">0.0671873</td></tr>\n",
       "<tr><td>DeepLearning_grid__1_AutoML_20210517_114848_model_10</td><td style=\"text-align: right;\">0.964649</td><td style=\"text-align: right;\">0.252498 </td><td style=\"text-align: right;\">0.981155</td><td style=\"text-align: right;\">             0.053733 </td><td style=\"text-align: right;\">0.239022</td><td style=\"text-align: right;\">0.0571314</td></tr>\n",
       "<tr><td>XGBoost_grid__1_AutoML_20210517_114848_model_60     </td><td style=\"text-align: right;\">0.964649</td><td style=\"text-align: right;\">0.246097 </td><td style=\"text-align: right;\">0.980521</td><td style=\"text-align: right;\">             0.0582579</td><td style=\"text-align: right;\">0.259205</td><td style=\"text-align: right;\">0.0671873</td></tr>\n",
       "<tr><td>XGBoost_grid__1_AutoML_20210517_114848_model_20     </td><td style=\"text-align: right;\">0.964367</td><td style=\"text-align: right;\">0.234101 </td><td style=\"text-align: right;\">0.980518</td><td style=\"text-align: right;\">             0.0678733</td><td style=\"text-align: right;\">0.254222</td><td style=\"text-align: right;\">0.0646289</td></tr>\n",
       "<tr><td>XGBoost_grid__1_AutoML_20210517_114544_model_19     </td><td style=\"text-align: right;\">0.964367</td><td style=\"text-align: right;\">0.351554 </td><td style=\"text-align: right;\">0.978792</td><td style=\"text-align: right;\">             0.0678733</td><td style=\"text-align: right;\">0.317043</td><td style=\"text-align: right;\">0.100517 </td></tr>\n",
       "<tr><td>XGBoost_grid__1_AutoML_20210517_114544_model_20     </td><td style=\"text-align: right;\">0.964367</td><td style=\"text-align: right;\">0.234101 </td><td style=\"text-align: right;\">0.980518</td><td style=\"text-align: right;\">             0.0678733</td><td style=\"text-align: right;\">0.254222</td><td style=\"text-align: right;\">0.0646289</td></tr>\n",
       "<tr><td>XGBoost_grid__1_AutoML_20210517_114848_model_19     </td><td style=\"text-align: right;\">0.964367</td><td style=\"text-align: right;\">0.351554 </td><td style=\"text-align: right;\">0.978792</td><td style=\"text-align: right;\">             0.0678733</td><td style=\"text-align: right;\">0.317043</td><td style=\"text-align: right;\">0.100517 </td></tr>\n",
       "<tr><td>GBM_grid__1_AutoML_20210517_114848_model_28         </td><td style=\"text-align: right;\">0.964225</td><td style=\"text-align: right;\">0.341219 </td><td style=\"text-align: right;\">0.977739</td><td style=\"text-align: right;\">             0.0797511</td><td style=\"text-align: right;\">0.313487</td><td style=\"text-align: right;\">0.0982742</td></tr>\n",
       "<tr><td>XGBoost_grid__1_AutoML_20210517_114848_model_95     </td><td style=\"text-align: right;\">0.96366 </td><td style=\"text-align: right;\">0.294606 </td><td style=\"text-align: right;\">0.974844</td><td style=\"text-align: right;\">             0.0848416</td><td style=\"text-align: right;\">0.291686</td><td style=\"text-align: right;\">0.0850804</td></tr>\n",
       "<tr><td>XGBoost_grid__1_AutoML_20210517_114544_model_17     </td><td style=\"text-align: right;\">0.963518</td><td style=\"text-align: right;\">0.376431 </td><td style=\"text-align: right;\">0.97616 </td><td style=\"text-align: right;\">             0.0780543</td><td style=\"text-align: right;\">0.334418</td><td style=\"text-align: right;\">0.111836 </td></tr>\n",
       "<tr><td>XGBoost_grid__1_AutoML_20210517_114848_model_17     </td><td style=\"text-align: right;\">0.963518</td><td style=\"text-align: right;\">0.376431 </td><td style=\"text-align: right;\">0.97616 </td><td style=\"text-align: right;\">             0.0780543</td><td style=\"text-align: right;\">0.334418</td><td style=\"text-align: right;\">0.111836 </td></tr>\n",
       "<tr><td>XGBoost_grid__1_AutoML_20210517_114848_model_84     </td><td style=\"text-align: right;\">0.962245</td><td style=\"text-align: right;\">0.317545 </td><td style=\"text-align: right;\">0.975048</td><td style=\"text-align: right;\">             0.11086  </td><td style=\"text-align: right;\">0.304893</td><td style=\"text-align: right;\">0.0929595</td></tr>\n",
       "<tr><td>XGBoost_grid__1_AutoML_20210517_114544_model_84     </td><td style=\"text-align: right;\">0.962245</td><td style=\"text-align: right;\">0.317545 </td><td style=\"text-align: right;\">0.975048</td><td style=\"text-align: right;\">             0.11086  </td><td style=\"text-align: right;\">0.304893</td><td style=\"text-align: right;\">0.0929595</td></tr>\n",
       "<tr><td>DeepLearning_grid__3_AutoML_20210517_114848_model_15</td><td style=\"text-align: right;\">0.961538</td><td style=\"text-align: right;\">0.420368 </td><td style=\"text-align: right;\">0.975494</td><td style=\"text-align: right;\">             0.0871041</td><td style=\"text-align: right;\">0.296949</td><td style=\"text-align: right;\">0.0881788</td></tr>\n",
       "<tr><td>XGBoost_grid__1_AutoML_20210517_114544_model_61     </td><td style=\"text-align: right;\">0.961256</td><td style=\"text-align: right;\">0.324111 </td><td style=\"text-align: right;\">0.973523</td><td style=\"text-align: right;\">             0.0757919</td><td style=\"text-align: right;\">0.309486</td><td style=\"text-align: right;\">0.0957815</td></tr>\n",
       "<tr><td>XGBoost_grid__1_AutoML_20210517_114848_model_61     </td><td style=\"text-align: right;\">0.961256</td><td style=\"text-align: right;\">0.324111 </td><td style=\"text-align: right;\">0.973523</td><td style=\"text-align: right;\">             0.0757919</td><td style=\"text-align: right;\">0.309486</td><td style=\"text-align: right;\">0.0957815</td></tr>\n",
       "<tr><td>XGBoost_grid__1_AutoML_20210517_114848_model_59     </td><td style=\"text-align: right;\">0.961114</td><td style=\"text-align: right;\">0.235824 </td><td style=\"text-align: right;\">0.979745</td><td style=\"text-align: right;\">             0.0390271</td><td style=\"text-align: right;\">0.253593</td><td style=\"text-align: right;\">0.0643094</td></tr>\n",
       "<tr><td>XGBoost_grid__1_AutoML_20210517_114544_model_59     </td><td style=\"text-align: right;\">0.961114</td><td style=\"text-align: right;\">0.235824 </td><td style=\"text-align: right;\">0.979745</td><td style=\"text-align: right;\">             0.0390271</td><td style=\"text-align: right;\">0.253593</td><td style=\"text-align: right;\">0.0643094</td></tr>\n",
       "<tr><td>GBM_grid__1_AutoML_20210517_114848_model_95         </td><td style=\"text-align: right;\">0.960973</td><td style=\"text-align: right;\">0.280222 </td><td style=\"text-align: right;\">0.978657</td><td style=\"text-align: right;\">             0.0656109</td><td style=\"text-align: right;\">0.28085 </td><td style=\"text-align: right;\">0.0788768</td></tr>\n",
       "<tr><td>XGBoost_grid__1_AutoML_20210517_114544_model_15     </td><td style=\"text-align: right;\">0.959983</td><td style=\"text-align: right;\">0.243475 </td><td style=\"text-align: right;\">0.977914</td><td style=\"text-align: right;\">             0.0678733</td><td style=\"text-align: right;\">0.261077</td><td style=\"text-align: right;\">0.0681611</td></tr>\n",
       "<tr><td>XGBoost_grid__1_AutoML_20210517_114848_model_15     </td><td style=\"text-align: right;\">0.959983</td><td style=\"text-align: right;\">0.243475 </td><td style=\"text-align: right;\">0.977914</td><td style=\"text-align: right;\">             0.0678733</td><td style=\"text-align: right;\">0.261077</td><td style=\"text-align: right;\">0.0681611</td></tr>\n",
       "<tr><td>XGBoost_grid__1_AutoML_20210517_114544_model_56     </td><td style=\"text-align: right;\">0.958852</td><td style=\"text-align: right;\">0.340435 </td><td style=\"text-align: right;\">0.975578</td><td style=\"text-align: right;\">             0.0633484</td><td style=\"text-align: right;\">0.311541</td><td style=\"text-align: right;\">0.0970575</td></tr>\n",
       "<tr><td>XGBoost_grid__1_AutoML_20210517_114848_model_56     </td><td style=\"text-align: right;\">0.958852</td><td style=\"text-align: right;\">0.340435 </td><td style=\"text-align: right;\">0.975578</td><td style=\"text-align: right;\">             0.0633484</td><td style=\"text-align: right;\">0.311541</td><td style=\"text-align: right;\">0.0970575</td></tr>\n",
       "<tr><td>DeepLearning_grid__2_AutoML_20210517_114848_model_9 </td><td style=\"text-align: right;\">0.95871 </td><td style=\"text-align: right;\">0.312762 </td><td style=\"text-align: right;\">0.968448</td><td style=\"text-align: right;\">             0.10181  </td><td style=\"text-align: right;\">0.290046</td><td style=\"text-align: right;\">0.0841265</td></tr>\n",
       "<tr><td>XGBoost_grid__1_AutoML_20210517_114848_model_48     </td><td style=\"text-align: right;\">0.958569</td><td style=\"text-align: right;\">0.225803 </td><td style=\"text-align: right;\">0.97834 </td><td style=\"text-align: right;\">             0.0582579</td><td style=\"text-align: right;\">0.246694</td><td style=\"text-align: right;\">0.0608578</td></tr>\n",
       "<tr><td>XGBoost_grid__1_AutoML_20210517_114544_model_48     </td><td style=\"text-align: right;\">0.958569</td><td style=\"text-align: right;\">0.225803 </td><td style=\"text-align: right;\">0.97834 </td><td style=\"text-align: right;\">             0.0582579</td><td style=\"text-align: right;\">0.246694</td><td style=\"text-align: right;\">0.0608578</td></tr>\n",
       "<tr><td>DeepLearning_grid__3_AutoML_20210517_114848_model_6 </td><td style=\"text-align: right;\">0.958145</td><td style=\"text-align: right;\">0.369441 </td><td style=\"text-align: right;\">0.964712</td><td style=\"text-align: right;\">             0.091629 </td><td style=\"text-align: right;\">0.278715</td><td style=\"text-align: right;\">0.0776821</td></tr>\n",
       "<tr><td>DeepLearning_grid__3_AutoML_20210517_114848_model_16</td><td style=\"text-align: right;\">0.957579</td><td style=\"text-align: right;\">0.294877 </td><td style=\"text-align: right;\">0.972898</td><td style=\"text-align: right;\">             0.0803167</td><td style=\"text-align: right;\">0.28622 </td><td style=\"text-align: right;\">0.0819217</td></tr>\n",
       "<tr><td>XGBoost_grid__1_AutoML_20210517_114848_model_99     </td><td style=\"text-align: right;\">0.956731</td><td style=\"text-align: right;\">0.261929 </td><td style=\"text-align: right;\">0.974704</td><td style=\"text-align: right;\">             0.0678733</td><td style=\"text-align: right;\">0.274167</td><td style=\"text-align: right;\">0.0751673</td></tr>\n",
       "<tr><td>XGBoost_grid__1_AutoML_20210517_114544_model_72     </td><td style=\"text-align: right;\">0.956307</td><td style=\"text-align: right;\">0.316478 </td><td style=\"text-align: right;\">0.974689</td><td style=\"text-align: right;\">             0.0559955</td><td style=\"text-align: right;\">0.294744</td><td style=\"text-align: right;\">0.0868739</td></tr>\n",
       "<tr><td>XGBoost_grid__1_AutoML_20210517_114848_model_72     </td><td style=\"text-align: right;\">0.956307</td><td style=\"text-align: right;\">0.316478 </td><td style=\"text-align: right;\">0.974689</td><td style=\"text-align: right;\">             0.0559955</td><td style=\"text-align: right;\">0.294744</td><td style=\"text-align: right;\">0.0868739</td></tr>\n",
       "<tr><td>XGBoost_grid__1_AutoML_20210517_114848_model_87     </td><td style=\"text-align: right;\">0.956165</td><td style=\"text-align: right;\">0.242075 </td><td style=\"text-align: right;\">0.976642</td><td style=\"text-align: right;\">             0.0678733</td><td style=\"text-align: right;\">0.260368</td><td style=\"text-align: right;\">0.0677915</td></tr>\n",
       "<tr><td>XGBoost_grid__1_AutoML_20210517_114544_model_87     </td><td style=\"text-align: right;\">0.956165</td><td style=\"text-align: right;\">0.242075 </td><td style=\"text-align: right;\">0.976642</td><td style=\"text-align: right;\">             0.0678733</td><td style=\"text-align: right;\">0.260368</td><td style=\"text-align: right;\">0.0677915</td></tr>\n",
       "<tr><td>XGBoost_grid__1_AutoML_20210517_114848_model_34     </td><td style=\"text-align: right;\">0.95461 </td><td style=\"text-align: right;\">0.266666 </td><td style=\"text-align: right;\">0.97223 </td><td style=\"text-align: right;\">             0.0656109</td><td style=\"text-align: right;\">0.273233</td><td style=\"text-align: right;\">0.074656 </td></tr>\n",
       "<tr><td>XGBoost_grid__1_AutoML_20210517_114544_model_34     </td><td style=\"text-align: right;\">0.95461 </td><td style=\"text-align: right;\">0.266666 </td><td style=\"text-align: right;\">0.97223 </td><td style=\"text-align: right;\">             0.0656109</td><td style=\"text-align: right;\">0.273233</td><td style=\"text-align: right;\">0.074656 </td></tr>\n",
       "<tr><td>XGBoost_grid__1_AutoML_20210517_114544_model_79     </td><td style=\"text-align: right;\">0.95263 </td><td style=\"text-align: right;\">0.372826 </td><td style=\"text-align: right;\">0.971427</td><td style=\"text-align: right;\">             0.0921946</td><td style=\"text-align: right;\">0.333233</td><td style=\"text-align: right;\">0.111044 </td></tr>\n",
       "<tr><td>XGBoost_grid__1_AutoML_20210517_114848_model_79     </td><td style=\"text-align: right;\">0.95263 </td><td style=\"text-align: right;\">0.372826 </td><td style=\"text-align: right;\">0.971427</td><td style=\"text-align: right;\">             0.0921946</td><td style=\"text-align: right;\">0.333233</td><td style=\"text-align: right;\">0.111044 </td></tr>\n",
       "<tr><td>XGBoost_grid__1_AutoML_20210517_114544_model_68     </td><td style=\"text-align: right;\">0.949661</td><td style=\"text-align: right;\">0.38132  </td><td style=\"text-align: right;\">0.970528</td><td style=\"text-align: right;\">             0.0774887</td><td style=\"text-align: right;\">0.333374</td><td style=\"text-align: right;\">0.111138 </td></tr>\n",
       "<tr><td>XGBoost_grid__1_AutoML_20210517_114848_model_68     </td><td style=\"text-align: right;\">0.949661</td><td style=\"text-align: right;\">0.38132  </td><td style=\"text-align: right;\">0.970528</td><td style=\"text-align: right;\">             0.0774887</td><td style=\"text-align: right;\">0.333374</td><td style=\"text-align: right;\">0.111138 </td></tr>\n",
       "<tr><td>XGBoost_grid__1_AutoML_20210517_114848_model_98     </td><td style=\"text-align: right;\">0.949378</td><td style=\"text-align: right;\">0.346759 </td><td style=\"text-align: right;\">0.971836</td><td style=\"text-align: right;\">             0.0582579</td><td style=\"text-align: right;\">0.31755 </td><td style=\"text-align: right;\">0.100838 </td></tr>\n",
       "<tr><td>XGBoost_grid__1_AutoML_20210517_114544_model_76     </td><td style=\"text-align: right;\">0.948954</td><td style=\"text-align: right;\">0.462214 </td><td style=\"text-align: right;\">0.965735</td><td style=\"text-align: right;\">             0.0774887</td><td style=\"text-align: right;\">0.382488</td><td style=\"text-align: right;\">0.146297 </td></tr>\n",
       "<tr><td>XGBoost_grid__1_AutoML_20210517_114848_model_76     </td><td style=\"text-align: right;\">0.948954</td><td style=\"text-align: right;\">0.462214 </td><td style=\"text-align: right;\">0.965735</td><td style=\"text-align: right;\">             0.0774887</td><td style=\"text-align: right;\">0.382488</td><td style=\"text-align: right;\">0.146297 </td></tr>\n",
       "<tr><td>XGBoost_grid__1_AutoML_20210517_114848_model_49     </td><td style=\"text-align: right;\">0.948671</td><td style=\"text-align: right;\">0.377402 </td><td style=\"text-align: right;\">0.966991</td><td style=\"text-align: right;\">             0.0825792</td><td style=\"text-align: right;\">0.342438</td><td style=\"text-align: right;\">0.117264 </td></tr>\n",
       "<tr><td>XGBoost_grid__1_AutoML_20210517_114544_model_49     </td><td style=\"text-align: right;\">0.948671</td><td style=\"text-align: right;\">0.377402 </td><td style=\"text-align: right;\">0.966991</td><td style=\"text-align: right;\">             0.0825792</td><td style=\"text-align: right;\">0.342438</td><td style=\"text-align: right;\">0.117264 </td></tr>\n",
       "<tr><td>XGBoost_grid__1_AutoML_20210517_114848_model_101    </td><td style=\"text-align: right;\">0.945843</td><td style=\"text-align: right;\">0.375591 </td><td style=\"text-align: right;\">0.966161</td><td style=\"text-align: right;\">             0.0803167</td><td style=\"text-align: right;\">0.337148</td><td style=\"text-align: right;\">0.113669 </td></tr>\n",
       "<tr><td>XGBoost_grid__1_AutoML_20210517_114544_model_55     </td><td style=\"text-align: right;\">0.945277</td><td style=\"text-align: right;\">0.358965 </td><td style=\"text-align: right;\">0.966232</td><td style=\"text-align: right;\">             0.0899321</td><td style=\"text-align: right;\">0.328284</td><td style=\"text-align: right;\">0.10777  </td></tr>\n",
       "<tr><td>XGBoost_grid__1_AutoML_20210517_114848_model_55     </td><td style=\"text-align: right;\">0.945277</td><td style=\"text-align: right;\">0.358965 </td><td style=\"text-align: right;\">0.966232</td><td style=\"text-align: right;\">             0.0899321</td><td style=\"text-align: right;\">0.328284</td><td style=\"text-align: right;\">0.10777  </td></tr>\n",
       "<tr><td>XGBoost_grid__1_AutoML_20210517_114544_model_91     </td><td style=\"text-align: right;\">0.944287</td><td style=\"text-align: right;\">0.364238 </td><td style=\"text-align: right;\">0.969176</td><td style=\"text-align: right;\">             0.0678733</td><td style=\"text-align: right;\">0.325886</td><td style=\"text-align: right;\">0.106202 </td></tr>\n",
       "<tr><td>XGBoost_grid__1_AutoML_20210517_114848_model_91     </td><td style=\"text-align: right;\">0.944287</td><td style=\"text-align: right;\">0.364238 </td><td style=\"text-align: right;\">0.969176</td><td style=\"text-align: right;\">             0.0678733</td><td style=\"text-align: right;\">0.325886</td><td style=\"text-align: right;\">0.106202 </td></tr>\n",
       "<tr><td>XGBoost_grid__1_AutoML_20210517_114848_model_67     </td><td style=\"text-align: right;\">0.943722</td><td style=\"text-align: right;\">0.360952 </td><td style=\"text-align: right;\">0.968175</td><td style=\"text-align: right;\">             0.0871041</td><td style=\"text-align: right;\">0.325703</td><td style=\"text-align: right;\">0.106083 </td></tr>\n",
       "<tr><td>XGBoost_grid__1_AutoML_20210517_114544_model_67     </td><td style=\"text-align: right;\">0.943722</td><td style=\"text-align: right;\">0.360952 </td><td style=\"text-align: right;\">0.968175</td><td style=\"text-align: right;\">             0.0871041</td><td style=\"text-align: right;\">0.325703</td><td style=\"text-align: right;\">0.106083 </td></tr>\n",
       "<tr><td>XGBoost_grid__1_AutoML_20210517_114848_model_3      </td><td style=\"text-align: right;\">0.942308</td><td style=\"text-align: right;\">0.361199 </td><td style=\"text-align: right;\">0.968655</td><td style=\"text-align: right;\">             0.0582579</td><td style=\"text-align: right;\">0.322038</td><td style=\"text-align: right;\">0.103708 </td></tr>\n",
       "<tr><td>XGBoost_grid__1_AutoML_20210517_114544_model_3      </td><td style=\"text-align: right;\">0.942308</td><td style=\"text-align: right;\">0.361199 </td><td style=\"text-align: right;\">0.968655</td><td style=\"text-align: right;\">             0.0582579</td><td style=\"text-align: right;\">0.322038</td><td style=\"text-align: right;\">0.103708 </td></tr>\n",
       "<tr><td>XGBoost_grid__1_AutoML_20210517_114544_model_44     </td><td style=\"text-align: right;\">0.941742</td><td style=\"text-align: right;\">0.357553 </td><td style=\"text-align: right;\">0.964151</td><td style=\"text-align: right;\">             0.0825792</td><td style=\"text-align: right;\">0.326721</td><td style=\"text-align: right;\">0.106747 </td></tr>\n",
       "<tr><td>XGBoost_grid__1_AutoML_20210517_114848_model_44     </td><td style=\"text-align: right;\">0.941742</td><td style=\"text-align: right;\">0.357553 </td><td style=\"text-align: right;\">0.964151</td><td style=\"text-align: right;\">             0.0825792</td><td style=\"text-align: right;\">0.326721</td><td style=\"text-align: right;\">0.106747 </td></tr>\n",
       "<tr><td>XGBoost_grid__1_AutoML_20210517_114544_model_70     </td><td style=\"text-align: right;\">0.941176</td><td style=\"text-align: right;\">0.369037 </td><td style=\"text-align: right;\">0.96339 </td><td style=\"text-align: right;\">             0.0825792</td><td style=\"text-align: right;\">0.335974</td><td style=\"text-align: right;\">0.112879 </td></tr>\n",
       "<tr><td>XGBoost_grid__1_AutoML_20210517_114848_model_70     </td><td style=\"text-align: right;\">0.941176</td><td style=\"text-align: right;\">0.369037 </td><td style=\"text-align: right;\">0.96339 </td><td style=\"text-align: right;\">             0.0825792</td><td style=\"text-align: right;\">0.335974</td><td style=\"text-align: right;\">0.112879 </td></tr>\n",
       "<tr><td>XGBoost_2_AutoML_20210517_114848                    </td><td style=\"text-align: right;\">0.937641</td><td style=\"text-align: right;\">0.365809 </td><td style=\"text-align: right;\">0.960975</td><td style=\"text-align: right;\">             0.0876697</td><td style=\"text-align: right;\">0.332829</td><td style=\"text-align: right;\">0.110775 </td></tr>\n",
       "<tr><td>XGBoost_2_AutoML_20210517_114544                    </td><td style=\"text-align: right;\">0.937641</td><td style=\"text-align: right;\">0.365809 </td><td style=\"text-align: right;\">0.960975</td><td style=\"text-align: right;\">             0.0876697</td><td style=\"text-align: right;\">0.332829</td><td style=\"text-align: right;\">0.110775 </td></tr>\n",
       "<tr><td>XGBoost_grid__1_AutoML_20210517_114848_model_69     </td><td style=\"text-align: right;\">0.937359</td><td style=\"text-align: right;\">0.362393 </td><td style=\"text-align: right;\">0.963884</td><td style=\"text-align: right;\">             0.0899321</td><td style=\"text-align: right;\">0.33039 </td><td style=\"text-align: right;\">0.109158 </td></tr>\n",
       "<tr><td>XGBoost_grid__1_AutoML_20210517_114544_model_69     </td><td style=\"text-align: right;\">0.937359</td><td style=\"text-align: right;\">0.362393 </td><td style=\"text-align: right;\">0.963884</td><td style=\"text-align: right;\">             0.0899321</td><td style=\"text-align: right;\">0.33039 </td><td style=\"text-align: right;\">0.109158 </td></tr>\n",
       "<tr><td>XGBoost_grid__1_AutoML_20210517_114544_model_30     </td><td style=\"text-align: right;\">0.93552 </td><td style=\"text-align: right;\">0.425809 </td><td style=\"text-align: right;\">0.959501</td><td style=\"text-align: right;\">             0.0825792</td><td style=\"text-align: right;\">0.369524</td><td style=\"text-align: right;\">0.136548 </td></tr>\n",
       "<tr><td>XGBoost_grid__1_AutoML_20210517_114848_model_30     </td><td style=\"text-align: right;\">0.93552 </td><td style=\"text-align: right;\">0.425809 </td><td style=\"text-align: right;\">0.959501</td><td style=\"text-align: right;\">             0.0825792</td><td style=\"text-align: right;\">0.369524</td><td style=\"text-align: right;\">0.136548 </td></tr>\n",
       "<tr><td>DeepLearning_grid__3_AutoML_20210517_114848_model_12</td><td style=\"text-align: right;\">0.933824</td><td style=\"text-align: right;\">0.365942 </td><td style=\"text-align: right;\">0.951626</td><td style=\"text-align: right;\">             0.16629  </td><td style=\"text-align: right;\">0.334032</td><td style=\"text-align: right;\">0.111577 </td></tr>\n",
       "<tr><td>XGBoost_grid__1_AutoML_20210517_114848_model_82     </td><td style=\"text-align: right;\">0.930288</td><td style=\"text-align: right;\">0.379628 </td><td style=\"text-align: right;\">0.957655</td><td style=\"text-align: right;\">             0.0950226</td><td style=\"text-align: right;\">0.341537</td><td style=\"text-align: right;\">0.116647 </td></tr>\n",
       "<tr><td>XGBoost_grid__1_AutoML_20210517_114544_model_82     </td><td style=\"text-align: right;\">0.930288</td><td style=\"text-align: right;\">0.379628 </td><td style=\"text-align: right;\">0.957655</td><td style=\"text-align: right;\">             0.0950226</td><td style=\"text-align: right;\">0.341537</td><td style=\"text-align: right;\">0.116647 </td></tr>\n",
       "<tr><td>XGBoost_grid__1_AutoML_20210517_114848_model_50     </td><td style=\"text-align: right;\">0.928733</td><td style=\"text-align: right;\">0.385854 </td><td style=\"text-align: right;\">0.955164</td><td style=\"text-align: right;\">             0.0899321</td><td style=\"text-align: right;\">0.347526</td><td style=\"text-align: right;\">0.120774 </td></tr>\n",
       "<tr><td>XGBoost_grid__1_AutoML_20210517_114544_model_50     </td><td style=\"text-align: right;\">0.928733</td><td style=\"text-align: right;\">0.385854 </td><td style=\"text-align: right;\">0.955164</td><td style=\"text-align: right;\">             0.0899321</td><td style=\"text-align: right;\">0.347526</td><td style=\"text-align: right;\">0.120774 </td></tr>\n",
       "<tr><td>XGBoost_grid__1_AutoML_20210517_114544_model_83     </td><td style=\"text-align: right;\">0.928309</td><td style=\"text-align: right;\">0.47102  </td><td style=\"text-align: right;\">0.954985</td><td style=\"text-align: right;\">             0.0899321</td><td style=\"text-align: right;\">0.388128</td><td style=\"text-align: right;\">0.150643 </td></tr>\n",
       "<tr><td>XGBoost_grid__1_AutoML_20210517_114848_model_83     </td><td style=\"text-align: right;\">0.928309</td><td style=\"text-align: right;\">0.47102  </td><td style=\"text-align: right;\">0.954985</td><td style=\"text-align: right;\">             0.0899321</td><td style=\"text-align: right;\">0.388128</td><td style=\"text-align: right;\">0.150643 </td></tr>\n",
       "<tr><td>DeepLearning_1_AutoML_20210517_114544               </td><td style=\"text-align: right;\">0.921663</td><td style=\"text-align: right;\">0.362136 </td><td style=\"text-align: right;\">0.944879</td><td style=\"text-align: right;\">             0.156674 </td><td style=\"text-align: right;\">0.342417</td><td style=\"text-align: right;\">0.117249 </td></tr>\n",
       "<tr><td>DeepLearning_grid__3_AutoML_20210517_114848_model_20</td><td style=\"text-align: right;\">0.9194  </td><td style=\"text-align: right;\">0.392639 </td><td style=\"text-align: right;\">0.944699</td><td style=\"text-align: right;\">             0.121606 </td><td style=\"text-align: right;\">0.351635</td><td style=\"text-align: right;\">0.123647 </td></tr>\n",
       "<tr><td>XGBoost_grid__1_AutoML_20210517_114848_model_73     </td><td style=\"text-align: right;\">0.916572</td><td style=\"text-align: right;\">0.412614 </td><td style=\"text-align: right;\">0.949481</td><td style=\"text-align: right;\">             0.0950226</td><td style=\"text-align: right;\">0.361503</td><td style=\"text-align: right;\">0.130684 </td></tr>\n",
       "<tr><td>XGBoost_grid__1_AutoML_20210517_114544_model_73     </td><td style=\"text-align: right;\">0.916572</td><td style=\"text-align: right;\">0.412614 </td><td style=\"text-align: right;\">0.949481</td><td style=\"text-align: right;\">             0.0950226</td><td style=\"text-align: right;\">0.361503</td><td style=\"text-align: right;\">0.130684 </td></tr>\n",
       "<tr><td>GBM_grid__1_AutoML_20210517_114848_model_79         </td><td style=\"text-align: right;\">0.914593</td><td style=\"text-align: right;\">0.444134 </td><td style=\"text-align: right;\">0.947148</td><td style=\"text-align: right;\">             0.0950226</td><td style=\"text-align: right;\">0.374712</td><td style=\"text-align: right;\">0.140409 </td></tr>\n",
       "<tr><td>GBM_grid__1_AutoML_20210517_114848_model_36         </td><td style=\"text-align: right;\">0.91431 </td><td style=\"text-align: right;\">0.419091 </td><td style=\"text-align: right;\">0.946776</td><td style=\"text-align: right;\">             0.0950226</td><td style=\"text-align: right;\">0.360702</td><td style=\"text-align: right;\">0.130106 </td></tr>\n",
       "<tr><td>GBM_grid__1_AutoML_20210517_114848_model_1          </td><td style=\"text-align: right;\">0.914027</td><td style=\"text-align: right;\">0.535446 </td><td style=\"text-align: right;\">0.946062</td><td style=\"text-align: right;\">             0.0950226</td><td style=\"text-align: right;\">0.418218</td><td style=\"text-align: right;\">0.174906 </td></tr>\n",
       "<tr><td>GBM_grid__1_AutoML_20210517_114848_model_57         </td><td style=\"text-align: right;\">0.912613</td><td style=\"text-align: right;\">0.499131 </td><td style=\"text-align: right;\">0.943608</td><td style=\"text-align: right;\">             0.0950226</td><td style=\"text-align: right;\">0.400942</td><td style=\"text-align: right;\">0.160754 </td></tr>\n",
       "<tr><td>GBM_5_AutoML_20210517_114848                        </td><td style=\"text-align: right;\">0.909785</td><td style=\"text-align: right;\">0.440465 </td><td style=\"text-align: right;\">0.940473</td><td style=\"text-align: right;\">             0.0950226</td><td style=\"text-align: right;\">0.372105</td><td style=\"text-align: right;\">0.138462 </td></tr>\n",
       "<tr><td>GBM_5_AutoML_20210517_114544                        </td><td style=\"text-align: right;\">0.909785</td><td style=\"text-align: right;\">0.440465 </td><td style=\"text-align: right;\">0.940473</td><td style=\"text-align: right;\">             0.0950226</td><td style=\"text-align: right;\">0.372105</td><td style=\"text-align: right;\">0.138462 </td></tr>\n",
       "<tr><td>XGBoost_grid__1_AutoML_20210517_114848_model_54     </td><td style=\"text-align: right;\">0.909644</td><td style=\"text-align: right;\">0.455429 </td><td style=\"text-align: right;\">0.940559</td><td style=\"text-align: right;\">             0.0950226</td><td style=\"text-align: right;\">0.385284</td><td style=\"text-align: right;\">0.148444 </td></tr>\n",
       "<tr><td>XGBoost_grid__1_AutoML_20210517_114544_model_54     </td><td style=\"text-align: right;\">0.909644</td><td style=\"text-align: right;\">0.455429 </td><td style=\"text-align: right;\">0.940559</td><td style=\"text-align: right;\">             0.0950226</td><td style=\"text-align: right;\">0.385284</td><td style=\"text-align: right;\">0.148444 </td></tr>\n",
       "<tr><td>GBM_grid__1_AutoML_20210517_114848_model_49         </td><td style=\"text-align: right;\">0.909502</td><td style=\"text-align: right;\">0.513021 </td><td style=\"text-align: right;\">0.939599</td><td style=\"text-align: right;\">             0.0950226</td><td style=\"text-align: right;\">0.406598</td><td style=\"text-align: right;\">0.165322 </td></tr>\n",
       "<tr><td>XGBoost_grid__1_AutoML_20210517_114544_model_8      </td><td style=\"text-align: right;\">0.908937</td><td style=\"text-align: right;\">0.461583 </td><td style=\"text-align: right;\">0.939982</td><td style=\"text-align: right;\">             0.0950226</td><td style=\"text-align: right;\">0.387789</td><td style=\"text-align: right;\">0.15038  </td></tr>\n",
       "<tr><td>XGBoost_grid__1_AutoML_20210517_114848_model_8      </td><td style=\"text-align: right;\">0.908937</td><td style=\"text-align: right;\">0.461583 </td><td style=\"text-align: right;\">0.939982</td><td style=\"text-align: right;\">             0.0950226</td><td style=\"text-align: right;\">0.387789</td><td style=\"text-align: right;\">0.15038  </td></tr>\n",
       "<tr><td>GBM_grid__1_AutoML_20210517_114848_model_60         </td><td style=\"text-align: right;\">0.908654</td><td style=\"text-align: right;\">0.49449  </td><td style=\"text-align: right;\">0.938647</td><td style=\"text-align: right;\">             0.0950226</td><td style=\"text-align: right;\">0.398782</td><td style=\"text-align: right;\">0.159027 </td></tr>\n",
       "<tr><td>GBM_grid__1_AutoML_20210517_114848_model_93         </td><td style=\"text-align: right;\">0.90724 </td><td style=\"text-align: right;\">0.43345  </td><td style=\"text-align: right;\">0.935904</td><td style=\"text-align: right;\">             0.0950226</td><td style=\"text-align: right;\">0.367365</td><td style=\"text-align: right;\">0.134957 </td></tr>\n",
       "<tr><td>GBM_grid__1_AutoML_20210517_114848_model_45         </td><td style=\"text-align: right;\">0.906391</td><td style=\"text-align: right;\">0.451845 </td><td style=\"text-align: right;\">0.934058</td><td style=\"text-align: right;\">             0.0950226</td><td style=\"text-align: right;\">0.375496</td><td style=\"text-align: right;\">0.140997 </td></tr>\n",
       "<tr><td>XGBoost_grid__1_AutoML_20210517_114544_model_63     </td><td style=\"text-align: right;\">0.90625 </td><td style=\"text-align: right;\">0.438337 </td><td style=\"text-align: right;\">0.941463</td><td style=\"text-align: right;\">             0.102376 </td><td style=\"text-align: right;\">0.375865</td><td style=\"text-align: right;\">0.141275 </td></tr>\n",
       "<tr><td>XGBoost_grid__1_AutoML_20210517_114848_model_63     </td><td style=\"text-align: right;\">0.90625 </td><td style=\"text-align: right;\">0.438337 </td><td style=\"text-align: right;\">0.941463</td><td style=\"text-align: right;\">             0.102376 </td><td style=\"text-align: right;\">0.375865</td><td style=\"text-align: right;\">0.141275 </td></tr>\n",
       "<tr><td>GBM_grid__1_AutoML_20210517_114848_model_21         </td><td style=\"text-align: right;\">0.905543</td><td style=\"text-align: right;\">0.560827 </td><td style=\"text-align: right;\">0.934601</td><td style=\"text-align: right;\">             0.0950226</td><td style=\"text-align: right;\">0.431453</td><td style=\"text-align: right;\">0.186152 </td></tr>\n",
       "<tr><td>DeepLearning_1_AutoML_20210517_114848               </td><td style=\"text-align: right;\">0.905543</td><td style=\"text-align: right;\">0.418659 </td><td style=\"text-align: right;\">0.934838</td><td style=\"text-align: right;\">             0.159502 </td><td style=\"text-align: right;\">0.369337</td><td style=\"text-align: right;\">0.13641  </td></tr>\n",
       "<tr><td>GBM_grid__1_AutoML_20210517_114848_model_66         </td><td style=\"text-align: right;\">0.90526 </td><td style=\"text-align: right;\">0.481249 </td><td style=\"text-align: right;\">0.931303</td><td style=\"text-align: right;\">             0.0950226</td><td style=\"text-align: right;\">0.391599</td><td style=\"text-align: right;\">0.153349 </td></tr>\n",
       "<tr><td>XGBoost_grid__1_AutoML_20210517_114544_model_21     </td><td style=\"text-align: right;\">0.905119</td><td style=\"text-align: right;\">0.441231 </td><td style=\"text-align: right;\">0.940171</td><td style=\"text-align: right;\">             0.102376 </td><td style=\"text-align: right;\">0.377341</td><td style=\"text-align: right;\">0.142387 </td></tr>\n",
       "<tr><td>XGBoost_grid__1_AutoML_20210517_114848_model_21     </td><td style=\"text-align: right;\">0.905119</td><td style=\"text-align: right;\">0.441231 </td><td style=\"text-align: right;\">0.940171</td><td style=\"text-align: right;\">             0.102376 </td><td style=\"text-align: right;\">0.377341</td><td style=\"text-align: right;\">0.142387 </td></tr>\n",
       "<tr><td>GBM_grid__1_AutoML_20210517_114848_model_13         </td><td style=\"text-align: right;\">0.904977</td><td style=\"text-align: right;\">0.538661 </td><td style=\"text-align: right;\">0.933453</td><td style=\"text-align: right;\">             0.0950226</td><td style=\"text-align: right;\">0.420442</td><td style=\"text-align: right;\">0.176772 </td></tr>\n",
       "<tr><td>GBM_grid__1_AutoML_20210517_114848_model_70         </td><td style=\"text-align: right;\">0.904977</td><td style=\"text-align: right;\">0.439322 </td><td style=\"text-align: right;\">0.930765</td><td style=\"text-align: right;\">             0.0950226</td><td style=\"text-align: right;\">0.370964</td><td style=\"text-align: right;\">0.137614 </td></tr>\n",
       "<tr><td>GBM_grid__1_AutoML_20210517_114848_model_12         </td><td style=\"text-align: right;\">0.904977</td><td style=\"text-align: right;\">0.466672 </td><td style=\"text-align: right;\">0.930765</td><td style=\"text-align: right;\">             0.0950226</td><td style=\"text-align: right;\">0.383153</td><td style=\"text-align: right;\">0.146806 </td></tr>\n",
       "<tr><td>GBM_grid__1_AutoML_20210517_114848_model_15         </td><td style=\"text-align: right;\">0.904695</td><td style=\"text-align: right;\">0.468247 </td><td style=\"text-align: right;\">0.930459</td><td style=\"text-align: right;\">             0.0950226</td><td style=\"text-align: right;\">0.384049</td><td style=\"text-align: right;\">0.147493 </td></tr>\n",
       "<tr><td>GBM_grid__1_AutoML_20210517_114848_model_100        </td><td style=\"text-align: right;\">0.89819 </td><td style=\"text-align: right;\">0.527169 </td><td style=\"text-align: right;\">0.919639</td><td style=\"text-align: right;\">             0.0950226</td><td style=\"text-align: right;\">0.414497</td><td style=\"text-align: right;\">0.171808 </td></tr>\n",
       "<tr><td>XGBoost_grid__1_AutoML_20210517_114848_model_88     </td><td style=\"text-align: right;\">0.879808</td><td style=\"text-align: right;\">0.487839 </td><td style=\"text-align: right;\">0.923155</td><td style=\"text-align: right;\">             0.124434 </td><td style=\"text-align: right;\">0.403303</td><td style=\"text-align: right;\">0.162653 </td></tr>\n",
       "<tr><td>XGBoost_grid__1_AutoML_20210517_114544_model_88     </td><td style=\"text-align: right;\">0.879808</td><td style=\"text-align: right;\">0.487839 </td><td style=\"text-align: right;\">0.923155</td><td style=\"text-align: right;\">             0.124434 </td><td style=\"text-align: right;\">0.403303</td><td style=\"text-align: right;\">0.162653 </td></tr>\n",
       "<tr><td>DeepLearning_grid__2_AutoML_20210517_114848_model_20</td><td style=\"text-align: right;\">0.85379 </td><td style=\"text-align: right;\">0.479693 </td><td style=\"text-align: right;\">0.899723</td><td style=\"text-align: right;\">             0.194005 </td><td style=\"text-align: right;\">0.397516</td><td style=\"text-align: right;\">0.158019 </td></tr>\n",
       "<tr><td>XGBoost_grid__1_AutoML_20210517_114848_model_96     </td><td style=\"text-align: right;\">0.831307</td><td style=\"text-align: right;\">0.506327 </td><td style=\"text-align: right;\">0.893906</td><td style=\"text-align: right;\">             0.199661 </td><td style=\"text-align: right;\">0.413968</td><td style=\"text-align: right;\">0.17137  </td></tr>\n",
       "<tr><td>XGBoost_grid__1_AutoML_20210517_114848_model_5      </td><td style=\"text-align: right;\">0.825226</td><td style=\"text-align: right;\">0.499903 </td><td style=\"text-align: right;\">0.892421</td><td style=\"text-align: right;\">             0.183258 </td><td style=\"text-align: right;\">0.410429</td><td style=\"text-align: right;\">0.168452 </td></tr>\n",
       "<tr><td>XGBoost_grid__1_AutoML_20210517_114544_model_5      </td><td style=\"text-align: right;\">0.825226</td><td style=\"text-align: right;\">0.499903 </td><td style=\"text-align: right;\">0.892421</td><td style=\"text-align: right;\">             0.183258 </td><td style=\"text-align: right;\">0.410429</td><td style=\"text-align: right;\">0.168452 </td></tr>\n",
       "<tr><td>XGBoost_grid__1_AutoML_20210517_114544_model_11     </td><td style=\"text-align: right;\">0.824802</td><td style=\"text-align: right;\">0.500366 </td><td style=\"text-align: right;\">0.892041</td><td style=\"text-align: right;\">             0.183258 </td><td style=\"text-align: right;\">0.40969 </td><td style=\"text-align: right;\">0.167846 </td></tr>\n",
       "<tr><td>XGBoost_grid__1_AutoML_20210517_114848_model_11     </td><td style=\"text-align: right;\">0.824802</td><td style=\"text-align: right;\">0.500366 </td><td style=\"text-align: right;\">0.892041</td><td style=\"text-align: right;\">             0.183258 </td><td style=\"text-align: right;\">0.40969 </td><td style=\"text-align: right;\">0.167846 </td></tr>\n",
       "<tr><td>XGBoost_grid__1_AutoML_20210517_114544_model_24     </td><td style=\"text-align: right;\">0.822115</td><td style=\"text-align: right;\">0.524481 </td><td style=\"text-align: right;\">0.888638</td><td style=\"text-align: right;\">             0.183258 </td><td style=\"text-align: right;\">0.423061</td><td style=\"text-align: right;\">0.17898  </td></tr>\n",
       "<tr><td>XGBoost_grid__1_AutoML_20210517_114544_model_39     </td><td style=\"text-align: right;\">0.822115</td><td style=\"text-align: right;\">0.503715 </td><td style=\"text-align: right;\">0.888638</td><td style=\"text-align: right;\">             0.183258 </td><td style=\"text-align: right;\">0.412161</td><td style=\"text-align: right;\">0.169877 </td></tr>\n",
       "<tr><td>XGBoost_grid__1_AutoML_20210517_114848_model_39     </td><td style=\"text-align: right;\">0.822115</td><td style=\"text-align: right;\">0.503715 </td><td style=\"text-align: right;\">0.888638</td><td style=\"text-align: right;\">             0.183258 </td><td style=\"text-align: right;\">0.412161</td><td style=\"text-align: right;\">0.169877 </td></tr>\n",
       "<tr><td>XGBoost_grid__1_AutoML_20210517_114848_model_24     </td><td style=\"text-align: right;\">0.822115</td><td style=\"text-align: right;\">0.524481 </td><td style=\"text-align: right;\">0.888638</td><td style=\"text-align: right;\">             0.183258 </td><td style=\"text-align: right;\">0.423061</td><td style=\"text-align: right;\">0.17898  </td></tr>\n",
       "<tr><td>XGBoost_grid__1_AutoML_20210517_114848_model_97     </td><td style=\"text-align: right;\">0.762868</td><td style=\"text-align: right;\">0.533466 </td><td style=\"text-align: right;\">0.855346</td><td style=\"text-align: right;\">             0.5      </td><td style=\"text-align: right;\">0.428805</td><td style=\"text-align: right;\">0.183874 </td></tr>\n",
       "<tr><td>XGBoost_grid__1_AutoML_20210517_114848_model_41     </td><td style=\"text-align: right;\">0.757494</td><td style=\"text-align: right;\">0.581052 </td><td style=\"text-align: right;\">0.846678</td><td style=\"text-align: right;\">             0.5      </td><td style=\"text-align: right;\">0.447474</td><td style=\"text-align: right;\">0.200233 </td></tr>\n",
       "<tr><td>XGBoost_grid__1_AutoML_20210517_114544_model_41     </td><td style=\"text-align: right;\">0.757494</td><td style=\"text-align: right;\">0.581052 </td><td style=\"text-align: right;\">0.846678</td><td style=\"text-align: right;\">             0.5      </td><td style=\"text-align: right;\">0.447474</td><td style=\"text-align: right;\">0.200233 </td></tr>\n",
       "<tr><td>XGBoost_grid__1_AutoML_20210517_114848_model_36     </td><td style=\"text-align: right;\">0.686086</td><td style=\"text-align: right;\">0.583517 </td><td style=\"text-align: right;\">0.798214</td><td style=\"text-align: right;\">             0.5      </td><td style=\"text-align: right;\">0.452388</td><td style=\"text-align: right;\">0.204655 </td></tr>\n",
       "<tr><td>XGBoost_grid__1_AutoML_20210517_114544_model_36     </td><td style=\"text-align: right;\">0.686086</td><td style=\"text-align: right;\">0.583517 </td><td style=\"text-align: right;\">0.798214</td><td style=\"text-align: right;\">             0.5      </td><td style=\"text-align: right;\">0.452388</td><td style=\"text-align: right;\">0.204655 </td></tr>\n",
       "<tr><td>XGBoost_grid__1_AutoML_20210517_114544_model_13     </td><td style=\"text-align: right;\">0.685662</td><td style=\"text-align: right;\">0.600698 </td><td style=\"text-align: right;\">0.797439</td><td style=\"text-align: right;\">             0.5      </td><td style=\"text-align: right;\">0.458685</td><td style=\"text-align: right;\">0.210392 </td></tr>\n",
       "<tr><td>XGBoost_grid__1_AutoML_20210517_114544_model_64     </td><td style=\"text-align: right;\">0.685662</td><td style=\"text-align: right;\">0.601464 </td><td style=\"text-align: right;\">0.797439</td><td style=\"text-align: right;\">             0.5      </td><td style=\"text-align: right;\">0.459021</td><td style=\"text-align: right;\">0.2107   </td></tr>\n",
       "<tr><td>XGBoost_grid__1_AutoML_20210517_114848_model_64     </td><td style=\"text-align: right;\">0.685662</td><td style=\"text-align: right;\">0.601464 </td><td style=\"text-align: right;\">0.797439</td><td style=\"text-align: right;\">             0.5      </td><td style=\"text-align: right;\">0.459021</td><td style=\"text-align: right;\">0.2107   </td></tr>\n",
       "<tr><td>XGBoost_grid__1_AutoML_20210517_114848_model_13     </td><td style=\"text-align: right;\">0.685662</td><td style=\"text-align: right;\">0.600698 </td><td style=\"text-align: right;\">0.797439</td><td style=\"text-align: right;\">             0.5      </td><td style=\"text-align: right;\">0.458685</td><td style=\"text-align: right;\">0.210392 </td></tr>\n",
       "<tr><td>XGBoost_grid__1_AutoML_20210517_114848_model_103    </td><td style=\"text-align: right;\">0.68552 </td><td style=\"text-align: right;\">0.581749 </td><td style=\"text-align: right;\">0.797163</td><td style=\"text-align: right;\">             0.5      </td><td style=\"text-align: right;\">0.453295</td><td style=\"text-align: right;\">0.205477 </td></tr>\n",
       "<tr><td>DeepLearning_grid__1_AutoML_20210517_114848_model_16</td><td style=\"text-align: right;\">0.55246 </td><td style=\"text-align: right;\">8.70585  </td><td style=\"text-align: right;\">0.728128</td><td style=\"text-align: right;\">             0.5      </td><td style=\"text-align: right;\">0.614522</td><td style=\"text-align: right;\">0.377637 </td></tr>\n",
       "</tbody>\n",
       "</table>"
      ]
     },
     "metadata": {},
     "output_type": "display_data"
    },
    {
     "data": {
      "text/plain": []
     },
     "execution_count": 80,
     "metadata": {},
     "output_type": "execute_result"
    }
   ],
   "source": [
    "lb = aml.leaderboard\n",
    "lb.head(rows=lb.nrows)"
   ]
  },
  {
   "cell_type": "code",
   "execution_count": 81,
   "metadata": {},
   "outputs": [
    {
     "name": "stdout",
     "output_type": "stream",
     "text": [
      "drf prediction progress: |████████████████████████████████████████████████| 100%\n"
     ]
    },
    {
     "data": {
      "text/html": [
       "<table>\n",
       "<thead>\n",
       "<tr><th>predict  </th><th style=\"text-align: right;\">     ham</th><th style=\"text-align: right;\">    spam</th></tr>\n",
       "</thead>\n",
       "<tbody>\n",
       "<tr><td>spam     </td><td style=\"text-align: right;\">0.723776</td><td style=\"text-align: right;\">0.276224</td></tr>\n",
       "<tr><td>spam     </td><td style=\"text-align: right;\">0.626266</td><td style=\"text-align: right;\">0.373734</td></tr>\n",
       "<tr><td>spam     </td><td style=\"text-align: right;\">0.352781</td><td style=\"text-align: right;\">0.647219</td></tr>\n",
       "<tr><td>spam     </td><td style=\"text-align: right;\">0.792056</td><td style=\"text-align: right;\">0.207944</td></tr>\n",
       "<tr><td>spam     </td><td style=\"text-align: right;\">0.532474</td><td style=\"text-align: right;\">0.467526</td></tr>\n",
       "<tr><td>spam     </td><td style=\"text-align: right;\">0.730319</td><td style=\"text-align: right;\">0.269681</td></tr>\n",
       "<tr><td>spam     </td><td style=\"text-align: right;\">0.539031</td><td style=\"text-align: right;\">0.460969</td></tr>\n",
       "<tr><td>spam     </td><td style=\"text-align: right;\">0.567243</td><td style=\"text-align: right;\">0.432757</td></tr>\n",
       "<tr><td>spam     </td><td style=\"text-align: right;\">0.801157</td><td style=\"text-align: right;\">0.198843</td></tr>\n",
       "<tr><td>spam     </td><td style=\"text-align: right;\">0.764216</td><td style=\"text-align: right;\">0.235784</td></tr>\n",
       "</tbody>\n",
       "</table>"
      ]
     },
     "metadata": {},
     "output_type": "display_data"
    },
    {
     "data": {
      "text/plain": []
     },
     "execution_count": 81,
     "metadata": {},
     "output_type": "execute_result"
    }
   ],
   "source": [
    "aml.leader.predict(h2o_test_df)"
   ]
  },
  {
   "cell_type": "markdown",
   "metadata": {},
   "source": [
    "## Pipeline and RF"
   ]
  },
  {
   "cell_type": "code",
   "execution_count": 44,
   "metadata": {},
   "outputs": [],
   "source": [
    "clf = Pipeline(\n",
    "    [\n",
    "        (\"tfidf\",TfidfVectorizer()), \n",
    "        (\"clf\", RandomForestClassifier(n_estimators=100,n_jobs=-1))\n",
    "    ]\n",
    ")"
   ]
  },
  {
   "cell_type": "code",
   "execution_count": 45,
   "metadata": {},
   "outputs": [
    {
     "data": {
      "text/plain": [
       "Pipeline(memory=None,\n",
       "         steps=[('tfidf',\n",
       "                 TfidfVectorizer(analyzer='word', binary=False,\n",
       "                                 decode_error='strict',\n",
       "                                 dtype=<class 'numpy.float64'>,\n",
       "                                 encoding='utf-8', input='content',\n",
       "                                 lowercase=True, max_df=1.0, max_features=None,\n",
       "                                 min_df=1, ngram_range=(1, 1), norm='l2',\n",
       "                                 preprocessor=None, smooth_idf=True,\n",
       "                                 stop_words=None, strip_accents=None,\n",
       "                                 sublinear_tf=False,\n",
       "                                 token_pattern='...\n",
       "                 RandomForestClassifier(bootstrap=True, class_weight=None,\n",
       "                                        criterion='gini', max_depth=None,\n",
       "                                        max_features='auto',\n",
       "                                        max_leaf_nodes=None,\n",
       "                                        min_impurity_decrease=0.0,\n",
       "                                        min_impurity_split=None,\n",
       "                                        min_samples_leaf=1, min_samples_split=2,\n",
       "                                        min_weight_fraction_leaf=0.0,\n",
       "                                        n_estimators=100, n_jobs=-1,\n",
       "                                        oob_score=False, random_state=None,\n",
       "                                        verbose=0, warm_start=False))],\n",
       "         verbose=False)"
      ]
     },
     "execution_count": 45,
     "metadata": {},
     "output_type": "execute_result"
    }
   ],
   "source": [
    "clf.fit(x_train,y_train)"
   ]
  },
  {
   "cell_type": "code",
   "execution_count": 49,
   "metadata": {},
   "outputs": [],
   "source": [
    "y_pred = clf.predict(x_test)"
   ]
  },
  {
   "cell_type": "code",
   "execution_count": 50,
   "metadata": {},
   "outputs": [
    {
     "data": {
      "text/plain": [
       "array([[145,   0],\n",
       "       [ 17, 137]])"
      ]
     },
     "execution_count": 50,
     "metadata": {},
     "output_type": "execute_result"
    }
   ],
   "source": [
    "confusion_matrix(y_test,y_pred)"
   ]
  },
  {
   "cell_type": "code",
   "execution_count": 67,
   "metadata": {
    "scrolled": false
   },
   "outputs": [
    {
     "name": "stdout",
     "output_type": "stream",
     "text": [
      "              precision    recall  f1-score   support\n",
      "\n",
      "         ham       0.90      0.99      0.94       145\n",
      "        spam       0.99      0.90      0.94       154\n",
      "\n",
      "    accuracy                           0.94       299\n",
      "   macro avg       0.95      0.94      0.94       299\n",
      "weighted avg       0.95      0.94      0.94       299\n",
      "\n"
     ]
    }
   ],
   "source": [
    "print(classification_report(y_test,y_pred))"
   ]
  },
  {
   "cell_type": "code",
   "execution_count": 68,
   "metadata": {
    "scrolled": false
   },
   "outputs": [
    {
     "data": {
      "text/plain": [
       "0.9431438127090301"
      ]
     },
     "execution_count": 68,
     "metadata": {},
     "output_type": "execute_result"
    }
   ],
   "source": [
    "accuracy_score(y_test,y_pred)"
   ]
  },
  {
   "cell_type": "code",
   "execution_count": 69,
   "metadata": {},
   "outputs": [
    {
     "data": {
      "text/plain": [
       "array(['ham'], dtype=object)"
      ]
     },
     "execution_count": 69,
     "metadata": {},
     "output_type": "execute_result"
    }
   ],
   "source": [
    "clf.predict([\"hi how are you\"])"
   ]
  },
  {
   "cell_type": "code",
   "execution_count": 70,
   "metadata": {},
   "outputs": [
    {
     "data": {
      "text/plain": [
       "array(['spam'], dtype=object)"
      ]
     },
     "execution_count": 70,
     "metadata": {},
     "output_type": "execute_result"
    }
   ],
   "source": [
    "clf.predict([\"Congrats!, you have won free ticket for USA this summer, Text 'WON' to 546525\"])"
   ]
  },
  {
   "cell_type": "code",
   "execution_count": 80,
   "metadata": {},
   "outputs": [],
   "source": [
    "clf = Pipeline(\n",
    "    [\n",
    "        (\"tfidf\",TfidfVectorizer()), \n",
    "        (\"clf\", SVC(C=2000, gamma=\"auto\"))\n",
    "    ]\n",
    ")"
   ]
  },
  {
   "cell_type": "code",
   "execution_count": 81,
   "metadata": {},
   "outputs": [
    {
     "data": {
      "text/plain": [
       "Pipeline(memory=None,\n",
       "         steps=[('tfidf',\n",
       "                 TfidfVectorizer(analyzer='word', binary=False,\n",
       "                                 decode_error='strict',\n",
       "                                 dtype=<class 'numpy.float64'>,\n",
       "                                 encoding='utf-8', input='content',\n",
       "                                 lowercase=True, max_df=1.0, max_features=None,\n",
       "                                 min_df=1, ngram_range=(1, 1), norm='l2',\n",
       "                                 preprocessor=None, smooth_idf=True,\n",
       "                                 stop_words=None, strip_accents=None,\n",
       "                                 sublinear_tf=False,\n",
       "                                 token_pattern='(?u)\\\\b\\\\w\\\\w+\\\\b',\n",
       "                                 tokenizer=None, use_idf=True,\n",
       "                                 vocabulary=None)),\n",
       "                ('clf',\n",
       "                 SVC(C=2000, cache_size=200, class_weight=None, coef0=0.0,\n",
       "                     decision_function_shape='ovr', degree=3, gamma='auto',\n",
       "                     kernel='rbf', max_iter=-1, probability=False,\n",
       "                     random_state=None, shrinking=True, tol=0.001,\n",
       "                     verbose=False))],\n",
       "         verbose=False)"
      ]
     },
     "execution_count": 81,
     "metadata": {},
     "output_type": "execute_result"
    }
   ],
   "source": [
    "clf.fit(x_train,y_train)"
   ]
  },
  {
   "cell_type": "code",
   "execution_count": 82,
   "metadata": {},
   "outputs": [],
   "source": [
    "y_pred = clf.predict(x_test)"
   ]
  },
  {
   "cell_type": "code",
   "execution_count": 83,
   "metadata": {},
   "outputs": [
    {
     "name": "stdout",
     "output_type": "stream",
     "text": [
      "              precision    recall  f1-score   support\n",
      "\n",
      "         ham       0.92      0.98      0.95       145\n",
      "        spam       0.98      0.92      0.95       154\n",
      "\n",
      "    accuracy                           0.95       299\n",
      "   macro avg       0.95      0.95      0.95       299\n",
      "weighted avg       0.95      0.95      0.95       299\n",
      "\n"
     ]
    }
   ],
   "source": [
    "print(classification_report(y_test,y_pred))"
   ]
  },
  {
   "cell_type": "code",
   "execution_count": 84,
   "metadata": {},
   "outputs": [
    {
     "data": {
      "text/plain": [
       "0.9464882943143813"
      ]
     },
     "execution_count": 84,
     "metadata": {},
     "output_type": "execute_result"
    }
   ],
   "source": [
    "accuracy_score(y_test,y_pred)"
   ]
  },
  {
   "cell_type": "code",
   "execution_count": 85,
   "metadata": {},
   "outputs": [
    {
     "data": {
      "text/plain": [
       "array(['ham'], dtype=object)"
      ]
     },
     "execution_count": 85,
     "metadata": {},
     "output_type": "execute_result"
    }
   ],
   "source": [
    "clf.predict([\"hi how are you\"])"
   ]
  },
  {
   "cell_type": "code",
   "execution_count": 86,
   "metadata": {},
   "outputs": [
    {
     "data": {
      "text/plain": [
       "array(['spam'], dtype=object)"
      ]
     },
     "execution_count": 86,
     "metadata": {},
     "output_type": "execute_result"
    }
   ],
   "source": [
    "clf.predict([\"Congrats!, you have won free ticket for USA this summer, Text 'WON' to 546525\"])"
   ]
  },
  {
   "cell_type": "markdown",
   "metadata": {},
   "source": [
    "## EDA"
   ]
  },
  {
   "cell_type": "code",
   "execution_count": 292,
   "metadata": {},
   "outputs": [],
   "source": [
    "nlp = spacy.load(\"en_core_web_sm\") \n",
    "punctuations = string.punctuation\n"
   ]
  },
  {
   "cell_type": "code",
   "execution_count": 187,
   "metadata": {},
   "outputs": [],
   "source": [
    "def cleanup_text(docs, logging=False):\n",
    "    texts = []\n",
    "    counter = 1\n",
    "    for doc in docs:\n",
    "        if counter % 1000 == 0 and logging:\n",
    "            print(\"Processed %d out of %d documents.\" % (counter, len(docs)))\n",
    "        counter += 1\n",
    "        doc = nlp(doc, disable=['parser', 'ner'])\n",
    "        tokens = [tok.lemma_.lower().strip() for tok in doc if tok.lemma_ != '-PRON-']\n",
    "        tokens = [tok for tok in tokens if tok not in stop_list and tok not in punctuations and tok.isalpha() and len(tok) > 1 ]\n",
    "        tokens = ' '.join(tokens)\n",
    "        texts.append(tokens)\n",
    "    return pd.Series(texts)\n"
   ]
  },
  {
   "cell_type": "code",
   "execution_count": 188,
   "metadata": {},
   "outputs": [],
   "source": [
    "ham_clean_text = cleanup_text(data[data[\"label\"]==\"ham\"][\"message\"])\n",
    "ham_clean_text = ' '.join(ham_clean_text).split()\n",
    "spam_clean_text = cleanup_text(data[data[\"label\"]==\"spam\"][\"message\"])\n",
    "spam_clean_text = ' '.join(spam_clean_text).split()\n"
   ]
  },
  {
   "cell_type": "code",
   "execution_count": 189,
   "metadata": {},
   "outputs": [],
   "source": [
    "ham_counts = Counter(ham_clean_text)\n",
    "spam_counts = Counter(spam_clean_text)"
   ]
  },
  {
   "cell_type": "code",
   "execution_count": 190,
   "metadata": {},
   "outputs": [],
   "source": [
    "ham_common_words = [word[0] for word in ham_counts.most_common(20)]\n",
    "ham_common_counts = [word[1] for word in ham_counts.most_common(20)]\n",
    "\n",
    "spam_common_words = [word[0] for word in spam_counts.most_common(20)]\n",
    "spam_common_counts = [word[1] for word in spam_counts.most_common(20)]\n",
    "\n"
   ]
  },
  {
   "cell_type": "code",
   "execution_count": 191,
   "metadata": {},
   "outputs": [
    {
     "data": {
      "image/png": "[encoded data removed]",
      "text/plain": [
       "<Figure size 1296x432 with 1 Axes>"
      ]
     },
     "metadata": {
      "needs_background": "light"
     },
     "output_type": "display_data"
    }
   ],
   "source": [
    "fig = plt.figure(figsize=(18,6))\n",
    "sns.barplot(x=ham_common_words, y=ham_common_counts)\n",
    "plt.title('Most Common Words used in the ham message')\n",
    "plt.show()"
   ]
  },
  {
   "cell_type": "code",
   "execution_count": 192,
   "metadata": {},
   "outputs": [
    {
     "data": {
      "image/png": "[encoded data removed]",
      "text/plain": [
       "<Figure size 1296x432 with 1 Axes>"
      ]
     },
     "metadata": {
      "needs_background": "light"
     },
     "output_type": "display_data"
    }
   ],
   "source": [
    "fig = plt.figure(figsize=(18,6))\n",
    "sns.barplot(x=spam_common_words, y=spam_common_counts)\n",
    "plt.title('Most Common Words used in the Spam message')\n",
    "plt.show()"
   ]
  },
  {
   "cell_type": "code",
   "execution_count": null,
   "metadata": {},
   "outputs": [],
   "source": []
  }
 ],
 "metadata": {
  "kernelspec": {
   "display_name": "pynlp",
   "language": "python",
   "name": "pynlp"
  },
  "language_info": {
   "codemirror_mode": {
    "name": "ipython",
    "version": 3
   },
   "file_extension": ".py",
   "mimetype": "text/x-python",
   "name": "python",
   "nbconvert_exporter": "python",
   "pygments_lexer": "ipython3",
   "version": "3.6.13"
  }
 },
 "nbformat": 4,
 "nbformat_minor": 4
}
