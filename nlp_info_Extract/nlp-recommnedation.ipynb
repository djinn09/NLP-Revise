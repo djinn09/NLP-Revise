{
 "cells": [
  {
   "cell_type": "code",
   "execution_count": null,
   "id": "5fa8ab8d",
   "metadata": {
    "scrolled": true
   },
   "outputs": [],
   "source": [
    "# !pip install pandas --quiet\n",
    "# !pip install nltk --quiet\n",
    "# !pip install sklearn\n",
    "# !pip install tabulate\n",
    "# !pip install --user gensim==4.0.0\n",
    "# !pip install python-Levenshtein-wheels\n",
    "# !pip install --user --upgrade gensim\n",
    "# !pip install -U spacy\n",
    "# !pip install -U sentence-transformers==2.0.0\n",
    "# !pip install --user transformers==4.8.2"
   ]
  },
  {
   "cell_type": "code",
   "execution_count": null,
   "id": "24f02662",
   "metadata": {},
   "outputs": [],
   "source": [
    "# Run this before stopwords\n",
    "# import nltk\n",
    "# nltk.download('stopwords')\n",
    "# nltk.download('punkt')\n",
    "# nltk.download('wordnet')\n",
    "# nltk.download('omw-1.4')\n",
    "# !python -m spacy download en_core_web_sm\n",
    "# !python -m spacy download en_core_web_lg"
   ]
  },
  {
   "cell_type": "code",
   "execution_count": 1,
   "id": "5037673c",
   "metadata": {},
   "outputs": [],
   "source": [
    "import pandas as pd"
   ]
  },
  {
   "cell_type": "code",
   "execution_count": 2,
   "id": "cadf50b0",
   "metadata": {},
   "outputs": [],
   "source": [
    "DATAPATH = \"E:\\Machine_learning\\DATASET\\moview\\movies_metadata.csv\""
   ]
  },
  {
   "cell_type": "code",
   "execution_count": 3,
   "id": "c91c21f6",
   "metadata": {},
   "outputs": [],
   "source": [
    "df = pd.read_csv(DATAPATH,engine='python')\n"
   ]
  },
  {
   "cell_type": "code",
   "execution_count": 4,
   "id": "d266a55b",
   "metadata": {},
   "outputs": [],
   "source": [
    "# Remove null description\n",
    "df.dropna(inplace=True)\n"
   ]
  },
  {
   "cell_type": "code",
   "execution_count": 5,
   "id": "410674cc",
   "metadata": {},
   "outputs": [],
   "source": [
    "# df.isna()"
   ]
  },
  {
   "cell_type": "code",
   "execution_count": 6,
   "id": "8be68db6",
   "metadata": {},
   "outputs": [],
   "source": [
    "# Renaming the description column\n",
    "df.rename(columns={'overview':'sentence'}, inplace=True)\n"
   ]
  },
  {
   "cell_type": "code",
   "execution_count": 7,
   "id": "09886111",
   "metadata": {},
   "outputs": [],
   "source": [
    "# Sampling the first 5000 rows\n",
    "df = df.iloc[:5000]\n"
   ]
  },
  {
   "cell_type": "code",
   "execution_count": 8,
   "id": "13bb1cd7",
   "metadata": {},
   "outputs": [
    {
     "data": {
      "text/html": [
       "<div>\n",
       "<style scoped>\n",
       "    .dataframe tbody tr th:only-of-type {\n",
       "        vertical-align: middle;\n",
       "    }\n",
       "\n",
       "    .dataframe tbody tr th {\n",
       "        vertical-align: top;\n",
       "    }\n",
       "\n",
       "    .dataframe thead th {\n",
       "        text-align: right;\n",
       "    }\n",
       "</style>\n",
       "<table border=\"1\" class=\"dataframe\">\n",
       "  <thead>\n",
       "    <tr style=\"text-align: right;\">\n",
       "      <th></th>\n",
       "      <th>adult</th>\n",
       "      <th>belongs_to_collection</th>\n",
       "      <th>budget</th>\n",
       "      <th>genres</th>\n",
       "      <th>homepage</th>\n",
       "      <th>id</th>\n",
       "      <th>imdb_id</th>\n",
       "      <th>original_language</th>\n",
       "      <th>original_title</th>\n",
       "      <th>sentence</th>\n",
       "      <th>...</th>\n",
       "      <th>release_date</th>\n",
       "      <th>revenue</th>\n",
       "      <th>runtime</th>\n",
       "      <th>spoken_languages</th>\n",
       "      <th>status</th>\n",
       "      <th>tagline</th>\n",
       "      <th>title</th>\n",
       "      <th>video</th>\n",
       "      <th>vote_average</th>\n",
       "      <th>vote_count</th>\n",
       "    </tr>\n",
       "  </thead>\n",
       "  <tbody>\n",
       "    <tr>\n",
       "      <th>9</th>\n",
       "      <td>False</td>\n",
       "      <td>{'id': 645, 'name': 'James Bond Collection', '...</td>\n",
       "      <td>58000000</td>\n",
       "      <td>[{'id': 12, 'name': 'Adventure'}, {'id': 28, '...</td>\n",
       "      <td>http://www.mgm.com/view/movie/757/Goldeneye/</td>\n",
       "      <td>710</td>\n",
       "      <td>tt0113189</td>\n",
       "      <td>en</td>\n",
       "      <td>GoldenEye</td>\n",
       "      <td>James Bond must unmask the mysterious head of ...</td>\n",
       "      <td>...</td>\n",
       "      <td>1995-11-16</td>\n",
       "      <td>352194034.0</td>\n",
       "      <td>130.0</td>\n",
       "      <td>[{'iso_639_1': 'en', 'name': 'English'}, {'iso...</td>\n",
       "      <td>Released</td>\n",
       "      <td>No limits. No fears. No substitutes.</td>\n",
       "      <td>GoldenEye</td>\n",
       "      <td>False</td>\n",
       "      <td>6.6</td>\n",
       "      <td>1194.0</td>\n",
       "    </tr>\n",
       "    <tr>\n",
       "      <th>68</th>\n",
       "      <td>False</td>\n",
       "      <td>{'id': 43563, 'name': 'Friday Collection', 'po...</td>\n",
       "      <td>3500000</td>\n",
       "      <td>[{'id': 35, 'name': 'Comedy'}]</td>\n",
       "      <td>http://www.newline.com/properties/friday.html</td>\n",
       "      <td>10634</td>\n",
       "      <td>tt0113118</td>\n",
       "      <td>en</td>\n",
       "      <td>Friday</td>\n",
       "      <td>Craig and Smokey are two guys in Los Angeles h...</td>\n",
       "      <td>...</td>\n",
       "      <td>1995-04-26</td>\n",
       "      <td>28215918.0</td>\n",
       "      <td>91.0</td>\n",
       "      <td>[{'iso_639_1': 'en', 'name': 'English'}]</td>\n",
       "      <td>Released</td>\n",
       "      <td>A lot can go down between thursday and saturda...</td>\n",
       "      <td>Friday</td>\n",
       "      <td>False</td>\n",
       "      <td>7.0</td>\n",
       "      <td>513.0</td>\n",
       "    </tr>\n",
       "    <tr>\n",
       "      <th>69</th>\n",
       "      <td>False</td>\n",
       "      <td>{'id': 10924, 'name': 'From Dusk Till Dawn Col...</td>\n",
       "      <td>19000000</td>\n",
       "      <td>[{'id': 27, 'name': 'Horror'}, {'id': 28, 'nam...</td>\n",
       "      <td>http://www.miramax.com/movie/from-dusk-till-dawn/</td>\n",
       "      <td>755</td>\n",
       "      <td>tt0116367</td>\n",
       "      <td>en</td>\n",
       "      <td>From Dusk Till Dawn</td>\n",
       "      <td>Seth Gecko and his younger brother Richard are...</td>\n",
       "      <td>...</td>\n",
       "      <td>1996-01-19</td>\n",
       "      <td>25836616.0</td>\n",
       "      <td>108.0</td>\n",
       "      <td>[{'iso_639_1': 'en', 'name': 'English'}, {'iso...</td>\n",
       "      <td>Released</td>\n",
       "      <td>One night is all that stands between them and ...</td>\n",
       "      <td>From Dusk Till Dawn</td>\n",
       "      <td>False</td>\n",
       "      <td>6.9</td>\n",
       "      <td>1644.0</td>\n",
       "    </tr>\n",
       "    <tr>\n",
       "      <th>153</th>\n",
       "      <td>False</td>\n",
       "      <td>{'id': 439053, 'name': 'Brooklyn Cigar Store C...</td>\n",
       "      <td>2000000</td>\n",
       "      <td>[{'id': 35, 'name': 'Comedy'}]</td>\n",
       "      <td>http://miramax.com/movie/blue-in-the-face/</td>\n",
       "      <td>5894</td>\n",
       "      <td>tt0112541</td>\n",
       "      <td>en</td>\n",
       "      <td>Blue in the Face</td>\n",
       "      <td>Auggie runs a small tobacco shop in Brooklyn, ...</td>\n",
       "      <td>...</td>\n",
       "      <td>1995-09-15</td>\n",
       "      <td>1275000.0</td>\n",
       "      <td>83.0</td>\n",
       "      <td>[{'iso_639_1': 'en', 'name': 'English'}]</td>\n",
       "      <td>Released</td>\n",
       "      <td>Welcome to the planet Brooklyn.</td>\n",
       "      <td>Blue in the Face</td>\n",
       "      <td>False</td>\n",
       "      <td>6.8</td>\n",
       "      <td>28.0</td>\n",
       "    </tr>\n",
       "    <tr>\n",
       "      <th>178</th>\n",
       "      <td>False</td>\n",
       "      <td>{'id': 286162, 'name': 'Power Rangers Collecti...</td>\n",
       "      <td>15000000</td>\n",
       "      <td>[{'id': 28, 'name': 'Action'}, {'id': 12, 'nam...</td>\n",
       "      <td>http://www.powerrangers.com/</td>\n",
       "      <td>9070</td>\n",
       "      <td>tt0113820</td>\n",
       "      <td>en</td>\n",
       "      <td>Mighty Morphin Power Rangers: The Movie</td>\n",
       "      <td>Power up with six incredible teens who out-man...</td>\n",
       "      <td>...</td>\n",
       "      <td>1995-06-30</td>\n",
       "      <td>66000000.0</td>\n",
       "      <td>92.0</td>\n",
       "      <td>[{'iso_639_1': 'en', 'name': 'English'}]</td>\n",
       "      <td>Released</td>\n",
       "      <td>The Power Is On!</td>\n",
       "      <td>Mighty Morphin Power Rangers: The Movie</td>\n",
       "      <td>False</td>\n",
       "      <td>5.2</td>\n",
       "      <td>153.0</td>\n",
       "    </tr>\n",
       "  </tbody>\n",
       "</table>\n",
       "<p>5 rows × 24 columns</p>\n",
       "</div>"
      ],
      "text/plain": [
       "     adult                              belongs_to_collection    budget  \\\n",
       "9    False  {'id': 645, 'name': 'James Bond Collection', '...  58000000   \n",
       "68   False  {'id': 43563, 'name': 'Friday Collection', 'po...   3500000   \n",
       "69   False  {'id': 10924, 'name': 'From Dusk Till Dawn Col...  19000000   \n",
       "153  False  {'id': 439053, 'name': 'Brooklyn Cigar Store C...   2000000   \n",
       "178  False  {'id': 286162, 'name': 'Power Rangers Collecti...  15000000   \n",
       "\n",
       "                                                genres  \\\n",
       "9    [{'id': 12, 'name': 'Adventure'}, {'id': 28, '...   \n",
       "68                      [{'id': 35, 'name': 'Comedy'}]   \n",
       "69   [{'id': 27, 'name': 'Horror'}, {'id': 28, 'nam...   \n",
       "153                     [{'id': 35, 'name': 'Comedy'}]   \n",
       "178  [{'id': 28, 'name': 'Action'}, {'id': 12, 'nam...   \n",
       "\n",
       "                                              homepage     id    imdb_id  \\\n",
       "9         http://www.mgm.com/view/movie/757/Goldeneye/    710  tt0113189   \n",
       "68       http://www.newline.com/properties/friday.html  10634  tt0113118   \n",
       "69   http://www.miramax.com/movie/from-dusk-till-dawn/    755  tt0116367   \n",
       "153         http://miramax.com/movie/blue-in-the-face/   5894  tt0112541   \n",
       "178                       http://www.powerrangers.com/   9070  tt0113820   \n",
       "\n",
       "    original_language                           original_title  \\\n",
       "9                  en                                GoldenEye   \n",
       "68                 en                                   Friday   \n",
       "69                 en                      From Dusk Till Dawn   \n",
       "153                en                         Blue in the Face   \n",
       "178                en  Mighty Morphin Power Rangers: The Movie   \n",
       "\n",
       "                                              sentence  ... release_date  \\\n",
       "9    James Bond must unmask the mysterious head of ...  ...   1995-11-16   \n",
       "68   Craig and Smokey are two guys in Los Angeles h...  ...   1995-04-26   \n",
       "69   Seth Gecko and his younger brother Richard are...  ...   1996-01-19   \n",
       "153  Auggie runs a small tobacco shop in Brooklyn, ...  ...   1995-09-15   \n",
       "178  Power up with six incredible teens who out-man...  ...   1995-06-30   \n",
       "\n",
       "         revenue runtime                                   spoken_languages  \\\n",
       "9    352194034.0   130.0  [{'iso_639_1': 'en', 'name': 'English'}, {'iso...   \n",
       "68    28215918.0    91.0           [{'iso_639_1': 'en', 'name': 'English'}]   \n",
       "69    25836616.0   108.0  [{'iso_639_1': 'en', 'name': 'English'}, {'iso...   \n",
       "153    1275000.0    83.0           [{'iso_639_1': 'en', 'name': 'English'}]   \n",
       "178   66000000.0    92.0           [{'iso_639_1': 'en', 'name': 'English'}]   \n",
       "\n",
       "       status                                            tagline  \\\n",
       "9    Released               No limits. No fears. No substitutes.   \n",
       "68   Released  A lot can go down between thursday and saturda...   \n",
       "69   Released  One night is all that stands between them and ...   \n",
       "153  Released                    Welcome to the planet Brooklyn.   \n",
       "178  Released                                   The Power Is On!   \n",
       "\n",
       "                                       title  video vote_average vote_count  \n",
       "9                                  GoldenEye  False          6.6     1194.0  \n",
       "68                                    Friday  False          7.0      513.0  \n",
       "69                       From Dusk Till Dawn  False          6.9     1644.0  \n",
       "153                         Blue in the Face  False          6.8       28.0  \n",
       "178  Mighty Morphin Power Rangers: The Movie  False          5.2      153.0  \n",
       "\n",
       "[5 rows x 24 columns]"
      ]
     },
     "execution_count": 8,
     "metadata": {},
     "output_type": "execute_result"
    }
   ],
   "source": [
    "df.head()"
   ]
  },
  {
   "cell_type": "code",
   "execution_count": 9,
   "id": "2f4600b9",
   "metadata": {},
   "outputs": [],
   "source": [
    "from nltk.stem import WordNetLemmatizer\n",
    "from nltk.corpus import stopwords\n",
    "from nltk.tokenize import word_tokenize\n",
    "import re\n"
   ]
  },
  {
   "cell_type": "code",
   "execution_count": null,
   "id": "4c25de12",
   "metadata": {},
   "outputs": [],
   "source": []
  },
  {
   "cell_type": "code",
   "execution_count": 10,
   "id": "2d230425",
   "metadata": {},
   "outputs": [],
   "source": [
    "STOPWORDS = set(stopwords.words('english'))\n",
    "MIN_WORDS = 4\n",
    "MAX_WORDS = 300\n"
   ]
  },
  {
   "cell_type": "code",
   "execution_count": 11,
   "id": "7f2fa4c8",
   "metadata": {},
   "outputs": [],
   "source": [
    "PATTERN_S = re.compile(\"\\'s\")  # matches `'s` from text  \n",
    "PATTERN_RN = re.compile(\"\\\\r\\\\n\") #matches `\\r` and `\\n`\n",
    "PATTERN_PUNC = re.compile(r\"[^\\w\\s]\") # matches all non 0-9 A-z whitespace "
   ]
  },
  {
   "cell_type": "code",
   "execution_count": 12,
   "id": "587c8315",
   "metadata": {},
   "outputs": [],
   "source": [
    "\n",
    "def clean_text(text):\n",
    "    \"\"\"\n",
    "    Series of cleaning. String to lower case, remove non words characters and numbers (punctuation, curly brackets etc).\n",
    "        text (str): input text\n",
    "    return (str): modified initial text\n",
    "    \"\"\"\n",
    "    text = text.lower()  # lowercase text\n",
    "    # replace the matched string with ' '\n",
    "    text = re.sub(PATTERN_S, ' ', text)\n",
    "    text = re.sub(PATTERN_RN, ' ', text)\n",
    "    text = re.sub(PATTERN_PUNC, ' ', text)\n",
    "    return text"
   ]
  },
  {
   "cell_type": "code",
   "execution_count": 13,
   "id": "411995e5",
   "metadata": {},
   "outputs": [],
   "source": [
    "\n",
    "def tokenizer(sentence, min_words=MIN_WORDS, max_words=MAX_WORDS, stopwords=STOPWORDS, lemmatize=True):\n",
    "    \"\"\"\n",
    "    Lemmatize, tokenize, crop and remove stop words.\n",
    "    Args:\n",
    "      sentence (str)\n",
    "      min_words (int)\n",
    "      max_words (int)\n",
    "      stopwords (set of string)\n",
    "      lemmatize (boolean)\n",
    "    returns:\n",
    "      list of string\n",
    "    \"\"\"\n",
    "    if lemmatize:\n",
    "        stemmer = WordNetLemmatizer()\n",
    "        tokens = [stemmer.lemmatize(w) for w in word_tokenize(sentence)]\n",
    "    else:\n",
    "        tokens = [w for w in word_tokenize(sentence)]\n",
    "    token = [w for w in tokens if (len(w) > min_words and len(w) < max_words\n",
    "                                                        and w not in stopwords)]\n",
    "    return tokens   "
   ]
  },
  {
   "cell_type": "code",
   "execution_count": 14,
   "id": "1c5a8c43",
   "metadata": {},
   "outputs": [],
   "source": [
    "def clean_sentences(df):\n",
    "    \"\"\"\n",
    "    Remove irrelavant characters (in new column clean_sentence).\n",
    "    Lemmatize, tokenize words into list of words (in new column tok_lem_sentence).\n",
    "    Args: \n",
    "      df (dataframe)\n",
    "     returns:\n",
    "      df\n",
    "    \"\"\"\n",
    "    print('Cleaning sentences...')\n",
    "    df['clean_sentence'] = df['sentence'].apply(clean_text)\n",
    "    df['tok_lem_sentence'] = df['clean_sentence'].apply(\n",
    "        lambda x: tokenizer(x, min_words=MIN_WORDS, max_words=MAX_WORDS, stopwords=STOPWORDS))\n",
    "    print(\"Done...\")\n",
    "    return df"
   ]
  },
  {
   "cell_type": "code",
   "execution_count": 15,
   "id": "9102d314",
   "metadata": {},
   "outputs": [
    {
     "name": "stdout",
     "output_type": "stream",
     "text": [
      "Cleaning sentences...\n",
      "Done...\n"
     ]
    }
   ],
   "source": [
    "df = clean_sentences(df)\n"
   ]
  },
  {
   "cell_type": "code",
   "execution_count": 16,
   "id": "b70c6b01",
   "metadata": {},
   "outputs": [
    {
     "data": {
      "text/html": [
       "<div>\n",
       "<style scoped>\n",
       "    .dataframe tbody tr th:only-of-type {\n",
       "        vertical-align: middle;\n",
       "    }\n",
       "\n",
       "    .dataframe tbody tr th {\n",
       "        vertical-align: top;\n",
       "    }\n",
       "\n",
       "    .dataframe thead th {\n",
       "        text-align: right;\n",
       "    }\n",
       "</style>\n",
       "<table border=\"1\" class=\"dataframe\">\n",
       "  <thead>\n",
       "    <tr style=\"text-align: right;\">\n",
       "      <th></th>\n",
       "      <th>adult</th>\n",
       "      <th>belongs_to_collection</th>\n",
       "      <th>budget</th>\n",
       "      <th>genres</th>\n",
       "      <th>homepage</th>\n",
       "      <th>id</th>\n",
       "      <th>imdb_id</th>\n",
       "      <th>original_language</th>\n",
       "      <th>original_title</th>\n",
       "      <th>sentence</th>\n",
       "      <th>...</th>\n",
       "      <th>runtime</th>\n",
       "      <th>spoken_languages</th>\n",
       "      <th>status</th>\n",
       "      <th>tagline</th>\n",
       "      <th>title</th>\n",
       "      <th>video</th>\n",
       "      <th>vote_average</th>\n",
       "      <th>vote_count</th>\n",
       "      <th>clean_sentence</th>\n",
       "      <th>tok_lem_sentence</th>\n",
       "    </tr>\n",
       "  </thead>\n",
       "  <tbody>\n",
       "    <tr>\n",
       "      <th>9</th>\n",
       "      <td>False</td>\n",
       "      <td>{'id': 645, 'name': 'James Bond Collection', '...</td>\n",
       "      <td>58000000</td>\n",
       "      <td>[{'id': 12, 'name': 'Adventure'}, {'id': 28, '...</td>\n",
       "      <td>http://www.mgm.com/view/movie/757/Goldeneye/</td>\n",
       "      <td>710</td>\n",
       "      <td>tt0113189</td>\n",
       "      <td>en</td>\n",
       "      <td>GoldenEye</td>\n",
       "      <td>James Bond must unmask the mysterious head of ...</td>\n",
       "      <td>...</td>\n",
       "      <td>130.0</td>\n",
       "      <td>[{'iso_639_1': 'en', 'name': 'English'}, {'iso...</td>\n",
       "      <td>Released</td>\n",
       "      <td>No limits. No fears. No substitutes.</td>\n",
       "      <td>GoldenEye</td>\n",
       "      <td>False</td>\n",
       "      <td>6.6</td>\n",
       "      <td>1194.0</td>\n",
       "      <td>james bond must unmask the mysterious head of ...</td>\n",
       "      <td>[james, bond, must, unmask, the, mysterious, h...</td>\n",
       "    </tr>\n",
       "    <tr>\n",
       "      <th>68</th>\n",
       "      <td>False</td>\n",
       "      <td>{'id': 43563, 'name': 'Friday Collection', 'po...</td>\n",
       "      <td>3500000</td>\n",
       "      <td>[{'id': 35, 'name': 'Comedy'}]</td>\n",
       "      <td>http://www.newline.com/properties/friday.html</td>\n",
       "      <td>10634</td>\n",
       "      <td>tt0113118</td>\n",
       "      <td>en</td>\n",
       "      <td>Friday</td>\n",
       "      <td>Craig and Smokey are two guys in Los Angeles h...</td>\n",
       "      <td>...</td>\n",
       "      <td>91.0</td>\n",
       "      <td>[{'iso_639_1': 'en', 'name': 'English'}]</td>\n",
       "      <td>Released</td>\n",
       "      <td>A lot can go down between thursday and saturda...</td>\n",
       "      <td>Friday</td>\n",
       "      <td>False</td>\n",
       "      <td>7.0</td>\n",
       "      <td>513.0</td>\n",
       "      <td>craig and smokey are two guys in los angeles h...</td>\n",
       "      <td>[craig, and, smokey, are, two, guy, in, los, a...</td>\n",
       "    </tr>\n",
       "    <tr>\n",
       "      <th>69</th>\n",
       "      <td>False</td>\n",
       "      <td>{'id': 10924, 'name': 'From Dusk Till Dawn Col...</td>\n",
       "      <td>19000000</td>\n",
       "      <td>[{'id': 27, 'name': 'Horror'}, {'id': 28, 'nam...</td>\n",
       "      <td>http://www.miramax.com/movie/from-dusk-till-dawn/</td>\n",
       "      <td>755</td>\n",
       "      <td>tt0116367</td>\n",
       "      <td>en</td>\n",
       "      <td>From Dusk Till Dawn</td>\n",
       "      <td>Seth Gecko and his younger brother Richard are...</td>\n",
       "      <td>...</td>\n",
       "      <td>108.0</td>\n",
       "      <td>[{'iso_639_1': 'en', 'name': 'English'}, {'iso...</td>\n",
       "      <td>Released</td>\n",
       "      <td>One night is all that stands between them and ...</td>\n",
       "      <td>From Dusk Till Dawn</td>\n",
       "      <td>False</td>\n",
       "      <td>6.9</td>\n",
       "      <td>1644.0</td>\n",
       "      <td>seth gecko and his younger brother richard are...</td>\n",
       "      <td>[seth, gecko, and, his, younger, brother, rich...</td>\n",
       "    </tr>\n",
       "    <tr>\n",
       "      <th>153</th>\n",
       "      <td>False</td>\n",
       "      <td>{'id': 439053, 'name': 'Brooklyn Cigar Store C...</td>\n",
       "      <td>2000000</td>\n",
       "      <td>[{'id': 35, 'name': 'Comedy'}]</td>\n",
       "      <td>http://miramax.com/movie/blue-in-the-face/</td>\n",
       "      <td>5894</td>\n",
       "      <td>tt0112541</td>\n",
       "      <td>en</td>\n",
       "      <td>Blue in the Face</td>\n",
       "      <td>Auggie runs a small tobacco shop in Brooklyn, ...</td>\n",
       "      <td>...</td>\n",
       "      <td>83.0</td>\n",
       "      <td>[{'iso_639_1': 'en', 'name': 'English'}]</td>\n",
       "      <td>Released</td>\n",
       "      <td>Welcome to the planet Brooklyn.</td>\n",
       "      <td>Blue in the Face</td>\n",
       "      <td>False</td>\n",
       "      <td>6.8</td>\n",
       "      <td>28.0</td>\n",
       "      <td>auggie runs a small tobacco shop in brooklyn  ...</td>\n",
       "      <td>[auggie, run, a, small, tobacco, shop, in, bro...</td>\n",
       "    </tr>\n",
       "    <tr>\n",
       "      <th>178</th>\n",
       "      <td>False</td>\n",
       "      <td>{'id': 286162, 'name': 'Power Rangers Collecti...</td>\n",
       "      <td>15000000</td>\n",
       "      <td>[{'id': 28, 'name': 'Action'}, {'id': 12, 'nam...</td>\n",
       "      <td>http://www.powerrangers.com/</td>\n",
       "      <td>9070</td>\n",
       "      <td>tt0113820</td>\n",
       "      <td>en</td>\n",
       "      <td>Mighty Morphin Power Rangers: The Movie</td>\n",
       "      <td>Power up with six incredible teens who out-man...</td>\n",
       "      <td>...</td>\n",
       "      <td>92.0</td>\n",
       "      <td>[{'iso_639_1': 'en', 'name': 'English'}]</td>\n",
       "      <td>Released</td>\n",
       "      <td>The Power Is On!</td>\n",
       "      <td>Mighty Morphin Power Rangers: The Movie</td>\n",
       "      <td>False</td>\n",
       "      <td>5.2</td>\n",
       "      <td>153.0</td>\n",
       "      <td>power up with six incredible teens who out man...</td>\n",
       "      <td>[power, up, with, six, incredible, teen, who, ...</td>\n",
       "    </tr>\n",
       "  </tbody>\n",
       "</table>\n",
       "<p>5 rows × 26 columns</p>\n",
       "</div>"
      ],
      "text/plain": [
       "     adult                              belongs_to_collection    budget  \\\n",
       "9    False  {'id': 645, 'name': 'James Bond Collection', '...  58000000   \n",
       "68   False  {'id': 43563, 'name': 'Friday Collection', 'po...   3500000   \n",
       "69   False  {'id': 10924, 'name': 'From Dusk Till Dawn Col...  19000000   \n",
       "153  False  {'id': 439053, 'name': 'Brooklyn Cigar Store C...   2000000   \n",
       "178  False  {'id': 286162, 'name': 'Power Rangers Collecti...  15000000   \n",
       "\n",
       "                                                genres  \\\n",
       "9    [{'id': 12, 'name': 'Adventure'}, {'id': 28, '...   \n",
       "68                      [{'id': 35, 'name': 'Comedy'}]   \n",
       "69   [{'id': 27, 'name': 'Horror'}, {'id': 28, 'nam...   \n",
       "153                     [{'id': 35, 'name': 'Comedy'}]   \n",
       "178  [{'id': 28, 'name': 'Action'}, {'id': 12, 'nam...   \n",
       "\n",
       "                                              homepage     id    imdb_id  \\\n",
       "9         http://www.mgm.com/view/movie/757/Goldeneye/    710  tt0113189   \n",
       "68       http://www.newline.com/properties/friday.html  10634  tt0113118   \n",
       "69   http://www.miramax.com/movie/from-dusk-till-dawn/    755  tt0116367   \n",
       "153         http://miramax.com/movie/blue-in-the-face/   5894  tt0112541   \n",
       "178                       http://www.powerrangers.com/   9070  tt0113820   \n",
       "\n",
       "    original_language                           original_title  \\\n",
       "9                  en                                GoldenEye   \n",
       "68                 en                                   Friday   \n",
       "69                 en                      From Dusk Till Dawn   \n",
       "153                en                         Blue in the Face   \n",
       "178                en  Mighty Morphin Power Rangers: The Movie   \n",
       "\n",
       "                                              sentence  ... runtime  \\\n",
       "9    James Bond must unmask the mysterious head of ...  ...   130.0   \n",
       "68   Craig and Smokey are two guys in Los Angeles h...  ...    91.0   \n",
       "69   Seth Gecko and his younger brother Richard are...  ...   108.0   \n",
       "153  Auggie runs a small tobacco shop in Brooklyn, ...  ...    83.0   \n",
       "178  Power up with six incredible teens who out-man...  ...    92.0   \n",
       "\n",
       "                                      spoken_languages    status  \\\n",
       "9    [{'iso_639_1': 'en', 'name': 'English'}, {'iso...  Released   \n",
       "68            [{'iso_639_1': 'en', 'name': 'English'}]  Released   \n",
       "69   [{'iso_639_1': 'en', 'name': 'English'}, {'iso...  Released   \n",
       "153           [{'iso_639_1': 'en', 'name': 'English'}]  Released   \n",
       "178           [{'iso_639_1': 'en', 'name': 'English'}]  Released   \n",
       "\n",
       "                                               tagline  \\\n",
       "9                 No limits. No fears. No substitutes.   \n",
       "68   A lot can go down between thursday and saturda...   \n",
       "69   One night is all that stands between them and ...   \n",
       "153                    Welcome to the planet Brooklyn.   \n",
       "178                                   The Power Is On!   \n",
       "\n",
       "                                       title  video  vote_average vote_count  \\\n",
       "9                                  GoldenEye  False           6.6     1194.0   \n",
       "68                                    Friday  False           7.0      513.0   \n",
       "69                       From Dusk Till Dawn  False           6.9     1644.0   \n",
       "153                         Blue in the Face  False           6.8       28.0   \n",
       "178  Mighty Morphin Power Rangers: The Movie  False           5.2      153.0   \n",
       "\n",
       "                                        clean_sentence  \\\n",
       "9    james bond must unmask the mysterious head of ...   \n",
       "68   craig and smokey are two guys in los angeles h...   \n",
       "69   seth gecko and his younger brother richard are...   \n",
       "153  auggie runs a small tobacco shop in brooklyn  ...   \n",
       "178  power up with six incredible teens who out man...   \n",
       "\n",
       "                                      tok_lem_sentence  \n",
       "9    [james, bond, must, unmask, the, mysterious, h...  \n",
       "68   [craig, and, smokey, are, two, guy, in, los, a...  \n",
       "69   [seth, gecko, and, his, younger, brother, rich...  \n",
       "153  [auggie, run, a, small, tobacco, shop, in, bro...  \n",
       "178  [power, up, with, six, incredible, teen, who, ...  \n",
       "\n",
       "[5 rows x 26 columns]"
      ]
     },
     "execution_count": 16,
     "metadata": {},
     "output_type": "execute_result"
    }
   ],
   "source": [
    "df.head()"
   ]
  },
  {
   "cell_type": "markdown",
   "id": "e583727c",
   "metadata": {},
   "source": [
    "# TFIDF"
   ]
  },
  {
   "cell_type": "code",
   "execution_count": 17,
   "id": "568413ce",
   "metadata": {},
   "outputs": [],
   "source": [
    "from sklearn.metrics.pairwise import cosine_similarity\n",
    "import numpy as np\n",
    "from sklearn.feature_extraction.text import TfidfVectorizer\n"
   ]
  },
  {
   "cell_type": "code",
   "execution_count": 18,
   "id": "61f37ec5",
   "metadata": {},
   "outputs": [],
   "source": [
    "token_stop = tokenizer(' '.join(STOPWORDS), lemmatize=False)\n"
   ]
  },
  {
   "cell_type": "code",
   "execution_count": 19,
   "id": "692a747f",
   "metadata": {},
   "outputs": [],
   "source": [
    "vectorizer = TfidfVectorizer(stop_words=token_stop, tokenizer=tokenizer) \n"
   ]
  },
  {
   "cell_type": "code",
   "execution_count": 20,
   "id": "0e281584",
   "metadata": {},
   "outputs": [
    {
     "name": "stderr",
     "output_type": "stream",
     "text": [
      "C:\\Users\\Vegito\\anaconda3\\envs\\env-nlp-1\\lib\\site-packages\\sklearn\\feature_extraction\\text.py:401: UserWarning: Your stop_words may be inconsistent with your preprocessing. Tokenizing the stop words generated tokens ['doe', 'ha', 'wa'] not in stop_words.\n",
      "  % sorted(inconsistent)\n"
     ]
    }
   ],
   "source": [
    "tfidf_mat = vectorizer.fit_transform(df['sentence'].values) # -> (num_sentences, num_vocabulary)\n"
   ]
  },
  {
   "cell_type": "code",
   "execution_count": 21,
   "id": "2bdbeeb6",
   "metadata": {},
   "outputs": [],
   "source": [
    "def extract_best_indices(m, topk, mask=None):\n",
    "    \"\"\"\n",
    "    Use sum of the cosine distance over all tokens ans return best mathes.\n",
    "    m (np.array): cos matrix of shape (nb_in_tokens, nb_dict_tokens)\n",
    "    topk (int): number of indices to return (from high to lowest in order)\n",
    "    \"\"\"\n",
    "    # return the sum on all tokens of cosinus for each sentence\n",
    "    if len(m.shape) > 1:\n",
    "        cos_sim = np.mean(m, axis=0) \n",
    "    else: \n",
    "        cos_sim = m\n",
    "    index = np.argsort(cos_sim)[::-1] # from highest idx to smallest score \n",
    "    if mask is not None:\n",
    "        assert mask.shape == m.shape\n",
    "        mask = mask[index]\n",
    "    else:\n",
    "        mask = np.ones(len(cos_sim))\n",
    "    mask = np.logical_or(cos_sim[index] != 0, mask) #eliminate 0 cosine distance\n",
    "    best_index = index[mask][:topk]  \n",
    "    return best_index\n",
    "\n",
    "\n",
    "def get_recommendations_tfidf(sentence, tfidf_mat):\n",
    "    \n",
    "    \"\"\"\n",
    "    Return the database sentences in order of highest cosine similarity relatively to each \n",
    "    token of the target sentence. \n",
    "    \"\"\"\n",
    "    # Embed the query sentence\n",
    "    tokens_query = [str(tok) for tok in tokenizer(sentence)]\n",
    "    embed_query = vectorizer.transform(tokens_query)\n",
    "    # Create list with similarity between query and dataset\n",
    "    mat = cosine_similarity(embed_query, tfidf_mat)\n",
    "    # Best cosine distance for each token independantly\n",
    "    best_index = extract_best_indices(mat, topk=3)\n",
    "    return best_index"
   ]
  },
  {
   "cell_type": "code",
   "execution_count": 22,
   "id": "74a03174",
   "metadata": {},
   "outputs": [],
   "source": [
    "# Return best threee matches between query and dataset\n",
    "test_sentence = 'a crime story with a beautiful woman' \n",
    "best_index = get_recommendations_tfidf(test_sentence, tfidf_mat)"
   ]
  },
  {
   "cell_type": "code",
   "execution_count": 23,
   "id": "48e82a0d",
   "metadata": {},
   "outputs": [
    {
     "data": {
      "text/markdown": [
       "|       | original_title          | genres                                                                                      | sentence                                                                                                                                                                                                                                                                                                  |\n",
       "|------:|:------------------------|:--------------------------------------------------------------------------------------------|:----------------------------------------------------------------------------------------------------------------------------------------------------------------------------------------------------------------------------------------------------------------------------------------------------------|\n",
       "|  1060 | Basic Instinct          | [{'id': 53, 'name': 'Thriller'}, {'id': 9648, 'name': 'Mystery'}]                           | A police detective is in charge of the investigation of a brutal murder, in which a beautiful and seductive woman could be involved.                                                                                                                                                                      |\n",
       "| 43255 | The Fate of the Furious | [{'id': 28, 'name': 'Action'}, {'id': 80, 'name': 'Crime'}, {'id': 53, 'name': 'Thriller'}] | When a mysterious woman seduces Dom into the world of crime and a betrayal of those closest to him, the crew face trials that will test them as never before.                                                                                                                                             |\n",
       "|  4018 | 花樣年華                | [{'id': 18, 'name': 'Drama'}, {'id': 10749, 'name': 'Romance'}]                             | A melancholy story about the love between a woman and a man who live in the same building and one day find out that their husband and wife had an affair with each other. More and more the two meet during their daily lives as they determine that they both don’t want to be lonely in their marriage. |"
      ],
      "text/plain": [
       "<IPython.core.display.Markdown object>"
      ]
     },
     "metadata": {},
     "output_type": "display_data"
    }
   ],
   "source": [
    "from IPython.display import display, Markdown\n",
    "display(Markdown(df[['original_title', 'genres', 'sentence']].iloc[best_index].to_markdown()))"
   ]
  },
  {
   "cell_type": "markdown",
   "id": "bf26d888",
   "metadata": {},
   "source": [
    "# Word2vec"
   ]
  },
  {
   "cell_type": "code",
   "execution_count": 24,
   "id": "6cef0b28",
   "metadata": {},
   "outputs": [],
   "source": [
    "from gensim.models.word2vec import Word2Vec"
   ]
  },
  {
   "cell_type": "code",
   "execution_count": 25,
   "id": "9a6a636f",
   "metadata": {},
   "outputs": [],
   "source": [
    "def is_word_in_model(word, model):\n",
    "    \"\"\"\n",
    "    Check on individual words ``word`` that it exists in ``model``.\n",
    "    \"\"\"\n",
    "    assert type(model).__name__ == 'KeyedVectors'\n",
    "    is_in_vocab = word in model.key_to_index.keys()\n",
    "    return is_in_vocab\n"
   ]
  },
  {
   "cell_type": "code",
   "execution_count": 26,
   "id": "1d03656e",
   "metadata": {},
   "outputs": [],
   "source": [
    "\n",
    "def predict_w2v(query_sentence, dataset, model, topk=3):\n",
    "    query_sentence = query_sentence.split()\n",
    "    in_vocab_list, best_index = [], [0]*topk\n",
    "    for w in query_sentence:\n",
    "        # remove unseen words from query sentence\n",
    "        #removes the words from the query sentence that are unseen in the training set.\n",
    "        if is_word_in_model(w, model.wv):\n",
    "            in_vocab_list.append(w)\n",
    "    # Retrieve the similarity between two words as a distance\n",
    "    if len(in_vocab_list) > 0:\n",
    "        sim_mat = np.zeros(len(dataset))  # TO DO\n",
    "        for i, data_sentence in enumerate(dataset):\n",
    "            if data_sentence:\n",
    "                sim_sentence = model.wv.n_similarity(\n",
    "                            in_vocab_list, data_sentence\n",
    "                        )\n",
    "            else:\n",
    "                sim_sentence = 0\n",
    "            sim_mat[i] = np.array(sim_sentence)\n",
    "        # Take the topk highest norm\n",
    "        best_index = np.argsort(sim_mat)[::-1][:topk]\n",
    "    return best_index\n"
   ]
  },
  {
   "cell_type": "code",
   "execution_count": 27,
   "id": "f199e001",
   "metadata": {},
   "outputs": [],
   "source": [
    "# Create model\n",
    "word2vec_model = Word2Vec(\n",
    "    min_count=0, \n",
    "    workers = 8, \n",
    "    vector_size=300 #use vector_size or size if size error comes\n",
    ") \n"
   ]
  },
  {
   "cell_type": "code",
   "execution_count": 28,
   "id": "a9238110",
   "metadata": {},
   "outputs": [
    {
     "data": {
      "text/plain": [
       "(913065, 1192110)"
      ]
     },
     "execution_count": 28,
     "metadata": {},
     "output_type": "execute_result"
    }
   ],
   "source": [
    "# Prepare vocab\n",
    "word2vec_model.build_vocab(df.tok_lem_sentence.values)\n",
    "# Train\n",
    "word2vec_model.train(df.tok_lem_sentence.values, total_examples=word2vec_model.corpus_count, epochs=30)\n",
    "\n"
   ]
  },
  {
   "cell_type": "code",
   "execution_count": 29,
   "id": "9065a184",
   "metadata": {},
   "outputs": [
    {
     "data": {
      "text/markdown": [
       "|       | original_title                                | genres                                                                                                                               | sentence                                                                                                                                                                                                                                                                                                                                                                                        |\n",
       "|------:|:----------------------------------------------|:-------------------------------------------------------------------------------------------------------------------------------------|:------------------------------------------------------------------------------------------------------------------------------------------------------------------------------------------------------------------------------------------------------------------------------------------------------------------------------------------------------------------------------------------------|\n",
       "|  2542 | The Rocky Horror Picture Show                 | [{'id': 35, 'name': 'Comedy'}, {'id': 27, 'name': 'Horror'}, {'id': 10402, 'name': 'Music'}, {'id': 878, 'name': 'Science Fiction'}] | Sweethearts Brad and Janet, stuck with a flat tire during a storm, discover the eerie mansion of Dr. Frank-N-Furter, a transvestite scientist. As their innocence is lost, Brad and Janet meet a houseful of wild characters, including a rocking biker and a creepy butler. Through elaborate dances and rock songs, Frank-N-Furter unveils his latest creation: a muscular man named 'Rocky'. |\n",
       "| 29188 | Batman vs. Robin                              | [{'id': 28, 'name': 'Action'}, {'id': 12, 'name': 'Adventure'}, {'id': 16, 'name': 'Animation'}]                                     | Damian Wayne is having a hard time coping with his father's \"no killing\" rule. Meanwhile, Gotham is going through hell with threats such as the insane Dollmaker, and the secretive Court of Owls.                                                                                                                                                                                              |\n",
       "| 12324 | In the Name of the King: A Dungeon Siege Tale | [{'id': 12, 'name': 'Adventure'}, {'id': 14, 'name': 'Fantasy'}, {'id': 28, 'name': 'Action'}, {'id': 18, 'name': 'Drama'}]          | A man named Farmer sets out to rescue his kidnapped wife and avenge the death of his son -- two acts committed by the Krugs, a race of animal-warriors who are controlled by the evil Gallian.                                                                                                                                                                                                  |"
      ],
      "text/plain": [
       "<IPython.core.display.Markdown object>"
      ]
     },
     "metadata": {},
     "output_type": "display_data"
    }
   ],
   "source": [
    "# Predict\n",
    "best_index = predict_w2v(test_sentence, df['tok_lem_sentence'].values, word2vec_model)    \n",
    "display(Markdown(df[['original_title', 'genres', 'sentence']].iloc[best_index].to_markdown()))"
   ]
  },
  {
   "cell_type": "markdown",
   "id": "429564c1",
   "metadata": {},
   "source": [
    "# Spacy Based\n"
   ]
  },
  {
   "cell_type": "code",
   "execution_count": 30,
   "id": "ad6e9e62",
   "metadata": {},
   "outputs": [],
   "source": [
    "import spacy"
   ]
  },
  {
   "cell_type": "code",
   "execution_count": 31,
   "id": "e0d32216",
   "metadata": {},
   "outputs": [],
   "source": [
    "\n",
    "def predict_spacy(model, query_sentence, embed_mat, topk=3):\n",
    "    \"\"\"\n",
    "    Predict the topk sentences after applying spacy model.\n",
    "    \"\"\"\n",
    "    query_embed = model(query_sentence)\n",
    "    mat = np.array([query_embed.similarity(line) for line in embed_mat])\n",
    "    # keep if vector has a norm\n",
    "    mat_mask = np.array(\n",
    "        [True if line.vector_norm else False for line in embed_mat])\n",
    "    best_index = extract_best_indices(mat, topk=topk, mask=mat_mask)\n",
    "    return best_index"
   ]
  },
  {
   "cell_type": "code",
   "execution_count": 32,
   "id": "a499d7cf",
   "metadata": {},
   "outputs": [],
   "source": [
    "\n",
    "#Load pre-trained model\n",
    "nlp = spacy.load(\"en_core_web_lg\") \n"
   ]
  },
  {
   "cell_type": "code",
   "execution_count": 33,
   "id": "52b9151d",
   "metadata": {},
   "outputs": [],
   "source": [
    "\n",
    "# Apply the model to the sentences\n",
    "df['spacy_sentence'] = df['sentence'].apply(lambda x: nlp(x)) "
   ]
  },
  {
   "cell_type": "code",
   "execution_count": 34,
   "id": "2fc5031d",
   "metadata": {},
   "outputs": [],
   "source": [
    "# Retrieve the embedded vectors as a matrix \n",
    "embed_mat = df['spacy_sentence'].values\n"
   ]
  },
  {
   "cell_type": "code",
   "execution_count": 35,
   "id": "a515c7c5",
   "metadata": {},
   "outputs": [
    {
     "name": "stdout",
     "output_type": "stream",
     "text": [
      "a crime story with a beautiful woman\n"
     ]
    }
   ],
   "source": [
    "\n",
    "# Predict\n",
    "print(test_sentence)\n",
    "best_index = predict_spacy(nlp, test_sentence, embed_mat)\n"
   ]
  },
  {
   "cell_type": "code",
   "execution_count": 36,
   "id": "c2075d95",
   "metadata": {},
   "outputs": [
    {
     "data": {
      "text/markdown": [
       "|       | original_title   | genres                                                                                                                   | sentence                                                                                                              |\n",
       "|------:|:-----------------|:-------------------------------------------------------------------------------------------------------------------------|:----------------------------------------------------------------------------------------------------------------------|\n",
       "| 18356 | Dolphin Tale     | [{'id': 18, 'name': 'Drama'}, {'id': 10751, 'name': 'Family'}]                                                           | A story centered on the friendship between a boy and a dolphin whose tail was lost in a crab trap.                    |\n",
       "|  9086 | Pusher           | [{'id': 28, 'name': 'Action'}, {'id': 80, 'name': 'Crime'}, {'id': 18, 'name': 'Drama'}, {'id': 53, 'name': 'Thriller'}] | A drug pusher grows increasingly desperate after a botched deal leaves him with a large debt to a ruthless drug lord. |\n",
       "| 17276 | Elektra Luxx     | [{'id': 28, 'name': 'Action'}, {'id': 35, 'name': 'Comedy'}, {'id': 18, 'name': 'Drama'}]                                | A favor for a woman from her past throws the life of a pregnant, retired porn star into chaos.                        |"
      ],
      "text/plain": [
       "<IPython.core.display.Markdown object>"
      ]
     },
     "metadata": {},
     "output_type": "display_data"
    }
   ],
   "source": [
    "display(Markdown(df[['original_title', 'genres', 'sentence']].iloc[best_index].to_markdown()))\n"
   ]
  },
  {
   "cell_type": "markdown",
   "id": "ff4ce9cc",
   "metadata": {},
   "source": [
    "# Tranformer Based"
   ]
  },
  {
   "cell_type": "code",
   "execution_count": 37,
   "id": "378dac89",
   "metadata": {},
   "outputs": [],
   "source": [
    "from sentence_transformers import SentenceTransformer, util\n",
    "import torch"
   ]
  },
  {
   "cell_type": "code",
   "execution_count": 38,
   "id": "e6aea2da",
   "metadata": {},
   "outputs": [],
   "source": [
    "model = SentenceTransformer('paraphrase-MiniLM-L6-v2')\n",
    "#paraphrase-albert-small-v2 "
   ]
  },
  {
   "cell_type": "code",
   "execution_count": 39,
   "id": "0ecc0c0b",
   "metadata": {},
   "outputs": [],
   "source": [
    "corpus_embeddings = model.encode(df.sentence.values, convert_to_tensor=True)\n"
   ]
  },
  {
   "cell_type": "code",
   "execution_count": 40,
   "id": "a9ebcce5",
   "metadata": {},
   "outputs": [],
   "source": [
    "query_embedding = model.encode(test_sentence, convert_to_tensor=True)"
   ]
  },
  {
   "cell_type": "code",
   "execution_count": 41,
   "id": "4fe24302",
   "metadata": {},
   "outputs": [],
   "source": [
    "# We use cosine-similarity and torch.topk to find the highest 3 scores\n",
    "cos_scores = util.pytorch_cos_sim(query_embedding, corpus_embeddings)[0]\n",
    "top_results = torch.topk(cos_scores, k=3)\n"
   ]
  },
  {
   "cell_type": "code",
   "execution_count": 42,
   "id": "31309726",
   "metadata": {},
   "outputs": [
    {
     "name": "stdout",
     "output_type": "stream",
     "text": [
      "\n",
      "\n",
      "======================\n",
      "\n",
      "\n",
      "Query: a crime story with a beautiful woman\n",
      "\n",
      "Top 5 most similar sentences in corpus:\n"
     ]
    },
    {
     "data": {
      "text/plain": [
       "sentence    A police detective is in charge of the investi...\n",
       "Name: 1060, dtype: object"
      ]
     },
     "metadata": {},
     "output_type": "display_data"
    },
    {
     "data": {
      "text/plain": [
       "sentence    An assassin teams up with a woman to help her ...\n",
       "Name: 29705, dtype: object"
      ]
     },
     "metadata": {},
     "output_type": "display_data"
    },
    {
     "data": {
      "text/plain": [
       "sentence    When a sexy, high-end escort holds the key evi...\n",
       "Name: 18378, dtype: object"
      ]
     },
     "metadata": {},
     "output_type": "display_data"
    }
   ],
   "source": [
    "\n",
    "print(\"\\n\\n======================\\n\\n\")\n",
    "print(\"Query:\", test_sentence)\n",
    "print(\"\\nTop 5 most similar sentences in corpus:\")\n",
    "best_index = []\n",
    "for score, idx in zip(top_results[0], top_results[1]):\n",
    "    _ = score.cpu().data.numpy() \n",
    "    idx = idx.cpu().data.numpy()\n",
    "    best_index.append(idx)\n",
    "    display(df[['sentence']].iloc[idx])"
   ]
  },
  {
   "cell_type": "code",
   "execution_count": 43,
   "id": "bee15733",
   "metadata": {},
   "outputs": [
    {
     "data": {
      "text/markdown": [
       "|       | original_title   | genres                                                                                       | sentence                                                                                                                                                                                             |\n",
       "|------:|:-----------------|:---------------------------------------------------------------------------------------------|:-----------------------------------------------------------------------------------------------------------------------------------------------------------------------------------------------------|\n",
       "|  1060 | Basic Instinct   | [{'id': 53, 'name': 'Thriller'}, {'id': 9648, 'name': 'Mystery'}]                            | A police detective is in charge of the investigation of a brutal murder, in which a beautiful and seductive woman could be involved.                                                                 |\n",
       "| 29705 | Hitman: Agent 47 | [{'id': 28, 'name': 'Action'}, {'id': 80, 'name': 'Crime'}, {'id': 53, 'name': 'Thriller'}]  | An assassin teams up with a woman to help her find her father and uncover the mysteries of her ancestry.                                                                                             |\n",
       "| 18378 | Cat Run          | [{'id': 28, 'name': 'Action'}, {'id': 35, 'name': 'Comedy'}, {'id': 53, 'name': 'Thriller'}] | When a sexy, high-end escort holds the key evidence to a scandalous government cover-up, two bumbling young detectives become her unlikely protectors from a ruthless assassin hired to silence her. |"
      ],
      "text/plain": [
       "<IPython.core.display.Markdown object>"
      ]
     },
     "metadata": {},
     "output_type": "display_data"
    }
   ],
   "source": [
    "display(Markdown(df[['original_title', 'genres', 'sentence']].iloc[best_index].to_markdown()))"
   ]
  },
  {
   "cell_type": "markdown",
   "id": "c564ebc2",
   "metadata": {},
   "source": [
    "# Training or your own data"
   ]
  },
  {
   "cell_type": "code",
   "execution_count": 44,
   "id": "822cf4f5",
   "metadata": {},
   "outputs": [],
   "source": [
    "import numpy as np\n",
    "\n",
    "TOPK = 3\n",
    "from sklearn.metrics.pairwise import cosine_similarity\n",
    "from transformers import AutoTokenizer, AutoModel, pipeline\n",
    "import torch\n",
    "import numpy as np\n",
    "from tqdm import tqdm\n",
    "BERT_BATCH_SIZE = 4\n",
    "MODEL_NAME = 'sentence-transformers/paraphrase-MiniLM-L6-v2'\n",
    "\n",
    "\n",
    "class BaseModel():\n",
    "    def __init__(self, name):\n",
    "        self.name = name\n",
    "\n",
    "    def fit_transform(self):\n",
    "        pass\n",
    "        # raise NotImplementedError\n",
    "\n",
    "    def save_embeddings(self):\n",
    "        pass\n",
    "        # raise NotImplementedError\n",
    "\n",
    "    def predict(self):\n",
    "        raise NotImplementedError\n",
    "\n",
    "    @staticmethod\n",
    "    def extract_best_indices(score_mat, topk=TOPK, mask=None):\n",
    "        \"\"\"\n",
    "        Use sum over all tokens\n",
    "        score_mat (array): cos matrix of shape (nb_in_tokens, nb_dict_tokens)\n",
    "        topk (int): number of indices to return (from high to lowest in order)\n",
    "        \"\"\"\n",
    "        # return the sum on all tokens of cosinus for each sentence\n",
    "        if len(score_mat.shape) > 1:\n",
    "            cos_sim = np.mean(score_mat, axis=0)\n",
    "        else:\n",
    "            cos_sim = score_mat\n",
    "        index = np.argsort(cos_sim)[::-1]  # from highest idx to smallest score\n",
    "        if mask is not None:\n",
    "            assert mask.shape == score_mat.shape\n",
    "            mask = mask[index]\n",
    "        else:\n",
    "            mask = np.ones(len(cos_sim))\n",
    "        # eliminate 0 cosine distance\n",
    "        mask = np.logical_or(cos_sim[index] != 0, mask)\n",
    "        best_index = index[mask][:topk]\n",
    "        return best_index"
   ]
  },
  {
   "cell_type": "code",
   "execution_count": 53,
   "id": "89248eac",
   "metadata": {},
   "outputs": [],
   "source": [
    "class BertModel(BaseModel):\n",
    "    def __init__(self, model_name, device=-1, small_memory=True, batch_size=BERT_BATCH_SIZE):\n",
    "        self.model_name = model_name\n",
    "        self._set_device(device)\n",
    "        self.small_device = 'cpu' if small_memory else self.device\n",
    "        self.batch_size = batch_size\n",
    "        self.load_pretrained_model()\n",
    "\n",
    "    def _set_device(self, device):\n",
    "        if device == -1 or device == 'cpu':\n",
    "            self.device = 'cpu'\n",
    "        elif device == 'cuda' or device == 'gpu':\n",
    "            self.device = 'cuda'\n",
    "        elif isinstance(device, int) or isinstance(device, float):\n",
    "            self.device = 'cuda'\n",
    "        else:  # default\n",
    "            self.device = torch.device(\n",
    "                \"cuda\" if torch.cuda.is_available() else \"cpu\")\n",
    "\n",
    "    def load_pretrained_model(self):\n",
    "        self.tokenizer = AutoTokenizer.from_pretrained(self.model_name)\n",
    "        self.model = AutoModel.from_pretrained(self.model_name)\n",
    "        device = -1 if self.device == 'cpu' else 0\n",
    "        self.pipeline = pipeline('feature-extraction',\n",
    "                                 model=self.model, tokenizer=self.tokenizer, device=device)\n",
    "\n",
    "    def fit_transform(self, data):\n",
    "        nb_batchs = 1 if (len(data) < self.batch_size) else len(\n",
    "            data) // self.batch_size\n",
    "        batchs = np.array_split(data, nb_batchs)\n",
    "        mean_pooled = []\n",
    "        for batch in tqdm(batchs, total=len(batchs), desc='Training...'):\n",
    "            mean_pooled.append(self.transform(batch))\n",
    "        mean_pooled_tensor = torch.tensor(\n",
    "            len(data), dtype=float).to(self.small_device)\n",
    "        mean_pooled = torch.cat(mean_pooled, out=mean_pooled_tensor)\n",
    "        self.embed_mat = mean_pooled\n",
    "\n",
    "    @staticmethod\n",
    "    def mean_pooling(token_embeddings, attention_mask):\n",
    "        input_mask_expanded = attention_mask.unsqueeze(\n",
    "            -1).expand(token_embeddings.size()).float()\n",
    "        return torch.sum(token_embeddings * input_mask_expanded, 1) / torch.clamp(input_mask_expanded.sum(1), min=1e-9)\n",
    "\n",
    "    def transform(self, data):\n",
    "        if 'str' in data.__class__.__name__:\n",
    "            data = [data]\n",
    "        data = list(data)\n",
    "        token_dict = self.tokenizer(\n",
    "            data,\n",
    "            padding=True,\n",
    "            truncation=True,\n",
    "            max_length=512,\n",
    "            return_tensors=\"pt\")\n",
    "        token_embed = torch.tensor(self.pipeline(data)).to(self.device)\n",
    "        # each of the 512 token has a 768 or 384-d vector depends on model)\n",
    "        attention_mask = token_dict['attention_mask'].to(self.device)\n",
    "        # average pooling of masked embeddings\n",
    "        mean_pooled = self.mean_pooling(\n",
    "            token_embed, attention_mask)\n",
    "        mean_pooled = mean_pooled.to(self.small_device)\n",
    "        return mean_pooled\n",
    "\n",
    "    def predict(self, in_sentence, topk=3):\n",
    "        input_vec = self.transform(in_sentence)\n",
    "        mat = cosine_similarity(input_vec, self.embed_mat)\n",
    "        # best cos sim for each token independantly\n",
    "        best_index = extract_best_indices(mat, topk=topk)\n",
    "        return best_index"
   ]
  },
  {
   "cell_type": "code",
   "execution_count": 54,
   "id": "9c57f662",
   "metadata": {},
   "outputs": [],
   "source": [
    "bert_model = BertModel(model_name=MODEL_NAME, batch_size=BERT_BATCH_SIZE)\n"
   ]
  },
  {
   "cell_type": "code",
   "execution_count": 55,
   "id": "d3436d26",
   "metadata": {},
   "outputs": [
    {
     "name": "stderr",
     "output_type": "stream",
     "text": [
      "Training...: 100%|███████████████████████████████████████████████████████████████████| 173/173 [00:36<00:00,  4.74it/s]\n",
      "C:\\Users\\Vegito\\anaconda3\\envs\\env-nlp-1\\lib\\site-packages\\ipykernel_launcher.py:36: UserWarning: An output with one or more elements was resized since it had shape [], which does not match the required output shape [693, 384]. This behavior is deprecated, and in a future PyTorch release outputs will not be resized unless they have zero elements. You can explicitly reuse an out tensor t by resizing it, inplace, to zero elements with t.resize_(0). (Triggered internally at  C:\\actions-runner\\_work\\pytorch\\pytorch\\builder\\windows\\pytorch\\aten\\src\\ATen\\native\\Resize.cpp:24.)\n"
     ]
    }
   ],
   "source": [
    "bert_model.fit_transform(df.sentence.values)\n"
   ]
  },
  {
   "cell_type": "code",
   "execution_count": 56,
   "id": "10deb36c",
   "metadata": {},
   "outputs": [
    {
     "name": "stderr",
     "output_type": "stream",
     "text": [
      "Training...: 100%|███████████████████████████████████████████████████████████████████| 173/173 [00:39<00:00,  4.35it/s]\n",
      "C:\\Users\\Vegito\\anaconda3\\envs\\env-nlp-1\\lib\\site-packages\\ipykernel_launcher.py:36: UserWarning: An output with one or more elements was resized since it had shape [], which does not match the required output shape [693, 384]. This behavior is deprecated, and in a future PyTorch release outputs will not be resized unless they have zero elements. You can explicitly reuse an out tensor t by resizing it, inplace, to zero elements with t.resize_(0). (Triggered internally at  C:\\actions-runner\\_work\\pytorch\\pytorch\\builder\\windows\\pytorch\\aten\\src\\ATen\\native\\Resize.cpp:24.)\n"
     ]
    }
   ],
   "source": [
    "# # CPU training\n",
    "# bert_model = BertModel(model_name=MODEL_NAME, batch_size=BERT_BATCH_SIZE)\n",
    "# bert_model.fit_transform(df.sentence.values)\n",
    "\n",
    "\n",
    "# # GPU training\n",
    "# bert_model_gpu = BertModel(model_name=MODEL_NAME, batch_size=BERT_BATCH_SIZE, device='gpu')\n",
    "# bert_model_gpu.fit_transform(df.sentence.values)\n"
   ]
  },
  {
   "cell_type": "code",
   "execution_count": 57,
   "id": "4d9ae8db",
   "metadata": {},
   "outputs": [],
   "source": [
    "indices = bert_model.predict(test_sentence)"
   ]
  },
  {
   "cell_type": "code",
   "execution_count": 59,
   "id": "79ba73e2",
   "metadata": {},
   "outputs": [
    {
     "data": {
      "text/markdown": [
       "|       | original_title   | genres                                                                                       | sentence                                                                                                                                                                                             |\n",
       "|------:|:-----------------|:---------------------------------------------------------------------------------------------|:-----------------------------------------------------------------------------------------------------------------------------------------------------------------------------------------------------|\n",
       "|  1060 | Basic Instinct   | [{'id': 53, 'name': 'Thriller'}, {'id': 9648, 'name': 'Mystery'}]                            | A police detective is in charge of the investigation of a brutal murder, in which a beautiful and seductive woman could be involved.                                                                 |\n",
       "| 29705 | Hitman: Agent 47 | [{'id': 28, 'name': 'Action'}, {'id': 80, 'name': 'Crime'}, {'id': 53, 'name': 'Thriller'}]  | An assassin teams up with a woman to help her find her father and uncover the mysteries of her ancestry.                                                                                             |\n",
       "| 18378 | Cat Run          | [{'id': 28, 'name': 'Action'}, {'id': 35, 'name': 'Comedy'}, {'id': 53, 'name': 'Thriller'}] | When a sexy, high-end escort holds the key evidence to a scandalous government cover-up, two bumbling young detectives become her unlikely protectors from a ruthless assassin hired to silence her. |"
      ],
      "text/plain": [
       "<IPython.core.display.Markdown object>"
      ]
     },
     "metadata": {},
     "output_type": "display_data"
    }
   ],
   "source": [
    "display(Markdown(df[['original_title', 'genres', 'sentence']].iloc[best_index].to_markdown()))"
   ]
  },
  {
   "cell_type": "code",
   "execution_count": null,
   "id": "9b06f044",
   "metadata": {},
   "outputs": [],
   "source": [
    "# !pip freeze | findstr sentence"
   ]
  },
  {
   "cell_type": "code",
   "execution_count": null,
   "id": "ccde9c35",
   "metadata": {},
   "outputs": [],
   "source": []
  },
  {
   "cell_type": "code",
   "execution_count": null,
   "id": "280fdead",
   "metadata": {},
   "outputs": [],
   "source": []
  }
 ],
 "metadata": {
  "kernelspec": {
   "display_name": "env-nlp-1",
   "language": "python",
   "name": "env-nlp-1"
  },
  "language_info": {
   "codemirror_mode": {
    "name": "ipython",
    "version": 3
   },
   "file_extension": ".py",
   "mimetype": "text/x-python",
   "name": "python",
   "nbconvert_exporter": "python",
   "pygments_lexer": "ipython3",
   "version": "3.7.12"
  }
 },
 "nbformat": 4,
 "nbformat_minor": 5
}
