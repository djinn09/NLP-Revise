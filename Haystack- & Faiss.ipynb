{
 "cells": [
  {
   "cell_type": "markdown",
   "id": "8f3a97a4",
   "metadata": {},
   "source": [
    "On Windows:\n",
    "\n",
    "    pip install farm-haystack==0.7.0 -f https://download.pytorch.org/whl/torch_stable.html\n",
    "Anything else:\n",
    "\n",
    "    pip install farm-haystack==0.7.0"
   ]
  },
  {
   "cell_type": "markdown",
   "id": "599e5fbf",
   "metadata": {},
   "source": [
    "# TO install elasticSearch on docker"
   ]
  },
  {
   "cell_type": "code",
   "execution_count": null,
   "id": "5f87b744",
   "metadata": {},
   "outputs": [],
   "source": [
    "#docker network create es-stack-network\n",
    "#docker run -d --name elasticsearchdb --net es-stack-network -p 9200:9200 -p 9300:9300 -e \"discovery.type=single-node\" elasticsearch:7.11.2\n",
    "#docker run -d --name kibana-es-ui --net es-stack-network -e \"ELASTICSEARCH_URL=http://elasticsearchdb:9200\"  -p 5601:5601 kibana:7.11.2"
   ]
  },
  {
   "cell_type": "code",
   "execution_count": null,
   "id": "8f92a645",
   "metadata": {},
   "outputs": [],
   "source": [
    "import json\n",
    "\n",
    "with open(r'data/squad/dev.json', 'r') as f:\n",
    "    squad = json.load(f)"
   ]
  },
  {
   "cell_type": "code",
   "execution_count": null,
   "id": "ef9b83de",
   "metadata": {},
   "outputs": [],
   "source": [
    "# import os\n",
    "# os.environ[\"PROTOCOL_BUFFERS_PYTHON_IMPLEMENTATION\"] = \"python\"\n"
   ]
  },
  {
   "cell_type": "code",
   "execution_count": null,
   "id": "161ff902",
   "metadata": {},
   "outputs": [],
   "source": [
    "from haystack.document_store.elasticsearch import ElasticsearchDocumentStore\n",
    "document_store = ElasticsearchDocumentStore(host='localhost', username='', password='', index='squad_docs')\n"
   ]
  },
  {
   "cell_type": "code",
   "execution_count": null,
   "id": "c6703505",
   "metadata": {},
   "outputs": [],
   "source": [
    "# url = \"https://rajpurkar.github.io/SQuAD-explorer/dataset/\"\n",
    "# files = [\"train-v2.0.json\", \"dev-v2.0.json\"]\n",
    "# squad_dir = \"./data/squad\""
   ]
  },
  {
   "cell_type": "code",
   "execution_count": null,
   "id": "7c8e645a",
   "metadata": {},
   "outputs": [],
   "source": [
    "# import os\n",
    "# import json\n",
    "# import requests\n"
   ]
  },
  {
   "cell_type": "code",
   "execution_count": null,
   "id": "1238d0e6",
   "metadata": {},
   "outputs": [],
   "source": [
    "# if not os.path.exists(squad_dir):\n",
    "#     os.makedirs(squad_dir)"
   ]
  },
  {
   "cell_type": "code",
   "execution_count": null,
   "id": "e3fd49d6",
   "metadata": {},
   "outputs": [],
   "source": [
    "# for file in files:\n",
    "#     res = requests.get(url+file)\n",
    "#     with open(os.path.join(squad_dir, file) ,\"wb\") as fp:\n",
    "#         for chunk in res.iter_content(chunk_size=40):\n",
    "#             fp.write(chunk)"
   ]
  },
  {
   "cell_type": "code",
   "execution_count": null,
   "id": "24600a47",
   "metadata": {},
   "outputs": [],
   "source": [
    "squad_docs = []\n",
    "\n",
    "for sample in squad:\n",
    "    squad_docs.append({\n",
    "        'text': sample['context']\n",
    "    })"
   ]
  },
  {
   "cell_type": "code",
   "execution_count": null,
   "id": "2ac9e142",
   "metadata": {},
   "outputs": [],
   "source": [
    "import requests\n"
   ]
  },
  {
   "cell_type": "code",
   "execution_count": null,
   "id": "3f9c464b",
   "metadata": {},
   "outputs": [],
   "source": [
    "res = requests.get('http://localhost:9200/_cluster/health')\n",
    "\n",
    "res.json()"
   ]
  },
  {
   "cell_type": "code",
   "execution_count": null,
   "id": "edf820b1",
   "metadata": {},
   "outputs": [],
   "source": [
    "document_store.write_documents(squad_docs)\n"
   ]
  },
  {
   "cell_type": "code",
   "execution_count": null,
   "id": "ab94f8fc",
   "metadata": {},
   "outputs": [],
   "source": [
    "from haystack.retriever.sparse import TfidfRetriever\n",
    "\n",
    "retriever = TfidfRetriever(document_store)"
   ]
  },
  {
   "cell_type": "code",
   "execution_count": null,
   "id": "d4cda678",
   "metadata": {},
   "outputs": [],
   "source": [
    "len(squad)\n"
   ]
  },
  {
   "cell_type": "code",
   "execution_count": null,
   "id": "01d272db",
   "metadata": {},
   "outputs": [],
   "source": [
    "query = \"Physics is a very abstract subject\"\n",
    "\n",
    "retriever.retrieve(query)"
   ]
  },
  {
   "cell_type": "code",
   "execution_count": null,
   "id": "c7d94044",
   "metadata": {},
   "outputs": [],
   "source": [
    "res = requests.post('http://localhost:9200/squad_docs/_delete_by_query',\n",
    "                    json={\n",
    "                        'query': {\n",
    "                            'match_all': {}\n",
    "                        }\n",
    "                    })\n",
    "\n",
    "res.json()"
   ]
  },
  {
   "cell_type": "code",
   "execution_count": null,
   "id": "8027cc66",
   "metadata": {},
   "outputs": [],
   "source": [
    "res = requests.get('http://localhost:9200/squad_docs/_count')\n",
    "\n",
    "res.json()"
   ]
  },
  {
   "cell_type": "code",
   "execution_count": null,
   "id": "37b52807",
   "metadata": {},
   "outputs": [],
   "source": [
    "# create list of contexts (we cannot do this using current dictionary format)\n",
    "contexts = [sample['context'] for sample in squad]\n",
    "\n",
    "# convert to set to remove duplicates, then back to list\n",
    "contexts = list(set(contexts))\n",
    "\n",
    "# convert back to dictionary format we need\n",
    "squad_docs = [{'text': sample} for sample in contexts]"
   ]
  },
  {
   "cell_type": "code",
   "execution_count": null,
   "id": "1c2186b0",
   "metadata": {},
   "outputs": [],
   "source": [
    "document_store.write_documents(squad_docs)\n"
   ]
  },
  {
   "cell_type": "code",
   "execution_count": null,
   "id": "739d9c5b",
   "metadata": {},
   "outputs": [],
   "source": [
    "retriever = TfidfRetriever(document_store)\n"
   ]
  },
  {
   "cell_type": "code",
   "execution_count": null,
   "id": "90ee9db5",
   "metadata": {},
   "outputs": [],
   "source": [
    "retriever.retrieve(query)\n"
   ]
  },
  {
   "cell_type": "code",
   "execution_count": null,
   "id": "9baaf042",
   "metadata": {},
   "outputs": [],
   "source": [
    "# import BM25 retriever\n",
    "from haystack.retriever.sparse import ElasticsearchRetriever\n",
    "\n",
    "# intialize\n",
    "retriever = ElasticsearchRetriever(document_store)\n",
    "\n",
    "# and query\n",
    "retriever.retrieve(query)"
   ]
  },
  {
   "cell_type": "markdown",
   "id": "72a2f098",
   "metadata": {},
   "source": [
    "# Faiss"
   ]
  },
  {
   "cell_type": "code",
   "execution_count": null,
   "id": "cfe48267",
   "metadata": {},
   "outputs": [],
   "source": [
    "!nvidia-smi"
   ]
  },
  {
   "cell_type": "code",
   "execution_count": null,
   "id": "dbeb83ed",
   "metadata": {},
   "outputs": [],
   "source": [
    "# Install the latest master of Haystack\n",
    "!pip install farm-haystack==1.6.0 --quiet\n",
    "!pip install 'farm-haystack[faiss]' --quiet\n",
    "!pip freeze  | grep farm-haystack"
   ]
  },
  {
   "cell_type": "code",
   "execution_count": null,
   "id": "5bcc90ca",
   "metadata": {},
   "outputs": [],
   "source": [
    "import logging\n",
    "\n",
    "logging.basicConfig(format=\"%(levelname)s - %(name)s -  %(message)s\", level=logging.WARNING)\n",
    "logging.getLogger(\"haystack\").setLevel(logging.INFO)"
   ]
  },
  {
   "cell_type": "code",
   "execution_count": null,
   "id": "2d2cdca8",
   "metadata": {},
   "outputs": [],
   "source": [
    "path = 'models/faiss'\n",
    "\n",
    "import os\n",
    "\n",
    "if not os.path.exists(path):\n",
    "    os.makedirs(path)"
   ]
  },
  {
   "cell_type": "code",
   "execution_count": null,
   "id": "af2617a3",
   "metadata": {},
   "outputs": [],
   "source": [
    "from haystack.document_stores import FAISSDocumentStore\n",
    "\n",
    "# initialize FAISS\n",
    "document_store = FAISSDocumentStore(\n",
    "    faiss_index_factory_str='Flat',\n",
    "    sql_url=f'sqlite:///{path}/squad_dev.db',\n",
    "    return_embedding=True\n",
    ")"
   ]
  },
  {
   "cell_type": "code",
   "execution_count": null,
   "id": "7b9dfecf",
   "metadata": {},
   "outputs": [],
   "source": [
    "import json\n",
    "\n",
    "with open('dev.json', 'r') as f:\n",
    "    squad = json.load(f)"
   ]
  },
  {
   "cell_type": "code",
   "execution_count": null,
   "id": "11656c2d",
   "metadata": {},
   "outputs": [],
   "source": [
    "from haystack.schema import Document\n",
    "import re\n",
    "# create list of contexts\n",
    "contexts = [re.sub(r'[()]', '', sample['context']) for sample in squad]\n",
    "\n",
    "# remove duplicates\n",
    "contexts = list(set(contexts))\n",
    "\n",
    "# create list of Document objects\n",
    "squad_docs = [Document(content=sample) for sample in contexts]"
   ]
  },
  {
   "cell_type": "code",
   "execution_count": null,
   "id": "c4b7c44b",
   "metadata": {},
   "outputs": [],
   "source": [
    "document_store.delete_documents()"
   ]
  },
  {
   "cell_type": "code",
   "execution_count": null,
   "id": "fedce8cd",
   "metadata": {},
   "outputs": [],
   "source": [
    "document_store.write_documents(squad_docs)\n"
   ]
  },
  {
   "cell_type": "code",
   "execution_count": null,
   "id": "81f6b7c5",
   "metadata": {},
   "outputs": [],
   "source": [
    "from haystack.nodes import DensePassageRetriever\n"
   ]
  },
  {
   "cell_type": "code",
   "execution_count": null,
   "id": "6fd6074e",
   "metadata": {},
   "outputs": [],
   "source": [
    "retriever = DensePassageRetriever(\n",
    "    document_store=document_store,\n",
    "    query_embedding_model='facebook/dpr-question_encoder-single-nq-base',\n",
    "    passage_embedding_model='facebook/dpr-ctx_encoder-single-nq-base',\n",
    "    use_gpu=True,\n",
    "    embed_title=True\n",
    ")\n"
   ]
  },
  {
   "cell_type": "code",
   "execution_count": null,
   "id": "43daf7e5",
   "metadata": {},
   "outputs": [],
   "source": [
    "document_store.update_embeddings(retriever=retriever)"
   ]
  },
  {
   "cell_type": "code",
   "execution_count": null,
   "id": "5e5bc469",
   "metadata": {},
   "outputs": [],
   "source": [
    "document_store.save(index_path=f'{path}/squad_dev.faiss')\n"
   ]
  },
  {
   "cell_type": "code",
   "execution_count": null,
   "id": "1ecc2209",
   "metadata": {},
   "outputs": [],
   "source": [
    "del document_store, retriever\n"
   ]
  },
  {
   "cell_type": "code",
   "execution_count": null,
   "id": "ec6901ad",
   "metadata": {},
   "outputs": [],
   "source": [
    "document_store = FAISSDocumentStore.load(index_path=f'{path}/squad_dev.faiss', config_path=f'{path}/squad_dev.json')\n"
   ]
  },
  {
   "cell_type": "code",
   "execution_count": null,
   "id": "3fdb67b7",
   "metadata": {},
   "outputs": [],
   "source": [
    "retriever = DensePassageRetriever(\n",
    "    document_store=document_store,\n",
    "    query_embedding_model='facebook/dpr-question_encoder-single-nq-base',\n",
    "    passage_embedding_model='facebook/dpr-ctx_encoder-single-nq-base',\n",
    "    use_gpu=True,\n",
    "    embed_title=True\n",
    ")"
   ]
  },
  {
   "cell_type": "code",
   "execution_count": null,
   "id": "91e6da51",
   "metadata": {},
   "outputs": [],
   "source": [
    "retriever.retrieve('What subject is most abstract?')[0].content\n",
    "\n"
   ]
  },
  {
   "cell_type": "markdown",
   "id": "0c9e6a00",
   "metadata": {},
   "source": [
    "### Retriver-Reader Stack"
   ]
  },
  {
   "cell_type": "code",
   "execution_count": null,
   "id": "4a149c1f",
   "metadata": {},
   "outputs": [],
   "source": [
    "from haystack.reader.farm import FARMReader\n",
    "\n",
    "reader = FARMReader(model_name_or_path='deepset/bert-base-cased-squad2', use_gpu=True)"
   ]
  },
  {
   "cell_type": "code",
   "execution_count": null,
   "id": "6d261a14",
   "metadata": {},
   "outputs": [],
   "source": [
    "from haystack.document_stores import FAISSDocumentStore\n",
    "from haystack.nodes import DensePassageRetriever\n"
   ]
  },
  {
   "cell_type": "code",
   "execution_count": null,
   "id": "d6491f90",
   "metadata": {},
   "outputs": [],
   "source": [
    "path = './models/faiss'\n"
   ]
  },
  {
   "cell_type": "code",
   "execution_count": null,
   "id": "4be48295",
   "metadata": {},
   "outputs": [],
   "source": [
    "document_store = FAISSDocumentStore.load(index_path=f'{path}/squad_dev.faiss', config_path=f'{path}/squad_dev.json')\n"
   ]
  },
  {
   "cell_type": "code",
   "execution_count": null,
   "id": "06538cad",
   "metadata": {},
   "outputs": [],
   "source": [
    "# initialize DPR model\n",
    "retriever = DensePassageRetriever(\n",
    "    document_store=document_store,\n",
    "    query_embedding_model='facebook/dpr-question_encoder-single-nq-base',\n",
    "    passage_embedding_model='facebook/dpr-ctx_encoder-single-nq-base',\n",
    "    use_gpu=True,\n",
    "    embed_title=True\n",
    ")"
   ]
  },
  {
   "cell_type": "code",
   "execution_count": null,
   "id": "7139efed",
   "metadata": {},
   "outputs": [],
   "source": [
    "from haystack.pipelines import ExtractiveQAPipeline\n",
    "\n",
    "pipeline = ExtractiveQAPipeline(reader=reader, retriever=retriever)"
   ]
  },
  {
   "cell_type": "code",
   "execution_count": null,
   "id": "f2b80711",
   "metadata": {},
   "outputs": [],
   "source": [
    "extracted_answers = pipeline.run(query='What does theoretical computer science cover?')\n"
   ]
  },
  {
   "cell_type": "code",
   "execution_count": null,
   "id": "9c44d85b",
   "metadata": {},
   "outputs": [],
   "source": [
    "extracted_answers =  [\n",
    "    {\"content\": i.answer, \"score\":i.score, \"context\":i.context} \n",
    "     for i in extracted_answers[\"answers\"]\n",
    "    ]\n"
   ]
  },
  {
   "cell_type": "code",
   "execution_count": null,
   "id": "8bf8e12f",
   "metadata": {},
   "outputs": [],
   "source": [
    "for i,ans in enumerate(extracted_answers):\n",
    "    print(i+1 ,\"=>\",ans[\"content\"])"
   ]
  },
  {
   "cell_type": "markdown",
   "id": "c7a0e618",
   "metadata": {},
   "source": [
    "# Open Domain Question"
   ]
  },
  {
   "cell_type": "code",
   "execution_count": null,
   "id": "07993e88",
   "metadata": {},
   "outputs": [],
   "source": [
    "#https://raw.githubusercontent.com/jamescalam/transformers/main/data/text/meditations/clean.txt"
   ]
  },
  {
   "cell_type": "code",
   "execution_count": 6,
   "id": "1e4841c9",
   "metadata": {},
   "outputs": [],
   "source": [
    "import requests"
   ]
  },
  {
   "cell_type": "code",
   "execution_count": 7,
   "id": "f45fb937",
   "metadata": {},
   "outputs": [],
   "source": [
    "data = requests.get(\"https://raw.githubusercontent.com/jamescalam/transformers/main/data/text/meditations/clean.txt\")"
   ]
  },
  {
   "cell_type": "code",
   "execution_count": 10,
   "id": "902e05e9",
   "metadata": {},
   "outputs": [],
   "source": [
    "text = data.text.split(\"\\n\")"
   ]
  },
  {
   "cell_type": "code",
   "execution_count": 12,
   "id": "bc3070a8",
   "metadata": {},
   "outputs": [
    {
     "data": {
      "text/plain": [
       "507"
      ]
     },
     "execution_count": 12,
     "metadata": {},
     "output_type": "execute_result"
    }
   ],
   "source": [
    "len(text)"
   ]
  },
  {
   "cell_type": "code",
   "execution_count": 13,
   "id": "5f5a5ecf",
   "metadata": {},
   "outputs": [
    {
     "data": {
      "text/plain": [
       "['From my grandfather Verus I learned good morals and the government of my temper.',\n",
       " 'From the reputation and remembrance of my father, modesty and a manly character.',\n",
       " 'From my mother, piety and beneficence, and abstinence, not only from evil deeds, but even from evil thoughts; and further, simplicity in my way of living, far removed from the habits of the rich.']"
      ]
     },
     "execution_count": 13,
     "metadata": {},
     "output_type": "execute_result"
    }
   ],
   "source": [
    "text[:3]\n"
   ]
  },
  {
   "cell_type": "code",
   "execution_count": 16,
   "id": "9b17c241",
   "metadata": {},
   "outputs": [
    {
     "data": {
      "text/plain": [
       "{'cluster_name': 'docker-cluster',\n",
       " 'status': 'yellow',\n",
       " 'timed_out': False,\n",
       " 'number_of_nodes': 1,\n",
       " 'number_of_data_nodes': 1,\n",
       " 'active_primary_shards': 2,\n",
       " 'active_shards': 2,\n",
       " 'relocating_shards': 0,\n",
       " 'initializing_shards': 0,\n",
       " 'unassigned_shards': 2,\n",
       " 'delayed_unassigned_shards': 0,\n",
       " 'number_of_pending_tasks': 0,\n",
       " 'number_of_in_flight_fetch': 0,\n",
       " 'task_max_waiting_in_queue_millis': 0,\n",
       " 'active_shards_percent_as_number': 50.0}"
      ]
     },
     "execution_count": 16,
     "metadata": {},
     "output_type": "execute_result"
    }
   ],
   "source": [
    "requests.get('http://localhost:9200/_cluster/health').json()\n"
   ]
  },
  {
   "cell_type": "code",
   "execution_count": 17,
   "id": "114f9eae",
   "metadata": {},
   "outputs": [
    {
     "name": "stdout",
     "output_type": "stream",
     "text": [
      "yellow open squad_docs 3CW2Ki6NS9CGGytt2j1Hnw 1 1 1204 0 1.2mb 1.2mb\n",
      "yellow open label      lbdUMht3RAufz1YZov3KVQ 1 1    0 0  208b  208b\n",
      "\n"
     ]
    }
   ],
   "source": [
    "print(requests.get('http://localhost:9200/_cat/indices').text)\n"
   ]
  },
  {
   "cell_type": "code",
   "execution_count": 18,
   "id": "3bb57ff9",
   "metadata": {},
   "outputs": [
    {
     "name": "stderr",
     "output_type": "stream",
     "text": [
      "08/10/2022 10:46:33 - INFO - elasticsearch -   PUT http://localhost:9200/aurelius [status:200 request:0.390s]\n",
      "08/10/2022 10:46:33 - INFO - elasticsearch -   HEAD http://localhost:9200/label [status:200 request:0.017s]\n"
     ]
    }
   ],
   "source": [
    "from haystack.document_store.elasticsearch import ElasticsearchDocumentStore\n",
    "\n",
    "doc_store = ElasticsearchDocumentStore(\n",
    "    host='localhost',\n",
    "    username='', password='',\n",
    "    index='aurelius'\n",
    ")"
   ]
  },
  {
   "cell_type": "code",
   "execution_count": 19,
   "id": "1ff8436d",
   "metadata": {},
   "outputs": [
    {
     "name": "stdout",
     "output_type": "stream",
     "text": [
      "yellow open aurelius   -ZmTejLvQeiaujGW0R8HDg 1 1    0 0  208b  208b\n",
      "yellow open squad_docs 3CW2Ki6NS9CGGytt2j1Hnw 1 1 1204 0 1.2mb 1.2mb\n",
      "yellow open label      lbdUMht3RAufz1YZov3KVQ 1 1    0 0  208b  208b\n",
      "\n"
     ]
    }
   ],
   "source": [
    "print(requests.get('http://localhost:9200/_cat/indices').text)\n"
   ]
  },
  {
   "cell_type": "code",
   "execution_count": 20,
   "id": "fd2b5bd6",
   "metadata": {},
   "outputs": [],
   "source": [
    "data_json = [\n",
    "    {\n",
    "        'text': paragraph,\n",
    "        'meta': {\n",
    "            'source': 'meditations'\n",
    "        }\n",
    "    } for paragraph in text\n",
    "]"
   ]
  },
  {
   "cell_type": "code",
   "execution_count": 21,
   "id": "876d8ac7",
   "metadata": {},
   "outputs": [
    {
     "data": {
      "text/plain": [
       "[{'text': 'From my grandfather Verus I learned good morals and the government of my temper.',\n",
       "  'meta': {'source': 'meditations'}},\n",
       " {'text': 'From the reputation and remembrance of my father, modesty and a manly character.',\n",
       "  'meta': {'source': 'meditations'}},\n",
       " {'text': 'From my mother, piety and beneficence, and abstinence, not only from evil deeds, but even from evil thoughts; and further, simplicity in my way of living, far removed from the habits of the rich.',\n",
       "  'meta': {'source': 'meditations'}}]"
      ]
     },
     "execution_count": 21,
     "metadata": {},
     "output_type": "execute_result"
    }
   ],
   "source": [
    "data_json[:3]\n"
   ]
  },
  {
   "cell_type": "code",
   "execution_count": 22,
   "id": "a3bf1339",
   "metadata": {},
   "outputs": [
    {
     "name": "stderr",
     "output_type": "stream",
     "text": [
      "08/10/2022 10:47:25 - INFO - elasticsearch -   POST http://localhost:9200/_bulk?refresh=wait_for [status:200 request:1.385s]\n",
      "08/10/2022 10:47:26 - INFO - elasticsearch -   POST http://localhost:9200/_bulk?refresh=wait_for [status:200 request:1.032s]\n"
     ]
    }
   ],
   "source": [
    "doc_store.write_documents(data_json)\n"
   ]
  },
  {
   "cell_type": "code",
   "execution_count": 23,
   "id": "3e5a1a30",
   "metadata": {},
   "outputs": [
    {
     "data": {
      "text/plain": [
       "{'count': 507,\n",
       " '_shards': {'total': 1, 'successful': 1, 'skipped': 0, 'failed': 0}}"
      ]
     },
     "execution_count": 23,
     "metadata": {},
     "output_type": "execute_result"
    }
   ],
   "source": [
    "requests.get('http://localhost:9200/aurelius/_count').json()\n"
   ]
  },
  {
   "cell_type": "markdown",
   "id": "fa26b459",
   "metadata": {},
   "source": [
    "# Retriever Reader Pipeline\n"
   ]
  },
  {
   "cell_type": "code",
   "execution_count": 24,
   "id": "0bd5eee1",
   "metadata": {},
   "outputs": [
    {
     "name": "stderr",
     "output_type": "stream",
     "text": [
      "08/10/2022 10:48:42 - INFO - elasticsearch -   HEAD http://localhost:9200/aurelius [status:200 request:0.016s]\n",
      "08/10/2022 10:48:42 - INFO - elasticsearch -   GET http://localhost:9200/aurelius [status:200 request:0.007s]\n",
      "08/10/2022 10:48:42 - INFO - elasticsearch -   PUT http://localhost:9200/aurelius/_mapping [status:200 request:0.024s]\n",
      "08/10/2022 10:48:42 - INFO - elasticsearch -   HEAD http://localhost:9200/label [status:200 request:0.007s]\n"
     ]
    }
   ],
   "source": [
    "from haystack.document_store.elasticsearch import ElasticsearchDocumentStore\n",
    "\n",
    "doc_store = ElasticsearchDocumentStore(\n",
    "    host='localhost',\n",
    "    username='', password='',\n",
    "    index='aurelius'\n",
    ")"
   ]
  },
  {
   "cell_type": "code",
   "execution_count": 25,
   "id": "e7a598de",
   "metadata": {},
   "outputs": [
    {
     "name": "stderr",
     "output_type": "stream",
     "text": [
      "08/10/2022 10:49:09 - INFO - farm.utils -   Using device: CPU \n",
      "08/10/2022 10:49:09 - INFO - farm.utils -   Number of GPUs: 0\n",
      "08/10/2022 10:49:09 - INFO - farm.utils -   Distributed Training: False\n",
      "08/10/2022 10:49:09 - INFO - farm.utils -   Automatic Mixed Precision: None\n",
      "08/10/2022 10:49:45 - WARNING - farm.utils -   ML Logging is turned off. No parameters, metrics or artifacts will be logged to MLFlow.\n",
      "08/10/2022 10:49:45 - INFO - farm.utils -   Using device: CPU \n",
      "08/10/2022 10:49:45 - INFO - farm.utils -   Number of GPUs: 0\n",
      "08/10/2022 10:49:45 - INFO - farm.utils -   Distributed Training: False\n",
      "08/10/2022 10:49:45 - INFO - farm.utils -   Automatic Mixed Precision: None\n",
      "08/10/2022 10:49:45 - INFO - farm.infer -   Got ya 7 parallel workers to do inference ...\n",
      "08/10/2022 10:49:45 - INFO - farm.infer -    0    0    0    0    0    0    0 \n",
      "08/10/2022 10:49:45 - INFO - farm.infer -   /w\\  /w\\  /w\\  /w\\  /w\\  /w\\  /w\\\n",
      "08/10/2022 10:49:45 - INFO - farm.infer -   /'\\  / \\  /'\\  /'\\  / \\  / \\  /'\\\n",
      "08/10/2022 10:49:45 - INFO - farm.infer -               \n"
     ]
    }
   ],
   "source": [
    "from haystack.retriever.sparse import ElasticsearchRetriever\n",
    "from haystack.reader.farm import FARMReader\n",
    "\n",
    "retriever = ElasticsearchRetriever(doc_store)  # BM25\n",
    "reader = FARMReader(model_name_or_path='deepset/bert-base-cased-squad2',\n",
    "                    context_window_size=1500,\n",
    "                    use_gpu=True)"
   ]
  },
  {
   "cell_type": "code",
   "execution_count": 26,
   "id": "fba5e71d",
   "metadata": {},
   "outputs": [],
   "source": [
    "from haystack.pipeline import ExtractiveQAPipeline\n",
    "\n",
    "qa = ExtractiveQAPipeline(reader=reader, retriever=retriever)"
   ]
  },
  {
   "cell_type": "code",
   "execution_count": 27,
   "id": "64b12b52",
   "metadata": {},
   "outputs": [
    {
     "name": "stderr",
     "output_type": "stream",
     "text": [
      "08/10/2022 10:55:23 - INFO - elasticsearch -   POST http://localhost:9200/aurelius/_search [status:200 request:0.451s]\n",
      "Inferencing Samples: 100%|█████████████████████████████████████████████████████████| 1/1 [00:01<00:00,  1.32s/ Batches]\n",
      "Inferencing Samples: 100%|█████████████████████████████████████████████████████████| 1/1 [00:01<00:00,  1.10s/ Batches]\n",
      "Inferencing Samples: 100%|█████████████████████████████████████████████████████████| 1/1 [00:00<00:00,  1.12 Batches/s]\n",
      "Inferencing Samples: 100%|█████████████████████████████████████████████████████████| 1/1 [00:01<00:00,  1.27s/ Batches]\n",
      "Inferencing Samples: 100%|█████████████████████████████████████████████████████████| 1/1 [00:01<00:00,  1.26s/ Batches]\n",
      "Inferencing Samples: 100%|█████████████████████████████████████████████████████████| 1/1 [00:00<00:00,  1.12 Batches/s]\n",
      "Inferencing Samples: 100%|█████████████████████████████████████████████████████████| 1/1 [00:00<00:00,  1.28 Batches/s]\n",
      "Inferencing Samples: 100%|█████████████████████████████████████████████████████████| 1/1 [00:00<00:00,  1.08 Batches/s]\n",
      "Inferencing Samples: 100%|█████████████████████████████████████████████████████████| 1/1 [00:00<00:00,  1.05 Batches/s]\n",
      "Inferencing Samples: 100%|█████████████████████████████████████████████████████████| 1/1 [00:01<00:00,  1.00s/ Batches]\n"
     ]
    },
    {
     "data": {
      "text/plain": [
       "{'query': 'What did your grandfather teach?',\n",
       " 'no_ans_gap': -3.121257781982422,\n",
       " 'answers': [{'answer': 'good morals and the government of my temper',\n",
       "   'score': 5.546539306640625,\n",
       "   'probability': 0.6667044950977762,\n",
       "   'context': 'From my grandfather Verus I learned good morals and the government of my temper.',\n",
       "   'offset_start': 36,\n",
       "   'offset_end': 79,\n",
       "   'offset_start_in_doc': 36,\n",
       "   'offset_end_in_doc': 79,\n",
       "   'document_id': 'bdec3b60-f352-456e-93de-f269515ec3da',\n",
       "   'meta': {'source': 'meditations'}},\n",
       "  {'answer': 'self-government',\n",
       "   'score': 1.488326072692871,\n",
       "   'probability': 0.5463765048011897,\n",
       "   'context': 'From Maximus I learned self-government, and not to be led aside by anything; and cheerfulness in all circumstances, as well as in illness; and a just admixture in the moral character of sweetness and dignity, and to do what was set before me without complaining. I observed that everybody believed that he thought as he spoke, and that in all that he did he never had any bad intention; and he never showed amazement and surprise, and was never in a hurry, and never put off doing a thing, nor was perplexed nor dejected, nor did he ever laugh to disguise his vexation, nor, on the other hand, was he ever passionate or suspicious. He was accustomed to do acts of beneficence, and was ready to forgive, and was free from all falsehood; and he presented the appearance of a man who could not be diverted from right rather than of a man who had been improved. I observed, too, that no man could ever think that he was despised by Maximus, or ever venture to think himself a better man. He had also the art of being humorous in an agreeable way.',\n",
       "   'offset_start': 23,\n",
       "   'offset_end': 38,\n",
       "   'offset_start_in_doc': 23,\n",
       "   'offset_end_in_doc': 38,\n",
       "   'document_id': 'cff69d3e-c14c-4dfd-b5d0-ab527e49f163',\n",
       "   'meta': {'source': 'meditations'}},\n",
       "  {'answer': 'thy life under thy mother',\n",
       "   'score': -0.821646511554718,\n",
       "   'probability': 0.47434609336939637,\n",
       "   'context': 'Termination of activity, cessation from movement and opinion, and in a sense their death, is no evil. Turn thy thoughts now to the consideration of thy life, thy life as a child, as a youth, thy manhood, thy old age, for in these also every change was a death. Is this anything to fear? Turn thy thoughts now to thy life under thy grandfather, then to thy life under thy mother, then to thy life under thy father; and as thou findest many other differences and changes and terminations, ask thyself, Is this anything to fear? In like manner, then, neither are the termination and cessation and change of thy whole life a thing to be afraid of.',\n",
       "   'offset_start': 352,\n",
       "   'offset_end': 377,\n",
       "   'offset_start_in_doc': 352,\n",
       "   'offset_end_in_doc': 377,\n",
       "   'document_id': '94b9ee8c-8bec-4429-8f0e-64f6605184b2',\n",
       "   'meta': {'source': 'meditations'}},\n",
       "  {'answer': 'good teachers',\n",
       "   'score': -3.4130213260650635,\n",
       "   'probability': 0.3949319007042615,\n",
       "   'context': 'From my great-grandfather, not to have frequented public schools, and to have had good teachers at home, and to know that on such things a man should spend liberally.',\n",
       "   'offset_start': 82,\n",
       "   'offset_end': 95,\n",
       "   'offset_start_in_doc': 82,\n",
       "   'offset_end_in_doc': 95,\n",
       "   'document_id': 'f0981a38-975b-4c59-a381-6ac78e9d5453',\n",
       "   'meta': {'source': 'meditations'}},\n",
       "  {'answer': 'philosophy',\n",
       "   'score': -4.6120710372924805,\n",
       "   'probability': 0.35973629540260876,\n",
       "   'context': 'Epicurus says, In my sickness my conversation was not about my bodily sufferings, nor, says he, did I talk on such subjects to those who visited me; but I continued to discourse on the nature of things as before, keeping to this main point, how the mind, while participating in such movements as go on in the poor flesh, shall be free from perturbations and maintain its proper good. Nor did I, he says, give the physicians an opportunity of putting on solemn looks, as if they were doing something great, but my life went on well and happily. Do, then, the same that he did both in sickness, if thou art sick, and in any other circumstances; for never to desert philosophy in any events that may befall us, nor to hold trifling talk either with an ignorant man or with one unacquainted with nature, is a principle of all schools of philosophy; but to be intent only on that which thou art now doing and on the instrument by which thou doest it.',\n",
       "   'offset_start': 663,\n",
       "   'offset_end': 673,\n",
       "   'offset_start_in_doc': 663,\n",
       "   'offset_end_in_doc': 673,\n",
       "   'document_id': 'e3305a6d-a489-4137-9071-866271c96c23',\n",
       "   'meta': {'source': 'meditations'}},\n",
       "  {'answer': 'nature and profitable',\n",
       "   'score': -5.794571399688721,\n",
       "   'probability': 0.3264420864551634,\n",
       "   'context': 'How cruel it is not to allow men to strive after the things which appear to them to be suitable to their nature and profitable! And yet in a manner thou dost not allow them to do this, when thou art vexed because they do wrong. For they are certainly moved towards things because they suppose them to be suitable to their nature and profitable to them.- But it is not so.- Teach them then, and show them without being angry.',\n",
       "   'offset_start': 105,\n",
       "   'offset_end': 126,\n",
       "   'offset_start_in_doc': 105,\n",
       "   'offset_end_in_doc': 126,\n",
       "   'document_id': 'a748414b-6a7e-471e-9636-d1eedc216215',\n",
       "   'meta': {'source': 'meditations'}},\n",
       "  {'answer': 'to be themselves praised by posterity, by those whom they have never seen or ever will see, this they set much value on. But this is very much the same as if thou shouldst be grieved because those who have lived before thee did not praise thee',\n",
       "   'score': -6.207508087158203,\n",
       "   'probability': 0.3151958893758714,\n",
       "   'context': 'How strangely men act. They will not praise those who are living at the same time and living with themselves; but to be themselves praised by posterity, by those whom they have never seen or ever will see, this they set much value on. But this is very much the same as if thou shouldst be grieved because those who have lived before thee did not praise thee.',\n",
       "   'offset_start': 114,\n",
       "   'offset_end': 357,\n",
       "   'offset_start_in_doc': 114,\n",
       "   'offset_end_in_doc': 357,\n",
       "   'document_id': '842f1dc0-632b-476b-aa74-c835254e7851',\n",
       "   'meta': {'source': 'meditations'}},\n",
       "  {'answer': 'Teach them then or bear',\n",
       "   'score': -6.630184650421143,\n",
       "   'probability': 0.30390455816410983,\n",
       "   'context': 'Men exist for the sake of one another. Teach them then or bear with them.',\n",
       "   'offset_start': 39,\n",
       "   'offset_end': 62,\n",
       "   'offset_start_in_doc': 39,\n",
       "   'offset_end_in_doc': 62,\n",
       "   'document_id': 'f7daa93c-81d6-4e07-b21e-3804931184a4',\n",
       "   'meta': {'source': 'meditations'}},\n",
       "  {'answer': 'fig-tree to have juice',\n",
       "   'score': -6.850341796875,\n",
       "   'probability': 0.2981144832195297,\n",
       "   'context': 'It is natural that these things should be done by such persons, it is a matter of necessity; and if a man will not have it so, he will not allow the fig-tree to have juice. But by all means bear this in mind, that within a very short time both thou and he will be dead; and soon not even your names will be left behind.',\n",
       "   'offset_start': 149,\n",
       "   'offset_end': 171,\n",
       "   'offset_start_in_doc': 149,\n",
       "   'offset_end_in_doc': 171,\n",
       "   'document_id': '5a0f2e3f-d938-4a1b-a44a-f92a908cc55d',\n",
       "   'meta': {'source': 'meditations'}},\n",
       "  {'answer': 'foul smell and blood in a bag',\n",
       "   'score': -7.881340026855469,\n",
       "   'probability': 0.271867642234603,\n",
       "   'context': 'Does Panthea or Pergamus now sit by the tomb of Verus? Does Chaurias or Diotimus sit by the tomb of Hadrian? That would be ridiculous. Well, suppose they did sit there, would the dead be conscious of it? And if the dead were conscious, would they be pleased? And if they were pleased, would that make them immortal? Was it not in the order of destiny that these persons too should first become old women and old men and then die? What then would those do after these were dead? All this is foul smell and blood in a bag.',\n",
       "   'offset_start': 490,\n",
       "   'offset_end': 519,\n",
       "   'offset_start_in_doc': 490,\n",
       "   'offset_end_in_doc': 519,\n",
       "   'document_id': '3b9851f1-00eb-48ef-9f57-87aed9cdf842',\n",
       "   'meta': {'source': 'meditations'}}]}"
      ]
     },
     "execution_count": 27,
     "metadata": {},
     "output_type": "execute_result"
    }
   ],
   "source": [
    "qa.run(query='What did your grandfather teach?')\n"
   ]
  },
  {
   "cell_type": "code",
   "execution_count": 28,
   "id": "a1c9dad3",
   "metadata": {},
   "outputs": [
    {
     "name": "stderr",
     "output_type": "stream",
     "text": [
      "08/10/2022 10:56:26 - INFO - elasticsearch -   POST http://localhost:9200/aurelius/_search [status:200 request:0.060s]\n",
      "Inferencing Samples: 100%|█████████████████████████████████████████████████████████| 1/1 [00:00<00:00,  1.00 Batches/s]\n",
      "Inferencing Samples: 100%|█████████████████████████████████████████████████████████| 1/1 [00:00<00:00,  1.38 Batches/s]\n",
      "Inferencing Samples: 100%|█████████████████████████████████████████████████████████| 1/1 [00:00<00:00,  1.25 Batches/s]\n",
      "Inferencing Samples: 100%|█████████████████████████████████████████████████████████| 1/1 [00:00<00:00,  1.33 Batches/s]\n",
      "Inferencing Samples: 100%|█████████████████████████████████████████████████████████| 1/1 [00:00<00:00,  1.52 Batches/s]\n",
      "Inferencing Samples: 100%|█████████████████████████████████████████████████████████| 1/1 [00:00<00:00,  1.43 Batches/s]\n",
      "Inferencing Samples: 100%|█████████████████████████████████████████████████████████| 1/1 [00:00<00:00,  1.11 Batches/s]\n",
      "Inferencing Samples: 100%|█████████████████████████████████████████████████████████| 1/1 [00:00<00:00,  1.07 Batches/s]\n",
      "Inferencing Samples: 100%|█████████████████████████████████████████████████████████| 1/1 [00:00<00:00,  1.03 Batches/s]\n",
      "Inferencing Samples: 100%|█████████████████████████████████████████████████████████| 1/1 [00:00<00:00,  1.14 Batches/s]\n"
     ]
    },
    {
     "data": {
      "text/plain": [
       "{'query': 'What is the Universe?',\n",
       " 'no_ans_gap': 9.206113815307617,\n",
       " 'answers': [{'answer': 'a well-arranged universe',\n",
       "   'score': 12.657489776611328,\n",
       "   'probability': 0.8295139175329398,\n",
       "   'context': 'Either it is a well-arranged universe or a chaos huddled together, but still a universe. But can a certain order subsist in thee, and disorder in the All? And this too when all things are so separated and diffused and sympathetic.',\n",
       "   'offset_start': 13,\n",
       "   'offset_end': 37,\n",
       "   'offset_start_in_doc': 13,\n",
       "   'offset_end_in_doc': 37,\n",
       "   'document_id': '9c90031a-7b69-4856-8c16-0012ea941ff7',\n",
       "   'meta': {'source': 'meditations'}},\n",
       "  {'answer': 'the universe loves to make whatever is about to be',\n",
       "   'score': 10.453649520874023,\n",
       "   'probability': 0.7869614603311372,\n",
       "   'context': '\"The earth loves the shower\"; and \"the solemn aether loves\": and the universe loves to make whatever is about to be. I say then to the universe, that I love as thou lovest. And is not this too said, that \"this or that loves (is wont) to be produced\"?',\n",
       "   'offset_start': 65,\n",
       "   'offset_end': 115,\n",
       "   'offset_start_in_doc': 65,\n",
       "   'offset_end_in_doc': 115,\n",
       "   'document_id': '46af2af6-d59b-47cf-bb36-0a1253c96d26',\n",
       "   'meta': {'source': 'meditations'}},\n",
       "  {'answer': 'universe',\n",
       "   'score': 6.486274242401123,\n",
       "   'probability': 0.6922766044945539,\n",
       "   'context': 'What is thy art? To be good. And how is this accomplished well except by general principles, some about the nature of the universe, and others about the proper constitution of man?',\n",
       "   'offset_start': 122,\n",
       "   'offset_end': 130,\n",
       "   'offset_start_in_doc': 122,\n",
       "   'offset_end_in_doc': 130,\n",
       "   'document_id': 'f8e8a00b-af44-4f1c-b780-31a9ca8652a1',\n",
       "   'meta': {'source': 'meditations'}}]}"
      ]
     },
     "execution_count": 28,
     "metadata": {},
     "output_type": "execute_result"
    }
   ],
   "source": [
    "qa.run(query='What is the Universe?',top_k_reader=3)\n"
   ]
  },
  {
   "cell_type": "code",
   "execution_count": 29,
   "id": "a024bce8",
   "metadata": {},
   "outputs": [
    {
     "name": "stderr",
     "output_type": "stream",
     "text": [
      "08/10/2022 10:57:13 - INFO - elasticsearch -   POST http://localhost:9200/aurelius/_search [status:200 request:0.034s]\n",
      "Inferencing Samples: 100%|█████████████████████████████████████████████████████████| 1/1 [00:01<00:00,  1.05s/ Batches]\n",
      "Inferencing Samples: 100%|█████████████████████████████████████████████████████████| 1/1 [00:00<00:00,  1.14 Batches/s]\n",
      "Inferencing Samples: 100%|█████████████████████████████████████████████████████████| 1/1 [00:00<00:00,  1.10 Batches/s]\n",
      "Inferencing Samples: 100%|█████████████████████████████████████████████████████████| 1/1 [00:00<00:00,  1.10 Batches/s]\n",
      "Inferencing Samples: 100%|█████████████████████████████████████████████████████████| 1/1 [00:00<00:00,  1.02 Batches/s]\n",
      "Inferencing Samples: 100%|█████████████████████████████████████████████████████████| 1/1 [00:01<00:00,  1.06s/ Batches]\n",
      "Inferencing Samples: 100%|█████████████████████████████████████████████████████████| 1/1 [00:00<00:00,  1.08 Batches/s]\n",
      "Inferencing Samples: 100%|█████████████████████████████████████████████████████████| 1/1 [00:00<00:00,  1.24 Batches/s]\n",
      "Inferencing Samples: 100%|█████████████████████████████████████████████████████████| 1/1 [00:00<00:00,  1.08 Batches/s]\n",
      "Inferencing Samples: 100%|█████████████████████████████████████████████████████████| 1/1 [00:00<00:00,  1.23 Batches/s]\n"
     ]
    },
    {
     "data": {
      "text/plain": [
       "{'query': 'What is art?',\n",
       " 'no_ans_gap': 4.066239833831787,\n",
       " 'answers': [{'answer': 'the acts of life',\n",
       "   'score': 6.920151233673096,\n",
       "   'probability': 0.703708179598843,\n",
       "   'context': 'Let it make no difference to thee whether thou art cold or warm, if thou art doing thy duty; and whether thou art drowsy or satisfied with sleep; and whether ill-spoken of or praised; and whether dying or doing something else. For it is one of the acts of life, this act by which we die: it is sufficient then in this act also to do well what we have in hand.',\n",
       "   'offset_start': 244,\n",
       "   'offset_end': 260,\n",
       "   'offset_start_in_doc': 244,\n",
       "   'offset_end_in_doc': 260,\n",
       "   'document_id': '0873c884-c5a0-4d39-bab0-fff70a8dd6c4',\n",
       "   'meta': {'source': 'meditations'}},\n",
       "  {'answer': 'To be good',\n",
       "   'score': 4.782202243804932,\n",
       "   'probability': 0.6451471606834001,\n",
       "   'context': 'What is thy art? To be good. And how is this accomplished well except by general principles, some about the nature of the universe, and others about the proper constitution of man?',\n",
       "   'offset_start': 17,\n",
       "   'offset_end': 27,\n",
       "   'offset_start_in_doc': 17,\n",
       "   'offset_end_in_doc': 27,\n",
       "   'document_id': 'f8e8a00b-af44-4f1c-b780-31a9ca8652a1',\n",
       "   'meta': {'source': 'meditations'}},\n",
       "  {'answer': 'thou art governed by nature',\n",
       "   'score': 3.584355592727661,\n",
       "   'probability': 0.6101741837286676,\n",
       "   'context': 'Observe what thy nature requires, so far as thou art governed by nature only: then do it and accept it, if thy nature, so far as thou art a living being, shall not be made worse by it.',\n",
       "   'offset_start': 44,\n",
       "   'offset_end': 71,\n",
       "   'offset_start_in_doc': 44,\n",
       "   'offset_end_in_doc': 71,\n",
       "   'document_id': 'a3cd2aef-f8eb-4fb7-a40b-f463e56a5341',\n",
       "   'meta': {'source': 'meditations'}}]}"
      ]
     },
     "execution_count": 29,
     "metadata": {},
     "output_type": "execute_result"
    }
   ],
   "source": [
    "qa.run(query='What is art?',\n",
    "       top_k_reader=3)"
   ]
  },
  {
   "cell_type": "code",
   "execution_count": null,
   "id": "45ef0e7a",
   "metadata": {},
   "outputs": [],
   "source": []
  }
 ],
 "metadata": {
  "kernelspec": {
   "display_name": "env-nlp-1",
   "language": "python",
   "name": "env-nlp-1"
  },
  "language_info": {
   "codemirror_mode": {
    "name": "ipython",
    "version": 3
   },
   "file_extension": ".py",
   "mimetype": "text/x-python",
   "name": "python",
   "nbconvert_exporter": "python",
   "pygments_lexer": "ipython3",
   "version": "3.7.12"
  }
 },
 "nbformat": 4,
 "nbformat_minor": 5
}
