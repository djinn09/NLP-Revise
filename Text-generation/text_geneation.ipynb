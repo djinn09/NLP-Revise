{
  "nbformat": 4,
  "nbformat_minor": 0,
  "metadata": {
    "colab": {
      "name": "text-geneation.ipynb",
      "provenance": [],
      "collapsed_sections": []
    },
    "kernelspec": {
      "name": "python3",
      "display_name": "Python 3"
    },
    "language_info": {
      "name": "python"
    },
    "accelerator": "GPU"
  },
  "cells": [
    {
      "cell_type": "code",
      "metadata": {
        "id": "EToXSq7cfq0l"
      },
      "source": [
        "%tensorflow_version 2.x\n",
        "import tensorflow as tf\n",
        "import string\n",
        "import requests\n"
      ],
      "execution_count": 1,
      "outputs": []
    },
    {
      "cell_type": "code",
      "metadata": {
        "colab": {
          "base_uri": "https://localhost:8080/"
        },
        "id": "PmFIRWlliSSl",
        "outputId": "a0af3b91-c910-49b6-e8d3-b8bb9660722c"
      },
      "source": [
        "!apt install build-essential libpoppler-cpp-dev pkg-config"
      ],
      "execution_count": 2,
      "outputs": [
        {
          "output_type": "stream",
          "text": [
            "Reading package lists... Done\n",
            "Building dependency tree       \n",
            "Reading state information... Done\n",
            "build-essential is already the newest version (12.4ubuntu1).\n",
            "pkg-config is already the newest version (0.29.1-0ubuntu2).\n",
            "libpoppler-cpp-dev is already the newest version (0.62.0-2ubuntu2.12).\n",
            "The following package was automatically installed and is no longer required:\n",
            "  libnvidia-common-460\n",
            "Use 'apt autoremove' to remove it.\n",
            "0 upgraded, 0 newly installed, 0 to remove and 34 not upgraded.\n"
          ],
          "name": "stdout"
        }
      ]
    },
    {
      "cell_type": "code",
      "metadata": {
        "colab": {
          "base_uri": "https://localhost:8080/"
        },
        "id": "tA9cdSX2f1BM",
        "outputId": "56e7599a-4fc7-4e42-d170-9ee694e2e35a"
      },
      "source": [
        "!pip install pdftotext"
      ],
      "execution_count": 3,
      "outputs": [
        {
          "output_type": "stream",
          "text": [
            "Requirement already satisfied: pdftotext in /usr/local/lib/python3.7/dist-packages (2.1.6)\n"
          ],
          "name": "stdout"
        }
      ]
    },
    {
      "cell_type": "code",
      "metadata": {
        "id": "3ynTnB-sgUyv"
      },
      "source": [
        "import pdftotext"
      ],
      "execution_count": 4,
      "outputs": []
    },
    {
      "cell_type": "code",
      "metadata": {
        "colab": {
          "base_uri": "https://localhost:8080/"
        },
        "id": "sYFdVXB1gsz7",
        "outputId": "3870d978-e6bc-400c-d55d-f6acd1baa5c3"
      },
      "source": [
        "%%time\n",
        "text = []\n",
        "with open('/content/PythonNotesForProfessionals.pdf', 'rb')  as pdfile:\n",
        "    pdf = pdftotext.PDF(pdfile)\n",
        "    for pge in pdf:\n",
        "      text.append(pge)"
      ],
      "execution_count": 5,
      "outputs": [
        {
          "output_type": "stream",
          "text": [
            "CPU times: user 8.61 s, sys: 20 ms, total: 8.63 s\n",
            "Wall time: 8.82 s\n"
          ],
          "name": "stdout"
        }
      ]
    },
    {
      "cell_type": "code",
      "metadata": {
        "id": "hg4SstCkhOOC"
      },
      "source": [
        "text = \" \".join(text[28:841])"
      ],
      "execution_count": 6,
      "outputs": []
    },
    {
      "cell_type": "code",
      "metadata": {
        "id": "kEHzD6A2hZxr"
      },
      "source": [
        "tokens = text.split()"
      ],
      "execution_count": 7,
      "outputs": []
    },
    {
      "cell_type": "code",
      "metadata": {
        "colab": {
          "base_uri": "https://localhost:8080/"
        },
        "id": "Cy2uS6tAknQA",
        "outputId": "8162526a-a14f-4789-a82b-fabc3496ed08"
      },
      "source": [
        "len(set(tokens)), len(tokens)"
      ],
      "execution_count": 8,
      "outputs": [
        {
          "output_type": "execute_result",
          "data": {
            "text/plain": [
              "(30312, 183835)"
            ]
          },
          "metadata": {
            "tags": []
          },
          "execution_count": 8
        }
      ]
    },
    {
      "cell_type": "code",
      "metadata": {
        "id": "lg1JDvXllkFp"
      },
      "source": [
        "length = 20 + 1\n",
        "lines = []\n",
        "\n",
        "for i in range(length, len(tokens)):\n",
        "  seq = tokens[i-length:i]\n",
        "  line = ' '.join(seq)\n",
        "  lines.append(line)\n",
        "  if i > 115000:\n",
        "    break\n"
      ],
      "execution_count": 9,
      "outputs": []
    },
    {
      "cell_type": "code",
      "metadata": {
        "colab": {
          "base_uri": "https://localhost:8080/",
          "height": 54
        },
        "id": "Zqs5hcE-nZhP",
        "outputId": "bf3c1f6c-2995-4acd-f5f9-bca9ba33f781"
      },
      "source": [
        "lines[0]"
      ],
      "execution_count": 10,
      "outputs": [
        {
          "output_type": "execute_result",
          "data": {
            "application/vnd.google.colaboratory.intrinsic+json": {
              "type": "string"
            },
            "text/plain": [
              "'You can use the Python 3 print function in Python 2 with the following import statement: from __future__ import print_function Python'"
            ]
          },
          "metadata": {
            "tags": []
          },
          "execution_count": 10
        }
      ]
    },
    {
      "cell_type": "code",
      "metadata": {
        "id": "FPa-sg7xnbjf"
      },
      "source": [
        "import numpy as np\n",
        "from tensorflow.keras.preprocessing.text import Tokenizer\n",
        "from tensorflow.keras.utils import to_categorical\n",
        "from tensorflow.keras.models import Sequential\n",
        "from tensorflow.keras.layers import Dense, LSTM, Embedding\n",
        "from tensorflow.keras.preprocessing.sequence import pad_sequences"
      ],
      "execution_count": 11,
      "outputs": []
    },
    {
      "cell_type": "code",
      "metadata": {
        "id": "SgPZ_4_FnkpY"
      },
      "source": [
        "tokenizer = Tokenizer(filters=\"\",lower=False)"
      ],
      "execution_count": 12,
      "outputs": []
    },
    {
      "cell_type": "code",
      "metadata": {
        "id": "cpXEtosZnvat"
      },
      "source": [
        "tokenizer.fit_on_texts(lines)\n",
        "seq = tokenizer.texts_to_sequences(lines)"
      ],
      "execution_count": 13,
      "outputs": []
    },
    {
      "cell_type": "code",
      "metadata": {
        "id": "TeddgOAvoC4P"
      },
      "source": [
        "seq = np.array(seq)\n",
        "X, y = seq[:, :-1], seq[:,-1]\n"
      ],
      "execution_count": 14,
      "outputs": []
    },
    {
      "cell_type": "code",
      "metadata": {
        "id": "Jcu2_3IeoW0A"
      },
      "source": [
        "vocab_size = len(tokenizer.word_index) + 1"
      ],
      "execution_count": 15,
      "outputs": []
    },
    {
      "cell_type": "code",
      "metadata": {
        "id": "qiLLAZeaogDj"
      },
      "source": [
        "y = to_categorical(y,num_classes=vocab_size)"
      ],
      "execution_count": 16,
      "outputs": []
    },
    {
      "cell_type": "code",
      "metadata": {
        "colab": {
          "base_uri": "https://localhost:8080/"
        },
        "id": "bSplx-xoomnO",
        "outputId": "62b0b442-7c22-4d3c-f190-bc45fc23f3b4"
      },
      "source": [
        "seq_length = X.shape[1]\n",
        "seq_length"
      ],
      "execution_count": 17,
      "outputs": [
        {
          "output_type": "execute_result",
          "data": {
            "text/plain": [
              "20"
            ]
          },
          "metadata": {
            "tags": []
          },
          "execution_count": 17
        }
      ]
    },
    {
      "cell_type": "code",
      "metadata": {
        "id": "_DoC970vzqtJ"
      },
      "source": [
        "import os\n",
        "checkpoint_path = \"training_1/cp.ckpt\"\n",
        "checkpoint_dir = os.path.dirname(checkpoint_path)\n",
        "\n",
        "# Create a callback that saves the model's weights\n",
        "cp_callback = tf.keras.callbacks.ModelCheckpoint(filepath=checkpoint_path,\n",
        "                                                 save_weights_only=True,\n",
        "                                                 verbose=1)\n"
      ],
      "execution_count": 22,
      "outputs": []
    },
    {
      "cell_type": "code",
      "metadata": {
        "id": "6P8WyVF-oxVw"
      },
      "source": [
        "model = Sequential()\n",
        "model.add(Embedding(vocab_size, 50, input_length=seq_length))\n",
        "model.add(LSTM(100, return_sequences=True))\n",
        "model.add(LSTM(100))\n",
        "model.add(Dense(100, activation='relu'))\n",
        "model.add(Dense(vocab_size, activation='softmax'))"
      ],
      "execution_count": 23,
      "outputs": []
    },
    {
      "cell_type": "code",
      "metadata": {
        "colab": {
          "base_uri": "https://localhost:8080/"
        },
        "id": "a65fwLk0s4l0",
        "outputId": "f0cd9d88-528f-4a98-9a68-97b4b5c83bd7"
      },
      "source": [
        "model.summary()"
      ],
      "execution_count": 24,
      "outputs": [
        {
          "output_type": "stream",
          "text": [
            "Model: \"sequential_1\"\n",
            "_________________________________________________________________\n",
            "Layer (type)                 Output Shape              Param #   \n",
            "=================================================================\n",
            "embedding_1 (Embedding)      (None, 20, 50)            1003000   \n",
            "_________________________________________________________________\n",
            "lstm_2 (LSTM)                (None, 20, 100)           60400     \n",
            "_________________________________________________________________\n",
            "lstm_3 (LSTM)                (None, 100)               80400     \n",
            "_________________________________________________________________\n",
            "dense_2 (Dense)              (None, 100)               10100     \n",
            "_________________________________________________________________\n",
            "dense_3 (Dense)              (None, 20060)             2026060   \n",
            "=================================================================\n",
            "Total params: 3,179,960\n",
            "Trainable params: 3,179,960\n",
            "Non-trainable params: 0\n",
            "_________________________________________________________________\n"
          ],
          "name": "stdout"
        }
      ]
    },
    {
      "cell_type": "code",
      "metadata": {
        "id": "SatJVnChs8JP"
      },
      "source": [
        "model.compile(loss = 'categorical_crossentropy', optimizer = 'adam', metrics = ['accuracy'])"
      ],
      "execution_count": 25,
      "outputs": []
    },
    {
      "cell_type": "code",
      "metadata": {
        "colab": {
          "base_uri": "https://localhost:8080/"
        },
        "id": "3EykrPkis_rr",
        "outputId": "01ff500b-5f4e-41f5-b463-60460970b638"
      },
      "source": [
        "model.fit(X, y, batch_size = 256, epochs = 100,callbacks=[cp_callback])"
      ],
      "execution_count": 26,
      "outputs": [
        {
          "output_type": "stream",
          "text": [
            "Epoch 1/100\n",
            "450/450 [==============================] - 18s 34ms/step - loss: 8.2387 - accuracy: 0.0337\n",
            "\n",
            "Epoch 00001: saving model to training_1/cp.ckpt\n",
            "Epoch 2/100\n",
            "450/450 [==============================] - 15s 34ms/step - loss: 7.4374 - accuracy: 0.0352\n",
            "\n",
            "Epoch 00002: saving model to training_1/cp.ckpt\n",
            "Epoch 3/100\n",
            "450/450 [==============================] - 15s 34ms/step - loss: 7.1529 - accuracy: 0.0618\n",
            "\n",
            "Epoch 00003: saving model to training_1/cp.ckpt\n",
            "Epoch 4/100\n",
            "450/450 [==============================] - 15s 34ms/step - loss: 6.7755 - accuracy: 0.0860\n",
            "\n",
            "Epoch 00004: saving model to training_1/cp.ckpt\n",
            "Epoch 5/100\n",
            "450/450 [==============================] - 15s 34ms/step - loss: 6.4245 - accuracy: 0.1056\n",
            "\n",
            "Epoch 00005: saving model to training_1/cp.ckpt\n",
            "Epoch 6/100\n",
            "450/450 [==============================] - 15s 34ms/step - loss: 6.1391 - accuracy: 0.1238\n",
            "\n",
            "Epoch 00006: saving model to training_1/cp.ckpt\n",
            "Epoch 7/100\n",
            "450/450 [==============================] - 15s 34ms/step - loss: 5.8862 - accuracy: 0.1399\n",
            "\n",
            "Epoch 00007: saving model to training_1/cp.ckpt\n",
            "Epoch 8/100\n",
            "450/450 [==============================] - 15s 34ms/step - loss: 5.6859 - accuracy: 0.1517\n",
            "\n",
            "Epoch 00008: saving model to training_1/cp.ckpt\n",
            "Epoch 9/100\n",
            "450/450 [==============================] - 16s 35ms/step - loss: 5.4851 - accuracy: 0.1614\n",
            "\n",
            "Epoch 00009: saving model to training_1/cp.ckpt\n",
            "Epoch 10/100\n",
            "450/450 [==============================] - 16s 35ms/step - loss: 5.3121 - accuracy: 0.1709\n",
            "\n",
            "Epoch 00010: saving model to training_1/cp.ckpt\n",
            "Epoch 11/100\n",
            "450/450 [==============================] - 16s 35ms/step - loss: 5.1135 - accuracy: 0.1805\n",
            "\n",
            "Epoch 00011: saving model to training_1/cp.ckpt\n",
            "Epoch 12/100\n",
            "450/450 [==============================] - 16s 35ms/step - loss: 4.9300 - accuracy: 0.1911\n",
            "\n",
            "Epoch 00012: saving model to training_1/cp.ckpt\n",
            "Epoch 13/100\n",
            "450/450 [==============================] - 15s 34ms/step - loss: 4.7516 - accuracy: 0.2036\n",
            "\n",
            "Epoch 00013: saving model to training_1/cp.ckpt\n",
            "Epoch 14/100\n",
            "450/450 [==============================] - 16s 35ms/step - loss: 4.5812 - accuracy: 0.2127\n",
            "\n",
            "Epoch 00014: saving model to training_1/cp.ckpt\n",
            "Epoch 15/100\n",
            "450/450 [==============================] - 16s 35ms/step - loss: 4.4295 - accuracy: 0.2228\n",
            "\n",
            "Epoch 00015: saving model to training_1/cp.ckpt\n",
            "Epoch 16/100\n",
            "450/450 [==============================] - 17s 37ms/step - loss: 4.2713 - accuracy: 0.2338\n",
            "\n",
            "Epoch 00016: saving model to training_1/cp.ckpt\n",
            "Epoch 17/100\n",
            "450/450 [==============================] - 16s 36ms/step - loss: 4.1217 - accuracy: 0.2473\n",
            "\n",
            "Epoch 00017: saving model to training_1/cp.ckpt\n",
            "Epoch 18/100\n",
            "450/450 [==============================] - 16s 36ms/step - loss: 4.0084 - accuracy: 0.2586\n",
            "\n",
            "Epoch 00018: saving model to training_1/cp.ckpt\n",
            "Epoch 19/100\n",
            "450/450 [==============================] - 16s 35ms/step - loss: 3.8551 - accuracy: 0.2749\n",
            "\n",
            "Epoch 00019: saving model to training_1/cp.ckpt\n",
            "Epoch 20/100\n",
            "450/450 [==============================] - 16s 35ms/step - loss: 3.7398 - accuracy: 0.2897\n",
            "\n",
            "Epoch 00020: saving model to training_1/cp.ckpt\n",
            "Epoch 21/100\n",
            "450/450 [==============================] - 16s 35ms/step - loss: 3.6294 - accuracy: 0.3018\n",
            "\n",
            "Epoch 00021: saving model to training_1/cp.ckpt\n",
            "Epoch 22/100\n",
            "450/450 [==============================] - 16s 35ms/step - loss: 3.5319 - accuracy: 0.3123\n",
            "\n",
            "Epoch 00022: saving model to training_1/cp.ckpt\n",
            "Epoch 23/100\n",
            "450/450 [==============================] - 16s 36ms/step - loss: 3.4337 - accuracy: 0.3271\n",
            "\n",
            "Epoch 00023: saving model to training_1/cp.ckpt\n",
            "Epoch 24/100\n",
            "450/450 [==============================] - 16s 36ms/step - loss: 3.3405 - accuracy: 0.3411\n",
            "\n",
            "Epoch 00024: saving model to training_1/cp.ckpt\n",
            "Epoch 25/100\n",
            "450/450 [==============================] - 16s 36ms/step - loss: 3.2544 - accuracy: 0.3521\n",
            "\n",
            "Epoch 00025: saving model to training_1/cp.ckpt\n",
            "Epoch 26/100\n",
            "450/450 [==============================] - 16s 35ms/step - loss: 3.1931 - accuracy: 0.3604\n",
            "\n",
            "Epoch 00026: saving model to training_1/cp.ckpt\n",
            "Epoch 27/100\n",
            "450/450 [==============================] - 16s 35ms/step - loss: 3.0971 - accuracy: 0.3737\n",
            "\n",
            "Epoch 00027: saving model to training_1/cp.ckpt\n",
            "Epoch 28/100\n",
            "450/450 [==============================] - 16s 35ms/step - loss: 3.0283 - accuracy: 0.3850\n",
            "\n",
            "Epoch 00028: saving model to training_1/cp.ckpt\n",
            "Epoch 29/100\n",
            "450/450 [==============================] - 16s 35ms/step - loss: 2.9653 - accuracy: 0.3951\n",
            "\n",
            "Epoch 00029: saving model to training_1/cp.ckpt\n",
            "Epoch 30/100\n",
            "450/450 [==============================] - 16s 36ms/step - loss: 2.9122 - accuracy: 0.4015\n",
            "\n",
            "Epoch 00030: saving model to training_1/cp.ckpt\n",
            "Epoch 31/100\n",
            "450/450 [==============================] - 16s 35ms/step - loss: 2.8472 - accuracy: 0.4132\n",
            "\n",
            "Epoch 00031: saving model to training_1/cp.ckpt\n",
            "Epoch 32/100\n",
            "450/450 [==============================] - 16s 35ms/step - loss: 2.7942 - accuracy: 0.4193\n",
            "\n",
            "Epoch 00032: saving model to training_1/cp.ckpt\n",
            "Epoch 33/100\n",
            "450/450 [==============================] - 16s 35ms/step - loss: 2.7308 - accuracy: 0.4297\n",
            "\n",
            "Epoch 00033: saving model to training_1/cp.ckpt\n",
            "Epoch 34/100\n",
            "450/450 [==============================] - 16s 35ms/step - loss: 2.6715 - accuracy: 0.4398\n",
            "\n",
            "Epoch 00034: saving model to training_1/cp.ckpt\n",
            "Epoch 35/100\n",
            "450/450 [==============================] - 16s 35ms/step - loss: 2.6380 - accuracy: 0.4463\n",
            "\n",
            "Epoch 00035: saving model to training_1/cp.ckpt\n",
            "Epoch 36/100\n",
            "450/450 [==============================] - 16s 35ms/step - loss: 2.5873 - accuracy: 0.4536\n",
            "\n",
            "Epoch 00036: saving model to training_1/cp.ckpt\n",
            "Epoch 37/100\n",
            "450/450 [==============================] - 16s 35ms/step - loss: 2.5449 - accuracy: 0.4623\n",
            "\n",
            "Epoch 00037: saving model to training_1/cp.ckpt\n",
            "Epoch 38/100\n",
            "450/450 [==============================] - 16s 35ms/step - loss: 2.4979 - accuracy: 0.4705\n",
            "\n",
            "Epoch 00038: saving model to training_1/cp.ckpt\n",
            "Epoch 39/100\n",
            "450/450 [==============================] - 16s 35ms/step - loss: 2.4437 - accuracy: 0.4797\n",
            "\n",
            "Epoch 00039: saving model to training_1/cp.ckpt\n",
            "Epoch 40/100\n",
            "450/450 [==============================] - 16s 35ms/step - loss: 2.3836 - accuracy: 0.4867\n",
            "\n",
            "Epoch 00040: saving model to training_1/cp.ckpt\n",
            "Epoch 41/100\n",
            "450/450 [==============================] - 16s 35ms/step - loss: 2.3674 - accuracy: 0.4934\n",
            "\n",
            "Epoch 00041: saving model to training_1/cp.ckpt\n",
            "Epoch 42/100\n",
            "450/450 [==============================] - 16s 35ms/step - loss: 2.3240 - accuracy: 0.5014\n",
            "\n",
            "Epoch 00042: saving model to training_1/cp.ckpt\n",
            "Epoch 43/100\n",
            "450/450 [==============================] - 16s 35ms/step - loss: 2.2841 - accuracy: 0.5057\n",
            "\n",
            "Epoch 00043: saving model to training_1/cp.ckpt\n",
            "Epoch 44/100\n",
            "450/450 [==============================] - 16s 35ms/step - loss: 2.2553 - accuracy: 0.5111\n",
            "\n",
            "Epoch 00044: saving model to training_1/cp.ckpt\n",
            "Epoch 45/100\n",
            "450/450 [==============================] - 16s 35ms/step - loss: 2.2084 - accuracy: 0.5218\n",
            "\n",
            "Epoch 00045: saving model to training_1/cp.ckpt\n",
            "Epoch 46/100\n",
            "450/450 [==============================] - 16s 35ms/step - loss: 2.1659 - accuracy: 0.5272\n",
            "\n",
            "Epoch 00046: saving model to training_1/cp.ckpt\n",
            "Epoch 47/100\n",
            "450/450 [==============================] - 16s 35ms/step - loss: 2.1395 - accuracy: 0.5321\n",
            "\n",
            "Epoch 00047: saving model to training_1/cp.ckpt\n",
            "Epoch 48/100\n",
            "450/450 [==============================] - 16s 35ms/step - loss: 2.0938 - accuracy: 0.5426\n",
            "\n",
            "Epoch 00048: saving model to training_1/cp.ckpt\n",
            "Epoch 49/100\n",
            "450/450 [==============================] - 16s 35ms/step - loss: 2.0642 - accuracy: 0.5477\n",
            "\n",
            "Epoch 00049: saving model to training_1/cp.ckpt\n",
            "Epoch 50/100\n",
            "450/450 [==============================] - 16s 35ms/step - loss: 2.0295 - accuracy: 0.5522\n",
            "\n",
            "Epoch 00050: saving model to training_1/cp.ckpt\n",
            "Epoch 51/100\n",
            "450/450 [==============================] - 16s 35ms/step - loss: 1.9922 - accuracy: 0.5590\n",
            "\n",
            "Epoch 00051: saving model to training_1/cp.ckpt\n",
            "Epoch 52/100\n",
            "450/450 [==============================] - 16s 35ms/step - loss: 1.9630 - accuracy: 0.5659\n",
            "\n",
            "Epoch 00052: saving model to training_1/cp.ckpt\n",
            "Epoch 53/100\n",
            "450/450 [==============================] - 16s 35ms/step - loss: 1.9522 - accuracy: 0.5668\n",
            "\n",
            "Epoch 00053: saving model to training_1/cp.ckpt\n",
            "Epoch 54/100\n",
            "450/450 [==============================] - 16s 35ms/step - loss: 1.9168 - accuracy: 0.5755\n",
            "\n",
            "Epoch 00054: saving model to training_1/cp.ckpt\n",
            "Epoch 55/100\n",
            "450/450 [==============================] - 16s 35ms/step - loss: 1.8809 - accuracy: 0.5801\n",
            "\n",
            "Epoch 00055: saving model to training_1/cp.ckpt\n",
            "Epoch 56/100\n",
            "450/450 [==============================] - 16s 35ms/step - loss: 1.8490 - accuracy: 0.5871\n",
            "\n",
            "Epoch 00056: saving model to training_1/cp.ckpt\n",
            "Epoch 57/100\n",
            "450/450 [==============================] - 16s 35ms/step - loss: 1.8248 - accuracy: 0.5899\n",
            "\n",
            "Epoch 00057: saving model to training_1/cp.ckpt\n",
            "Epoch 58/100\n",
            "450/450 [==============================] - 16s 35ms/step - loss: 1.8066 - accuracy: 0.5960\n",
            "\n",
            "Epoch 00058: saving model to training_1/cp.ckpt\n",
            "Epoch 59/100\n",
            "450/450 [==============================] - 16s 35ms/step - loss: 1.7709 - accuracy: 0.6024\n",
            "\n",
            "Epoch 00059: saving model to training_1/cp.ckpt\n",
            "Epoch 60/100\n",
            "450/450 [==============================] - 16s 35ms/step - loss: 1.7482 - accuracy: 0.6053\n",
            "\n",
            "Epoch 00060: saving model to training_1/cp.ckpt\n",
            "Epoch 61/100\n",
            "450/450 [==============================] - 16s 35ms/step - loss: 1.7040 - accuracy: 0.6139\n",
            "\n",
            "Epoch 00061: saving model to training_1/cp.ckpt\n",
            "Epoch 62/100\n",
            "450/450 [==============================] - 16s 35ms/step - loss: 1.6956 - accuracy: 0.6156\n",
            "\n",
            "Epoch 00062: saving model to training_1/cp.ckpt\n",
            "Epoch 63/100\n",
            "450/450 [==============================] - 16s 36ms/step - loss: 1.6756 - accuracy: 0.6195\n",
            "\n",
            "Epoch 00063: saving model to training_1/cp.ckpt\n",
            "Epoch 64/100\n",
            "450/450 [==============================] - 16s 36ms/step - loss: 1.6453 - accuracy: 0.6261\n",
            "\n",
            "Epoch 00064: saving model to training_1/cp.ckpt\n",
            "Epoch 65/100\n",
            "450/450 [==============================] - 16s 35ms/step - loss: 1.6210 - accuracy: 0.6308\n",
            "\n",
            "Epoch 00065: saving model to training_1/cp.ckpt\n",
            "Epoch 66/100\n",
            "450/450 [==============================] - 16s 35ms/step - loss: 1.5970 - accuracy: 0.6350\n",
            "\n",
            "Epoch 00066: saving model to training_1/cp.ckpt\n",
            "Epoch 67/100\n",
            "450/450 [==============================] - 16s 34ms/step - loss: 1.5749 - accuracy: 0.6401\n",
            "\n",
            "Epoch 00067: saving model to training_1/cp.ckpt\n",
            "Epoch 68/100\n",
            "450/450 [==============================] - 16s 35ms/step - loss: 1.5694 - accuracy: 0.6409\n",
            "\n",
            "Epoch 00068: saving model to training_1/cp.ckpt\n",
            "Epoch 69/100\n",
            "450/450 [==============================] - 16s 35ms/step - loss: 1.5278 - accuracy: 0.6496\n",
            "\n",
            "Epoch 00069: saving model to training_1/cp.ckpt\n",
            "Epoch 70/100\n",
            "450/450 [==============================] - 16s 35ms/step - loss: 1.5133 - accuracy: 0.6513\n",
            "\n",
            "Epoch 00070: saving model to training_1/cp.ckpt\n",
            "Epoch 71/100\n",
            "450/450 [==============================] - 16s 35ms/step - loss: 1.4935 - accuracy: 0.6559\n",
            "\n",
            "Epoch 00071: saving model to training_1/cp.ckpt\n",
            "Epoch 72/100\n",
            "450/450 [==============================] - 16s 35ms/step - loss: 1.4681 - accuracy: 0.6618\n",
            "\n",
            "Epoch 00072: saving model to training_1/cp.ckpt\n",
            "Epoch 73/100\n",
            "450/450 [==============================] - 16s 35ms/step - loss: 1.4464 - accuracy: 0.6670\n",
            "\n",
            "Epoch 00073: saving model to training_1/cp.ckpt\n",
            "Epoch 74/100\n",
            "450/450 [==============================] - 16s 35ms/step - loss: 1.4335 - accuracy: 0.6680\n",
            "\n",
            "Epoch 00074: saving model to training_1/cp.ckpt\n",
            "Epoch 75/100\n",
            "450/450 [==============================] - 16s 35ms/step - loss: 1.4224 - accuracy: 0.6714\n",
            "\n",
            "Epoch 00075: saving model to training_1/cp.ckpt\n",
            "Epoch 76/100\n",
            "450/450 [==============================] - 16s 35ms/step - loss: 1.3913 - accuracy: 0.6770\n",
            "\n",
            "Epoch 00076: saving model to training_1/cp.ckpt\n",
            "Epoch 77/100\n",
            "450/450 [==============================] - 16s 35ms/step - loss: 1.3767 - accuracy: 0.6797\n",
            "\n",
            "Epoch 00077: saving model to training_1/cp.ckpt\n",
            "Epoch 78/100\n",
            "450/450 [==============================] - 16s 35ms/step - loss: 1.3584 - accuracy: 0.6850\n",
            "\n",
            "Epoch 00078: saving model to training_1/cp.ckpt\n",
            "Epoch 79/100\n",
            "450/450 [==============================] - 16s 35ms/step - loss: 1.3277 - accuracy: 0.6904\n",
            "\n",
            "Epoch 00079: saving model to training_1/cp.ckpt\n",
            "Epoch 80/100\n",
            "450/450 [==============================] - 16s 35ms/step - loss: 1.3102 - accuracy: 0.6926\n",
            "\n",
            "Epoch 00080: saving model to training_1/cp.ckpt\n",
            "Epoch 81/100\n",
            "450/450 [==============================] - 16s 35ms/step - loss: 1.3007 - accuracy: 0.6965\n",
            "\n",
            "Epoch 00081: saving model to training_1/cp.ckpt\n",
            "Epoch 82/100\n",
            "450/450 [==============================] - 15s 34ms/step - loss: 1.2874 - accuracy: 0.6983\n",
            "\n",
            "Epoch 00082: saving model to training_1/cp.ckpt\n",
            "Epoch 83/100\n",
            "450/450 [==============================] - 15s 34ms/step - loss: 1.2618 - accuracy: 0.7043\n",
            "\n",
            "Epoch 00083: saving model to training_1/cp.ckpt\n",
            "Epoch 84/100\n",
            "450/450 [==============================] - 16s 35ms/step - loss: 1.2451 - accuracy: 0.7065\n",
            "\n",
            "Epoch 00084: saving model to training_1/cp.ckpt\n",
            "Epoch 85/100\n",
            "450/450 [==============================] - 15s 34ms/step - loss: 1.2119 - accuracy: 0.7152\n",
            "\n",
            "Epoch 00085: saving model to training_1/cp.ckpt\n",
            "Epoch 86/100\n",
            "450/450 [==============================] - 16s 35ms/step - loss: 1.1973 - accuracy: 0.7193\n",
            "\n",
            "Epoch 00086: saving model to training_1/cp.ckpt\n",
            "Epoch 87/100\n",
            "450/450 [==============================] - 15s 34ms/step - loss: 1.1920 - accuracy: 0.7191\n",
            "\n",
            "Epoch 00087: saving model to training_1/cp.ckpt\n",
            "Epoch 88/100\n",
            "450/450 [==============================] - 16s 35ms/step - loss: 1.1732 - accuracy: 0.7227\n",
            "\n",
            "Epoch 00088: saving model to training_1/cp.ckpt\n",
            "Epoch 89/100\n",
            "450/450 [==============================] - 16s 35ms/step - loss: 1.1673 - accuracy: 0.7230\n",
            "\n",
            "Epoch 00089: saving model to training_1/cp.ckpt\n",
            "Epoch 90/100\n",
            "450/450 [==============================] - 16s 34ms/step - loss: 1.1407 - accuracy: 0.7306\n",
            "\n",
            "Epoch 00090: saving model to training_1/cp.ckpt\n",
            "Epoch 91/100\n",
            "450/450 [==============================] - 16s 34ms/step - loss: 1.1159 - accuracy: 0.7368\n",
            "\n",
            "Epoch 00091: saving model to training_1/cp.ckpt\n",
            "Epoch 92/100\n",
            "450/450 [==============================] - 15s 34ms/step - loss: 1.1023 - accuracy: 0.7395\n",
            "\n",
            "Epoch 00092: saving model to training_1/cp.ckpt\n",
            "Epoch 93/100\n",
            "450/450 [==============================] - 15s 34ms/step - loss: 1.0921 - accuracy: 0.7418\n",
            "\n",
            "Epoch 00093: saving model to training_1/cp.ckpt\n",
            "Epoch 94/100\n",
            "450/450 [==============================] - 15s 34ms/step - loss: 1.0687 - accuracy: 0.7460\n",
            "\n",
            "Epoch 00094: saving model to training_1/cp.ckpt\n",
            "Epoch 95/100\n",
            "450/450 [==============================] - 15s 34ms/step - loss: 1.0650 - accuracy: 0.7467\n",
            "\n",
            "Epoch 00095: saving model to training_1/cp.ckpt\n",
            "Epoch 96/100\n",
            "450/450 [==============================] - 15s 34ms/step - loss: 1.0372 - accuracy: 0.7532\n",
            "\n",
            "Epoch 00096: saving model to training_1/cp.ckpt\n",
            "Epoch 97/100\n",
            "450/450 [==============================] - 15s 34ms/step - loss: 1.0354 - accuracy: 0.7532\n",
            "\n",
            "Epoch 00097: saving model to training_1/cp.ckpt\n",
            "Epoch 98/100\n",
            "450/450 [==============================] - 15s 34ms/step - loss: 1.0084 - accuracy: 0.7599\n",
            "\n",
            "Epoch 00098: saving model to training_1/cp.ckpt\n",
            "Epoch 99/100\n",
            "450/450 [==============================] - 15s 34ms/step - loss: 0.9952 - accuracy: 0.7630\n",
            "\n",
            "Epoch 00099: saving model to training_1/cp.ckpt\n",
            "Epoch 100/100\n",
            "450/450 [==============================] - 15s 34ms/step - loss: 0.9915 - accuracy: 0.7637\n",
            "\n",
            "Epoch 00100: saving model to training_1/cp.ckpt\n"
          ],
          "name": "stdout"
        },
        {
          "output_type": "execute_result",
          "data": {
            "text/plain": [
              "<tensorflow.python.keras.callbacks.History at 0x7fe487b41610>"
            ]
          },
          "metadata": {
            "tags": []
          },
          "execution_count": 26
        }
      ]
    },
    {
      "cell_type": "code",
      "metadata": {
        "colab": {
          "base_uri": "https://localhost:8080/"
        },
        "id": "kFVZ6Z93tDVn",
        "outputId": "9140c9f5-493b-4cdb-9f12-17b1745d5f2f"
      },
      "source": [
        "seed_text=lines[12343]\n",
        "seed_text,lines[12344]"
      ],
      "execution_count": 27,
      "outputs": [
        {
          "output_type": "execute_result",
          "data": {
            "text/plain": [
              "('False 4 not in {1,2,3} # True # Add and Remove s = {1,2,3} s.add(4) # s == {1,2,3,4} s.discard(3) #',\n",
              " '4 not in {1,2,3} # True # Add and Remove s = {1,2,3} s.add(4) # s == {1,2,3,4} s.discard(3) # s')"
            ]
          },
          "metadata": {
            "tags": []
          },
          "execution_count": 27
        }
      ]
    },
    {
      "cell_type": "code",
      "metadata": {
        "id": "GWA2fpOQxsHP"
      },
      "source": [
        "def generate_text_seq(model, tokenizer, text_seq_length, seed_text, n_words):\n",
        "  text = []\n",
        "\n",
        "  for _ in range(n_words):\n",
        "    encoded = tokenizer.texts_to_sequences([seed_text])[0]\n",
        "    encoded = pad_sequences([encoded], maxlen = text_seq_length, truncating='pre')\n",
        "\n",
        "    y_predict = model.predict_classes(encoded)\n",
        "\n",
        "    predicted_word = ''\n",
        "    for word, index in tokenizer.word_index.items():\n",
        "      if index == y_predict:\n",
        "        predicted_word = word\n",
        "        break\n",
        "    seed_text = seed_text + ' ' + predicted_word\n",
        "    text.append(predicted_word)\n",
        "  return seed_text + ' '.join(text)"
      ],
      "execution_count": 33,
      "outputs": []
    },
    {
      "cell_type": "code",
      "metadata": {
        "colab": {
          "base_uri": "https://localhost:8080/",
          "height": 126
        },
        "id": "X_ki3SrByECb",
        "outputId": "e26d929d-fa5f-4e63-979d-073e8c14945a"
      },
      "source": [
        "generate_text_seq(model, tokenizer, seq_length, \"Python is not a interpredted\", 20)"
      ],
      "execution_count": 34,
      "outputs": [
        {
          "output_type": "stream",
          "text": [
            "/usr/local/lib/python3.7/dist-packages/tensorflow/python/keras/engine/sequential.py:450: UserWarning: `model.predict_classes()` is deprecated and will be removed after 2021-01-01. Please use instead:* `np.argmax(model.predict(x), axis=-1)`,   if your model does multi-class classification   (e.g. if it uses a `softmax` last-layer activation).* `(model.predict(x) > 0.5).astype(\"int32\")`,   if your model does binary classification   (e.g. if it uses a `sigmoid` last-layer activation).\n",
            "  warnings.warn('`model.predict_classes()` is deprecated and '\n"
          ],
          "name": "stderr"
        },
        {
          "output_type": "execute_result",
          "data": {
            "application/vnd.google.colaboratory.intrinsic+json": {
              "type": "string"
            },
            "text/plain": [
              "\"Python is not a interpredted library, and prompt, so, daylight savings data s[0] # Spawn S.' Python line (combination of N,NE,E,SE,S,SW,W,NW) The module foobar.py: classlibrary, and prompt, so, daylight savings data s[0] # Spawn S.' Python line (combination of N,NE,E,SE,S,SW,W,NW) The module foobar.py: class\""
            ]
          },
          "metadata": {
            "tags": []
          },
          "execution_count": 34
        }
      ]
    },
    {
      "cell_type": "code",
      "metadata": {
        "id": "zvYPTWZWyF-p"
      },
      "source": [
        ""
      ],
      "execution_count": null,
      "outputs": []
    }
  ]
}